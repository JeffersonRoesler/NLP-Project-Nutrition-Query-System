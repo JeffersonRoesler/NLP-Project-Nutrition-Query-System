{
  "cells": [
    {
      "cell_type": "markdown",
      "metadata": {
        "id": "lMsU9t-s8Scp"
      },
      "source": [
        "## NLP PROJECT #2\n",
        "\n",
        "### Student: Jefferson Roesler"
      ]
    },
    {
      "cell_type": "markdown",
      "metadata": {
        "id": "BwaG1nTZ_8Mu"
      },
      "source": [
        "# Dataset"
      ]
    },
    {
      "cell_type": "code",
      "execution_count": null,
      "metadata": {
        "id": "0hHgVzUu82fo"
      },
      "outputs": [],
      "source": [
        "import json\n",
        "import pandas as pd\n",
        "\n",
        "# Load the JSON file\n",
        "with open('foundationDownload.json', 'r') as file:\n",
        "    data = json.load(file)"
      ]
    },
    {
      "cell_type": "code",
      "execution_count": null,
      "metadata": {
        "colab": {
          "base_uri": "https://localhost:8080/"
        },
        "id": "x3s3LefYQxbz",
        "outputId": "823b573a-4f4a-4c50-8164-c889ad6c5b41"
      },
      "outputs": [
        {
          "output_type": "stream",
          "name": "stdout",
          "text": [
            "                                         Description  Serving Size (g)  \\\n",
            "0                                 Hummus, commercial              33.9   \n",
            "1                               Tomatoes, grape, raw              49.7   \n",
            "2  Beans, snap, green, canned, regular pack, drai...             129.0   \n",
            "3                        Frankfurter, beef, unheated              48.6   \n",
            "4        Nuts, almonds, dry roasted, with salt added             135.0   \n",
            "\n",
            "   Calories  Protein  Carbohydrates    Fat  \n",
            "0     229.0     7.35          14.90  17.10  \n",
            "1     113.0     0.83           5.51   0.63  \n",
            "2      86.0     1.04           4.11   0.39  \n",
            "3    1310.0    11.70           2.89  28.00  \n",
            "4    2590.0    20.40          16.20  57.80  \n"
          ]
        }
      ],
      "source": [
        "# Extract the list of foods\n",
        "foods = data[\"FoundationFoods\"]\n",
        "\n",
        "# Flatten the data and include serving size\n",
        "def process_food_data_with_serving_size(foods):\n",
        "    processed_data = []\n",
        "    for food in foods:\n",
        "        # Extract food description\n",
        "        description = food.get(\"description\", \"Unknown\")\n",
        "\n",
        "        # Extract serving size (from 'foodPortions')\n",
        "        food_portions = food.get(\"foodPortions\", [])\n",
        "        if food_portions:\n",
        "            # Assume the first portion is the standard serving size\n",
        "            serving_size = food_portions[0].get(\"gramWeight\", 0)  # Weight in grams\n",
        "        else:\n",
        "            serving_size = 0  # Default if no portion info available\n",
        "\n",
        "        # Extract nutrients\n",
        "        nutrients = food.get(\"foodNutrients\", [])\n",
        "        nutrient_dict = {n[\"nutrient\"][\"name\"]: n[\"amount\"] for n in nutrients if \"amount\" in n}\n",
        "\n",
        "        # Keep only key nutrients and serving size\n",
        "        important_nutrients = {\n",
        "            \"Description\": description,\n",
        "            \"Serving Size (g)\": serving_size,\n",
        "            \"Calories\": nutrient_dict.get(\"Energy\", 0),\n",
        "            \"Protein\": nutrient_dict.get(\"Protein\", 0),\n",
        "            \"Carbohydrates\": nutrient_dict.get(\"Carbohydrate, by difference\", 0),\n",
        "            \"Fat\": nutrient_dict.get(\"Total lipid (fat)\", 0)\n",
        "        }\n",
        "        processed_data.append(important_nutrients)\n",
        "\n",
        "    return processed_data\n",
        "\n",
        "# Process the food data with serving size\n",
        "processed_foods_with_serving_size = process_food_data_with_serving_size(foods)\n",
        "\n",
        "# Convert to a Pandas DataFrame for easier handling\n",
        "food_df_with_serving_size = pd.DataFrame(processed_foods_with_serving_size)\n",
        "\n",
        "# Display the first few rows\n",
        "print(food_df_with_serving_size.head())\n"
      ]
    },
    {
      "cell_type": "markdown",
      "metadata": {
        "id": "0GOmLv8v_5o8"
      },
      "source": [
        "## Add columns for calories/protein per gram.\n"
      ]
    },
    {
      "cell_type": "code",
      "execution_count": null,
      "metadata": {
        "id": "PBVYerHO8s0w"
      },
      "outputs": [],
      "source": [
        "# # Add new columns for calories and protein per gram\n",
        "# food_df_with_serving_size[\"Calories per Gram\"] = food_df_with_serving_size[\"Calories\"] / food_df_with_serving_size[\"Serving Size (g)\"]\n",
        "# food_df_with_serving_size[\"Protein per Gram\"] = food_df_with_serving_size[\"Protein\"] / food_df_with_serving_size[\"Serving Size (g)\"]\n",
        "\n",
        "# # Replace infinite or NaN values (e.g., where serving size is 0)\n",
        "# food_df_with_serving_size.replace([float('inf'), float('-inf')], 0, inplace=True)\n",
        "# food_df_with_serving_size.fillna(0, inplace=True)\n",
        "\n",
        "# # Display the updated DataFrame\n",
        "# print(food_df_with_serving_size.head())\n"
      ]
    },
    {
      "cell_type": "markdown",
      "source": [
        "## New Function to add Protein and Calories columns"
      ],
      "metadata": {
        "id": "cHW7ESQMs0tB"
      }
    },
    {
      "cell_type": "code",
      "source": [
        "# Replace zero Serving Size (g) with NaN for proper handling\n",
        "food_df_with_serving_size[\"Serving Size (g)\"] = food_df_with_serving_size[\"Serving Size (g)\"].replace(0, pd.NA)\n",
        "\n",
        "# Replace NaN in Serving Size (g) with median or group-based imputed value if not already done\n",
        "# Example: Global median\n",
        "median_serving_size = food_df_with_serving_size[\"Serving Size (g)\"].median()\n",
        "food_df_with_serving_size[\"Serving Size (g)\"].fillna(median_serving_size, inplace=True)\n",
        "\n",
        "# Recalculate Calories per Gram\n",
        "food_df_with_serving_size[\"Calories per Gram\"] = food_df_with_serving_size[\"Calories\"] / food_df_with_serving_size[\"Serving Size (g)\"]\n",
        "\n",
        "# Recalculate Protein per Gram\n",
        "food_df_with_serving_size[\"Protein per Gram\"] = food_df_with_serving_size[\"Protein\"] / food_df_with_serving_size[\"Serving Size (g)\"]\n",
        "\n",
        "# Replace infinite or NaN values in the derived columns\n",
        "food_df_with_serving_size.replace([float('inf'), float('-inf')], 0, inplace=True)\n",
        "food_df_with_serving_size.fillna(0, inplace=True)\n",
        "\n",
        "# Display the updated DataFrame\n",
        "print(\"Updated DataFrame with recalculated values:\")\n",
        "print(food_df_with_serving_size[[\"Description\", \"Serving Size (g)\", \"Calories per Gram\", \"Protein per Gram\"]].head())\n"
      ],
      "metadata": {
        "colab": {
          "base_uri": "https://localhost:8080/"
        },
        "id": "WN1Cs_vkszgp",
        "outputId": "2e4da32c-1265-45b7-d0b0-9cd98495b96c"
      },
      "execution_count": null,
      "outputs": [
        {
          "output_type": "stream",
          "name": "stdout",
          "text": [
            "Updated DataFrame with recalculated values:\n",
            "                                         Description  Serving Size (g)  \\\n",
            "0                                 Hummus, commercial              33.9   \n",
            "1                               Tomatoes, grape, raw              49.7   \n",
            "2  Beans, snap, green, canned, regular pack, drai...             129.0   \n",
            "3                        Frankfurter, beef, unheated              48.6   \n",
            "4        Nuts, almonds, dry roasted, with salt added             135.0   \n",
            "\n",
            "   Calories per Gram  Protein per Gram  \n",
            "0           6.755162          0.216814  \n",
            "1           2.273642          0.016700  \n",
            "2           0.666667          0.008062  \n",
            "3          26.954733          0.240741  \n",
            "4          19.185185          0.151111  \n"
          ]
        },
        {
          "output_type": "stream",
          "name": "stderr",
          "text": [
            "<ipython-input-4-7b87070c5e2f>:7: FutureWarning: A value is trying to be set on a copy of a DataFrame or Series through chained assignment using an inplace method.\n",
            "The behavior will change in pandas 3.0. This inplace method will never work because the intermediate object on which we are setting values always behaves as a copy.\n",
            "\n",
            "For example, when doing 'df[col].method(value, inplace=True)', try using 'df.method({col: value}, inplace=True)' or df[col] = df[col].method(value) instead, to perform the operation inplace on the original object.\n",
            "\n",
            "\n",
            "  food_df_with_serving_size[\"Serving Size (g)\"].fillna(median_serving_size, inplace=True)\n",
            "<ipython-input-4-7b87070c5e2f>:7: FutureWarning: Downcasting object dtype arrays on .fillna, .ffill, .bfill is deprecated and will change in a future version. Call result.infer_objects(copy=False) instead. To opt-in to the future behavior, set `pd.set_option('future.no_silent_downcasting', True)`\n",
            "  food_df_with_serving_size[\"Serving Size (g)\"].fillna(median_serving_size, inplace=True)\n"
          ]
        }
      ]
    },
    {
      "cell_type": "markdown",
      "source": [
        "# Preprocessing"
      ],
      "metadata": {
        "id": "0Oj9xvY2mzfs"
      }
    },
    {
      "cell_type": "markdown",
      "source": [
        "## Handling Food Description\n",
        "\n",
        "Description is too long and has useless info. I want to help the chatbot find later which food the user is talking about."
      ],
      "metadata": {
        "id": "WSPfI2ImlMtY"
      }
    },
    {
      "cell_type": "code",
      "source": [
        "# Function to simplify and remove commas in food descriptions\n",
        "def simplify_description(description):\n",
        "    # Split by commas and join the first two parts without commas\n",
        "    parts = description.split(\",\")\n",
        "    return \" \".join(parts[:2]).strip() if len(parts) > 1 else description.strip()\n",
        "\n",
        "# Apply the simplification function to the Description column\n",
        "food_df_with_serving_size[\"Description\"] = food_df_with_serving_size[\"Description\"].apply(simplify_description)\n",
        "\n",
        "# Display the updated DataFrame\n",
        "print(food_df_with_serving_size.head())\n",
        "\n",
        "\n"
      ],
      "metadata": {
        "colab": {
          "base_uri": "https://localhost:8080/"
        },
        "id": "_VSks1imlKaF",
        "outputId": "8b34b11a-7a66-46ad-f343-1f65d66f3d53"
      },
      "execution_count": null,
      "outputs": [
        {
          "output_type": "stream",
          "name": "stdout",
          "text": [
            "          Description  Serving Size (g)  Calories  Protein  Carbohydrates  \\\n",
            "0  Hummus  commercial              33.9     229.0     7.35          14.90   \n",
            "1     Tomatoes  grape              49.7     113.0     0.83           5.51   \n",
            "2         Beans  snap             129.0      86.0     1.04           4.11   \n",
            "3   Frankfurter  beef              48.6    1310.0    11.70           2.89   \n",
            "4       Nuts  almonds             135.0    2590.0    20.40          16.20   \n",
            "\n",
            "     Fat  Calories per Gram  Protein per Gram  \n",
            "0  17.10           6.755162          0.216814  \n",
            "1   0.63           2.273642          0.016700  \n",
            "2   0.39           0.666667          0.008062  \n",
            "3  28.00          26.954733          0.240741  \n",
            "4  57.80          19.185185          0.151111  \n"
          ]
        }
      ]
    },
    {
      "cell_type": "code",
      "execution_count": null,
      "metadata": {
        "id": "wDSfL1S0_4VQ",
        "colab": {
          "base_uri": "https://localhost:8080/"
        },
        "outputId": "7d6f7ba3-d018-4de0-f41a-f5193e877095"
      },
      "outputs": [
        {
          "output_type": "stream",
          "name": "stdout",
          "text": [
            "Columns in the dataset:\n",
            "Index(['Description', 'Serving Size (g)', 'Calories', 'Protein',\n",
            "       'Carbohydrates', 'Fat', 'Calories per Gram', 'Protein per Gram'],\n",
            "      dtype='object')\n",
            "\n",
            "Sample data:\n",
            "          Description  Serving Size (g)  Calories  Protein  Carbohydrates  \\\n",
            "0  Hummus  commercial              33.9     229.0     7.35          14.90   \n",
            "1     Tomatoes  grape              49.7     113.0     0.83           5.51   \n",
            "2         Beans  snap             129.0      86.0     1.04           4.11   \n",
            "3   Frankfurter  beef              48.6    1310.0    11.70           2.89   \n",
            "4       Nuts  almonds             135.0    2590.0    20.40          16.20   \n",
            "\n",
            "     Fat  Calories per Gram  Protein per Gram  \n",
            "0  17.10           6.755162          0.216814  \n",
            "1   0.63           2.273642          0.016700  \n",
            "2   0.39           0.666667          0.008062  \n",
            "3  28.00          26.954733          0.240741  \n",
            "4  57.80          19.185185          0.151111  \n"
          ]
        }
      ],
      "source": [
        "# Display all columns in the DataFrame\n",
        "print(\"Columns in the dataset:\")\n",
        "print(food_df_with_serving_size.columns)\n",
        "\n",
        "# Optionally, display the first few rows to inspect the data\n",
        "print(\"\\nSample data:\")\n",
        "print(food_df_with_serving_size.head())\n"
      ]
    },
    {
      "cell_type": "markdown",
      "source": [
        "## Missing Values"
      ],
      "metadata": {
        "id": "PEVuD-Nzm2AH"
      }
    },
    {
      "cell_type": "code",
      "source": [
        "# Check for missing values\n",
        "missing_values = food_df_with_serving_size.isnull().sum()\n",
        "\n",
        "# Calculate the percentage of missing values\n",
        "missing_percentage = (missing_values / len(food_df_with_serving_size)) * 100\n",
        "\n",
        "# Combine into a DataFrame for better readability\n",
        "missing_summary = pd.DataFrame({\n",
        "    \"Column\": food_df_with_serving_size.columns,\n",
        "    \"Missing Values\": missing_values,\n",
        "    \"Percentage (%)\": missing_percentage\n",
        "}).sort_values(by=\"Percentage (%)\", ascending=False)\n",
        "\n",
        "# Display the missing value summary\n",
        "print(missing_summary)\n"
      ],
      "metadata": {
        "colab": {
          "base_uri": "https://localhost:8080/"
        },
        "id": "-GkArBCvmsxt",
        "outputId": "d1763ac7-d7fe-4e83-df85-b5ea33730794"
      },
      "execution_count": null,
      "outputs": [
        {
          "output_type": "stream",
          "name": "stdout",
          "text": [
            "                              Column  Missing Values  Percentage (%)\n",
            "Description              Description               0             0.0\n",
            "Serving Size (g)    Serving Size (g)               0             0.0\n",
            "Calories                    Calories               0             0.0\n",
            "Protein                      Protein               0             0.0\n",
            "Carbohydrates          Carbohydrates               0             0.0\n",
            "Fat                              Fat               0             0.0\n",
            "Calories per Gram  Calories per Gram               0             0.0\n",
            "Protein per Gram    Protein per Gram               0             0.0\n"
          ]
        }
      ]
    },
    {
      "cell_type": "markdown",
      "source": [
        "## Zero Values and Outliers"
      ],
      "metadata": {
        "id": "yIkK1xQep-8h"
      }
    },
    {
      "cell_type": "code",
      "source": [
        "# Count rows with Serving Size (g) equal to zero\n",
        "zero_serving_size_count = (food_df_with_serving_size[\"Serving Size (g)\"] == 0).sum()\n",
        "print(f\"Number of foods with zero serving size: {zero_serving_size_count}\")\n"
      ],
      "metadata": {
        "colab": {
          "base_uri": "https://localhost:8080/"
        },
        "id": "kkXGcapnms4b",
        "outputId": "4a437d8f-39b5-498e-ef17-26ac2c55eb8e"
      },
      "execution_count": null,
      "outputs": [
        {
          "output_type": "stream",
          "name": "stdout",
          "text": [
            "Number of foods with zero serving size: 0\n"
          ]
        }
      ]
    },
    {
      "cell_type": "code",
      "source": [
        "# Check for zero values in numeric columns\n",
        "zero_values_summary = (food_df_with_serving_size == 0).sum()\n",
        "\n",
        "# Calculate the percentage of zero values\n",
        "zero_values_percentage = (zero_values_summary / len(food_df_with_serving_size)) * 100\n",
        "\n",
        "# Combine into a DataFrame for readability\n",
        "zero_summary = pd.DataFrame({\n",
        "    \"Column\": food_df_with_serving_size.columns,\n",
        "    \"Zero Values\": zero_values_summary,\n",
        "    \"Percentage (%)\": zero_values_percentage\n",
        "}).sort_values(by=\"Percentage (%)\", ascending=False)\n",
        "\n",
        "# Display the zero value summary\n",
        "print(\"Zero Value Summary:\")\n",
        "print(zero_summary)\n",
        "\n"
      ],
      "metadata": {
        "colab": {
          "base_uri": "https://localhost:8080/"
        },
        "id": "OCk_yQgSmsz4",
        "outputId": "5db55ec2-aa13-4f41-8c73-02b5cf9d8b5e"
      },
      "execution_count": null,
      "outputs": [
        {
          "output_type": "stream",
          "name": "stdout",
          "text": [
            "Zero Value Summary:\n",
            "                              Column  Zero Values  Percentage (%)\n",
            "Calories                    Calories          219       69.303797\n",
            "Calories per Gram  Calories per Gram          219       69.303797\n",
            "Carbohydrates          Carbohydrates           59       18.670886\n",
            "Protein                      Protein           14        4.430380\n",
            "Protein per Gram    Protein per Gram           14        4.430380\n",
            "Fat                              Fat           10        3.164557\n",
            "Description              Description            0        0.000000\n",
            "Serving Size (g)    Serving Size (g)            0        0.000000\n"
          ]
        }
      ]
    },
    {
      "cell_type": "markdown",
      "source": [
        "## Handling Calories Column = zero"
      ],
      "metadata": {
        "id": "lWFSNZz-tfm1"
      }
    },
    {
      "cell_type": "code",
      "source": [
        "# Filter rows where Calories is equal to zero\n",
        "zero_calories_rows = food_df_with_serving_size[food_df_with_serving_size[\"Calories\"] == 0]\n",
        "\n",
        "# Display the rows with zero Calories\n",
        "print(\"Rows with zero Calories:\")\n",
        "print(zero_calories_rows)\n"
      ],
      "metadata": {
        "colab": {
          "base_uri": "https://localhost:8080/"
        },
        "id": "vlP5Hr4MtK-1",
        "outputId": "066dd01c-d94b-40da-9b64-70f426a6e42a"
      },
      "execution_count": null,
      "outputs": [
        {
          "output_type": "stream",
          "name": "stdout",
          "text": [
            "Rows with zero Calories:\n",
            "              Description  Serving Size (g)  Calories  Protein  Carbohydrates  \\\n",
            "61            Salt  table               6.1       0.0     0.00            0.0   \n",
            "74             Beans  Dry              97.3       0.0    25.50            0.0   \n",
            "75             Beans  Dry              97.3       0.0    21.30            0.0   \n",
            "76             Beans  Dry              97.3       0.0    23.30            0.0   \n",
            "77             Beans  Dry              97.3       0.0    25.60            0.0   \n",
            "..                    ...               ...       ...      ...            ...   \n",
            "311   Sorghum bran  white              97.3       0.0    11.20           68.7   \n",
            "312  Sorghum flour  white              97.3       0.0    10.20           73.5   \n",
            "313  Sorghum grain  white              97.3       0.0    10.20           74.9   \n",
            "314  Sorghum  whole grain              97.3       0.0    10.10           73.6   \n",
            "315   Plantains  overripe              97.3       0.0     1.17           29.2   \n",
            "\n",
            "      Fat  Calories per Gram  Protein per Gram  \n",
            "61   0.00                0.0          0.000000  \n",
            "74   1.04                0.0          0.262076  \n",
            "75   1.16                0.0          0.218911  \n",
            "76   0.86                0.0          0.239466  \n",
            "77   1.12                0.0          0.263104  \n",
            "..    ...                ...               ...  \n",
            "311  9.26                0.0          0.115108  \n",
            "312  3.24                0.0          0.104830  \n",
            "313  3.26                0.0          0.104830  \n",
            "314  4.22                0.0          0.103803  \n",
            "315  0.99                0.0          0.012025  \n",
            "\n",
            "[219 rows x 8 columns]\n"
          ]
        }
      ]
    },
    {
      "cell_type": "code",
      "source": [
        "# Display the first 10 rows with zero Calories\n",
        "print(zero_calories_rows.head(10))\n",
        "\n",
        "# Optionally, export the filtered rows to a CSV for analysis\n",
        "zero_calories_rows.to_csv(\"zero_calories_rows.csv\", index=False)\n"
      ],
      "metadata": {
        "colab": {
          "base_uri": "https://localhost:8080/"
        },
        "id": "Jon138DCtLA2",
        "outputId": "f39a368f-9db4-42cc-bc2f-43dd86ada0a5"
      },
      "execution_count": null,
      "outputs": [
        {
          "output_type": "stream",
          "name": "stdout",
          "text": [
            "    Description  Serving Size (g)  Calories  Protein  Carbohydrates   Fat  \\\n",
            "61  Salt  table               6.1       0.0      0.0            0.0  0.00   \n",
            "74   Beans  Dry              97.3       0.0     25.5            0.0  1.04   \n",
            "75   Beans  Dry              97.3       0.0     21.3            0.0  1.16   \n",
            "76   Beans  Dry              97.3       0.0     23.3            0.0  0.86   \n",
            "77   Beans  Dry              97.3       0.0     25.6            0.0  1.12   \n",
            "78   Beans  Dry              97.3       0.0     26.8            0.0  1.14   \n",
            "79   Beans  Dry              97.3       0.0     24.6            0.0  1.28   \n",
            "80   Beans  Dry              97.3       0.0     25.2            0.0  1.44   \n",
            "81   Beans  Dry              97.3       0.0     24.4            0.0  1.23   \n",
            "82   Beans  Dry              97.3       0.0     25.0            0.0  1.03   \n",
            "\n",
            "    Calories per Gram  Protein per Gram  \n",
            "61                0.0          0.000000  \n",
            "74                0.0          0.262076  \n",
            "75                0.0          0.218911  \n",
            "76                0.0          0.239466  \n",
            "77                0.0          0.263104  \n",
            "78                0.0          0.275437  \n",
            "79                0.0          0.252826  \n",
            "80                0.0          0.258993  \n",
            "81                0.0          0.250771  \n",
            "82                0.0          0.256937  \n"
          ]
        }
      ]
    },
    {
      "cell_type": "markdown",
      "source": [
        "1. Validate Zero Calories:\n",
        "Foods like salt are valid with zero calories, so these can be excluded from further processing.\n",
        "For the remaining rows, we can estimate calories based on macronutrient values using the standard formula:\n",
        "\n",
        "Calories\n",
        "=\n",
        "4\n",
        "×\n",
        "\n",
        "Protein (g)\n",
        "+\n",
        "4\n",
        "×\n",
        "\n",
        "Carbohydrates (g)\n",
        "+\n",
        "9\n",
        "×\n",
        "Fat (g)\n",
        "\n",
        "Calories=4×Protein (g)+4×Carbohydrates (g)+9×Fat (g)\n",
        "\n",
        "2. Fill Missing Calories:\n",
        "Replace zero calorie values with the calculated estimates.\n"
      ],
      "metadata": {
        "id": "LALuTr5Ct70Q"
      }
    },
    {
      "cell_type": "code",
      "source": [
        "# Identify rows where Calories is zero but Protein, Carbohydrates, or Fat are non-zero\n",
        "non_salt_rows = food_df_with_serving_size[\n",
        "    (food_df_with_serving_size[\"Calories\"] == 0) &\n",
        "    ((food_df_with_serving_size[\"Protein\"] > 0) |\n",
        "     (food_df_with_serving_size[\"Carbohydrates\"] > 0) |\n",
        "     (food_df_with_serving_size[\"Fat\"] > 0))\n",
        "]\n",
        "\n",
        "# Calculate calories using the macronutrient formula\n",
        "food_df_with_serving_size.loc[non_salt_rows.index, \"Calories\"] = (\n",
        "    4 * food_df_with_serving_size.loc[non_salt_rows.index, \"Protein\"] +\n",
        "    4 * food_df_with_serving_size.loc[non_salt_rows.index, \"Carbohydrates\"] +\n",
        "    9 * food_df_with_serving_size.loc[non_salt_rows.index, \"Fat\"]\n",
        ")\n",
        "\n",
        "# Recalculate Calories per Gram\n",
        "food_df_with_serving_size[\"Calories per Gram\"] = (\n",
        "    food_df_with_serving_size[\"Calories\"] / food_df_with_serving_size[\"Serving Size (g)\"]\n",
        ")\n",
        "\n",
        "# Replace infinite or NaN values\n",
        "food_df_with_serving_size.replace([float('inf'), float('-inf')], 0, inplace=True)\n",
        "food_df_with_serving_size.fillna(0, inplace=True)\n",
        "\n",
        "# Display the updated DataFrame\n",
        "print(\"Updated rows with previously zero Calories:\")\n",
        "print(food_df_with_serving_size.loc[non_salt_rows.index])\n"
      ],
      "metadata": {
        "colab": {
          "base_uri": "https://localhost:8080/"
        },
        "id": "thLeEIj1tLFI",
        "outputId": "5253b372-545e-4008-b704-25ed7c746033"
      },
      "execution_count": null,
      "outputs": [
        {
          "output_type": "stream",
          "name": "stdout",
          "text": [
            "Updated rows with previously zero Calories:\n",
            "              Description  Serving Size (g)  Calories  Protein  Carbohydrates  \\\n",
            "74             Beans  Dry              97.3    111.36    25.50            0.0   \n",
            "75             Beans  Dry              97.3     95.64    21.30            0.0   \n",
            "76             Beans  Dry              97.3    100.94    23.30            0.0   \n",
            "77             Beans  Dry              97.3    112.48    25.60            0.0   \n",
            "78             Beans  Dry              97.3    117.46    26.80            0.0   \n",
            "..                    ...               ...       ...      ...            ...   \n",
            "311   Sorghum bran  white              97.3    402.94    11.20           68.7   \n",
            "312  Sorghum flour  white              97.3    363.96    10.20           73.5   \n",
            "313  Sorghum grain  white              97.3    369.74    10.20           74.9   \n",
            "314  Sorghum  whole grain              97.3    372.78    10.10           73.6   \n",
            "315   Plantains  overripe              97.3    130.39     1.17           29.2   \n",
            "\n",
            "      Fat  Calories per Gram  Protein per Gram  \n",
            "74   1.04           1.144502          0.262076  \n",
            "75   1.16           0.982939          0.218911  \n",
            "76   0.86           1.037410          0.239466  \n",
            "77   1.12           1.156012          0.263104  \n",
            "78   1.14           1.207194          0.275437  \n",
            "..    ...                ...               ...  \n",
            "311  9.26           4.141213          0.115108  \n",
            "312  3.24           3.740596          0.104830  \n",
            "313  3.26           3.800000          0.104830  \n",
            "314  4.22           3.831244          0.103803  \n",
            "315  0.99           1.340082          0.012025  \n",
            "\n",
            "[210 rows x 8 columns]\n"
          ]
        }
      ]
    },
    {
      "cell_type": "code",
      "source": [
        "# Filter rows where Protein and Fat are both zero\n",
        "zero_protein_fat = food_df_with_serving_size[\n",
        "    (food_df_with_serving_size[\"Protein\"] == 0) &\n",
        "    (food_df_with_serving_size[\"Fat\"] == 0)\n",
        "]\n",
        "\n",
        "# Display these rows for review\n",
        "print(\"Rows with zero Protein and zero Fat:\")\n",
        "print(zero_protein_fat)\n"
      ],
      "metadata": {
        "colab": {
          "base_uri": "https://localhost:8080/"
        },
        "id": "jguQ2cvEtLHo",
        "outputId": "3947e0d0-85dd-4686-f4c5-257814a0c901"
      },
      "execution_count": null,
      "outputs": [
        {
          "output_type": "stream",
          "name": "stdout",
          "text": [
            "Rows with zero Protein and zero Fat:\n",
            "        Description  Serving Size (g)  Calories  Protein  Carbohydrates  Fat  \\\n",
            "61      Salt  table               6.1       0.0      0.0            0.0  0.0   \n",
            "95      Oil  canola              90.9       0.0      0.0            0.0  0.0   \n",
            "96        Oil  corn              91.3       0.0      0.0            0.0  0.0   \n",
            "97     Oil  soybean              91.3       0.0      0.0            0.0  0.0   \n",
            "98       Oil  olive              90.7       0.0      0.0            0.0  0.0   \n",
            "126     Oil  peanut              97.3       0.0      0.0            0.0  0.0   \n",
            "127  Oil  sunflower              97.3       0.0      0.0            0.0  0.0   \n",
            "128  Oil  safflower              97.3       0.0      0.0            0.0  0.0   \n",
            "129      Oil  olive              97.3       0.0      0.0            0.0  0.0   \n",
            "\n",
            "     Calories per Gram  Protein per Gram  \n",
            "61                 0.0               0.0  \n",
            "95                 0.0               0.0  \n",
            "96                 0.0               0.0  \n",
            "97                 0.0               0.0  \n",
            "98                 0.0               0.0  \n",
            "126                0.0               0.0  \n",
            "127                0.0               0.0  \n",
            "128                0.0               0.0  \n",
            "129                0.0               0.0  \n"
          ]
        }
      ]
    },
    {
      "cell_type": "markdown",
      "source": [
        "## Drop Rows with All Zero Values"
      ],
      "metadata": {
        "id": "KWd29X0LvAyA"
      }
    },
    {
      "cell_type": "code",
      "source": [
        "# Drop rows where Protein, Fat, and Calories are all zero\n",
        "cleaned_df = food_df_with_serving_size[\n",
        "    ~((food_df_with_serving_size[\"Protein\"] == 0) &\n",
        "      (food_df_with_serving_size[\"Fat\"] == 0) &\n",
        "      (food_df_with_serving_size[\"Calories\"] == 0))\n",
        "]\n",
        "\n",
        "# Display the number of rows after cleaning\n",
        "print(f\"Number of rows after dropping invalid rows: {len(cleaned_df)}\")\n",
        "print(cleaned_df.head())\n"
      ],
      "metadata": {
        "colab": {
          "base_uri": "https://localhost:8080/"
        },
        "id": "HJRO1OlSu0KF",
        "outputId": "22bd155b-cffc-462d-d4b3-84354749c9f6"
      },
      "execution_count": null,
      "outputs": [
        {
          "output_type": "stream",
          "name": "stdout",
          "text": [
            "Number of rows after dropping invalid rows: 307\n",
            "          Description  Serving Size (g)  Calories  Protein  Carbohydrates  \\\n",
            "0  Hummus  commercial              33.9     229.0     7.35          14.90   \n",
            "1     Tomatoes  grape              49.7     113.0     0.83           5.51   \n",
            "2         Beans  snap             129.0      86.0     1.04           4.11   \n",
            "3   Frankfurter  beef              48.6    1310.0    11.70           2.89   \n",
            "4       Nuts  almonds             135.0    2590.0    20.40          16.20   \n",
            "\n",
            "     Fat  Calories per Gram  Protein per Gram  \n",
            "0  17.10           6.755162          0.216814  \n",
            "1   0.63           2.273642          0.016700  \n",
            "2   0.39           0.666667          0.008062  \n",
            "3  28.00          26.954733          0.240741  \n",
            "4  57.80          19.185185          0.151111  \n"
          ]
        }
      ]
    },
    {
      "cell_type": "code",
      "source": [
        "print(cleaned_df[\n",
        "    (cleaned_df[\"Protein\"] == 0) &\n",
        "    (cleaned_df[\"Fat\"] == 0) &\n",
        "    (cleaned_df[\"Calories\"] == 0)\n",
        "])\n"
      ],
      "metadata": {
        "colab": {
          "base_uri": "https://localhost:8080/"
        },
        "id": "tbl2bRj0u0MW",
        "outputId": "0b08a5df-1750-4ac7-a4c4-9d02fd5efb61"
      },
      "execution_count": null,
      "outputs": [
        {
          "output_type": "stream",
          "name": "stdout",
          "text": [
            "Empty DataFrame\n",
            "Columns: [Description, Serving Size (g), Calories, Protein, Carbohydrates, Fat, Calories per Gram, Protein per Gram]\n",
            "Index: []\n"
          ]
        }
      ]
    },
    {
      "cell_type": "code",
      "source": [
        "print(f\"Rows before cleaning: {len(food_df_with_serving_size)}\")\n",
        "print(f\"Rows after cleaning: {len(cleaned_df)}\")\n"
      ],
      "metadata": {
        "colab": {
          "base_uri": "https://localhost:8080/"
        },
        "id": "xLzlwLRVu0Ol",
        "outputId": "17905cc9-d732-49aa-8107-05f23daed341"
      },
      "execution_count": null,
      "outputs": [
        {
          "output_type": "stream",
          "name": "stdout",
          "text": [
            "Rows before cleaning: 316\n",
            "Rows after cleaning: 307\n"
          ]
        }
      ]
    },
    {
      "cell_type": "markdown",
      "source": [
        "# Dividing foods in High-Protein, Low-Carb, High-Fat and Balanced."
      ],
      "metadata": {
        "id": "5WrYBW_PwEAz"
      }
    },
    {
      "cell_type": "code",
      "source": [
        "# Define thresholds for macronutrient-based categorization\n",
        "def macronutrient_category(row):\n",
        "    if row[\"Protein\"] > 15:\n",
        "        return \"High-Protein\"\n",
        "    elif row[\"Carbohydrates\"] < 5:\n",
        "        return \"Low-Carb\"\n",
        "    elif row[\"Fat\"] > 10:\n",
        "        return \"High-Fat\"\n",
        "    else:\n",
        "        return \"Balanced\"\n",
        "\n",
        "# Apply the function to assign macronutrient profiles\n",
        "food_df_with_serving_size[\"Macronutrient Profile\"] = food_df_with_serving_size.apply(macronutrient_category, axis=1)\n",
        "\n",
        "# Display a sample of foods with macronutrient profiles\n",
        "print(food_df_with_serving_size[[\"Description\", \"Macronutrient Profile\"]].head())\n"
      ],
      "metadata": {
        "colab": {
          "base_uri": "https://localhost:8080/"
        },
        "id": "wcArf3XLu0Q1",
        "outputId": "f364ce38-1aec-4e57-fe49-203e60b27d8a"
      },
      "execution_count": null,
      "outputs": [
        {
          "output_type": "stream",
          "name": "stdout",
          "text": [
            "          Description Macronutrient Profile\n",
            "0  Hummus  commercial              High-Fat\n",
            "1     Tomatoes  grape              Balanced\n",
            "2         Beans  snap              Low-Carb\n",
            "3   Frankfurter  beef              Low-Carb\n",
            "4       Nuts  almonds          High-Protein\n"
          ]
        }
      ]
    },
    {
      "cell_type": "code",
      "source": [
        "# prompt: print all columns\n",
        "\n",
        "food_df_with_serving_size.columns"
      ],
      "metadata": {
        "id": "3tZcbM3c-xWY",
        "colab": {
          "base_uri": "https://localhost:8080/"
        },
        "outputId": "ea9032a4-b96d-455e-f87f-9128a8c1435e"
      },
      "execution_count": null,
      "outputs": [
        {
          "output_type": "execute_result",
          "data": {
            "text/plain": [
              "Index(['Description', 'Serving Size (g)', 'Calories', 'Protein',\n",
              "       'Carbohydrates', 'Fat', 'Calories per Gram', 'Protein per Gram',\n",
              "       'Macronutrient Profile'],\n",
              "      dtype='object')"
            ]
          },
          "metadata": {},
          "execution_count": 18
        }
      ]
    },
    {
      "cell_type": "code",
      "source": [
        "import pandas as pd\n",
        "\n",
        "# Ensure numeric values are rounded for consistency\n",
        "food_df_with_serving_size[\"Calories\"] = food_df_with_serving_size[\"Calories\"].round(1)\n",
        "food_df_with_serving_size[\"Protein\"] = food_df_with_serving_size[\"Protein\"].round(1)\n",
        "food_df_with_serving_size[\"Carbohydrates\"] = food_df_with_serving_size[\"Carbohydrates\"].round(1)\n",
        "food_df_with_serving_size[\"Fat\"] = food_df_with_serving_size[\"Fat\"].round(1)\n"
      ],
      "metadata": {
        "id": "isPF636ygmk3"
      },
      "execution_count": null,
      "outputs": []
    },
    {
      "cell_type": "markdown",
      "source": [
        "## Set Up a Retrieval System"
      ],
      "metadata": {
        "id": "RypEj2XFe_DS"
      }
    },
    {
      "cell_type": "code",
      "source": [
        "from sentence_transformers import SentenceTransformer, util\n",
        "import torch\n",
        "\n",
        "# Load a Sentence Transformer model\n",
        "embedding_model = SentenceTransformer('all-MiniLM-L6-v2')\n",
        "\n",
        "# Generate embeddings for the food descriptions\n",
        "food_descriptions = food_df_with_serving_size[\"Description\"].tolist()\n",
        "description_embeddings = embedding_model.encode(food_descriptions, convert_to_tensor=True)\n",
        "\n",
        "# Retrieval function\n",
        "def retrieve_similar_foods(query, top_k=5):\n",
        "    query_embedding = embedding_model.encode(query, convert_to_tensor=True)\n",
        "    scores = util.pytorch_cos_sim(query_embedding, description_embeddings)\n",
        "    top_results = torch.topk(scores, k=top_k)\n",
        "    indices = top_results.indices[0].tolist()\n",
        "    return food_df_with_serving_size.iloc[indices].drop_duplicates(subset=\"Description\")\n"
      ],
      "metadata": {
        "id": "Tr6GZGlwfF-1"
      },
      "execution_count": null,
      "outputs": []
    },
    {
      "cell_type": "code",
      "source": [
        "def preprocess_context(retrieved_foods):\n",
        "    context = []\n",
        "    for _, food in retrieved_foods.iterrows():\n",
        "        context.append(\n",
        "            f\"{food['Description']}: {food['Calories']} calories, \"\n",
        "            f\"{food['Protein']}g protein, {food['Carbohydrates']}g carbs, \"\n",
        "            f\"{food['Fat']}g fat.\"\n",
        "        )\n",
        "    return \" \".join(context)\n"
      ],
      "metadata": {
        "id": "OQvyZ7iwn4bp"
      },
      "execution_count": null,
      "outputs": []
    },
    {
      "cell_type": "code",
      "source": [
        "from transformers import T5ForConditionalGeneration, T5Tokenizer\n",
        "\n",
        "# Load the T5 model and tokenizer\n",
        "t5_model = T5ForConditionalGeneration.from_pretrained(\"t5-small\")\n",
        "t5_tokenizer = T5Tokenizer.from_pretrained(\"t5-small\")\n",
        "\n",
        "# Generate a response using T5\n",
        "def generate_cleaned_t5_response(query, top_k=5):\n",
        "    retrieved_foods = retrieve_similar_foods(query, top_k=top_k)\n",
        "    context = preprocess_context(retrieved_foods)\n",
        "\n",
        "    prompt = (\n",
        "        f\"User asked: {query}. \"\n",
        "        f\"The following foods have been identified based on your query: {context}. \"\n",
        "        f\"Summarize the nutritional benefits of these foods. Ensure the response is concise, \"\n",
        "        f\"avoids repeating items, and suggests how to use these foods in a diet.\"\n",
        "    )\n",
        "\n",
        "    inputs = t5_tokenizer.encode(prompt, return_tensors=\"pt\", max_length=512, truncation=True)\n",
        "    outputs = t5_model.generate(\n",
        "        inputs,\n",
        "        max_length=150,\n",
        "        temperature=0.7,\n",
        "        top_p=0.9,\n",
        "        do_sample=True\n",
        "    )\n",
        "    return t5_tokenizer.decode(outputs[0], skip_special_tokens=True)\n"
      ],
      "metadata": {
        "id": "LujRhG13n5-O"
      },
      "execution_count": null,
      "outputs": []
    },
    {
      "cell_type": "code",
      "source": [
        "# Define realistic prompts\n",
        "realistic_prompts = [\n",
        "    \"What are some high-protein snacks?\",\n",
        "    \"Can you suggest foods for a low-carb diet?\",\n",
        "    \"What foods are high in calories and protein for bulking?\",\n",
        "    \"Suggest a dinner idea with high-protein and low-calorie foods.\",\n",
        "    \"What are good vegetarian protein sources?\"\n",
        "]\n",
        "\n",
        "# Test each prompt\n",
        "for prompt in realistic_prompts:\n",
        "    print(f\"Prompt: {prompt}\")\n",
        "    response = generate_cleaned_t5_response(prompt, top_k=5)\n",
        "    print(f\"Response:\\n{response}\\n{'-' * 80}\")\n"
      ],
      "metadata": {
        "colab": {
          "base_uri": "https://localhost:8080/"
        },
        "id": "l0bT_lnKn6Ah",
        "outputId": "fe10f9ac-279c-4a16-f548-11ce2ad31f25"
      },
      "execution_count": null,
      "outputs": [
        {
          "output_type": "stream",
          "name": "stdout",
          "text": [
            "Prompt: What are some high-protein snacks?\n",
            "Response:\n",
            "Nuts almonds: 625.9 calories, 21.5g protein, 20.0g carbs, 51.1g fat. Nuts brazilnuts: 663.0 calories, 15.0g protein, 21.6g carbs, 57.4g fat.\n",
            "--------------------------------------------------------------------------------\n",
            "Prompt: Can you suggest foods for a low-carb diet?\n",
            "Response:\n",
            "Milk low fat: 43.0 calories, 3.4g protein, 5.2g carbs, 1.0g fat. Buttermilk low fat: 42.8 calories, 3.5g protein, 4.8g carbs, 1.1g fat. Mango Tommy Atkins: 68.6 calories, 0.6g protein, 15.3g carbs, 0.6g fat.\n",
            "--------------------------------------------------------------------------------\n",
            "Prompt: What foods are high in calories and protein for bulking?\n",
            "Response:\n",
            "Cream cheese full fat: 342.9 calories, 5.8g protein, 4.6g carbs, 33.5g fat. Cottage cheese full fat: 102.8 calories, 11.6g protein, 4.6g carbs, 4.2g fat. Buttermilk low fat: 42.8 calories, 3.5g protein, 4.8g carbs, 1.1g fat. Oats whole grain: 381.8 calories, 13.5g protein, 68.7g carbs, 5.9g fat..\n",
            "--------------------------------------------------------------------------------\n",
            "Prompt: Suggest a dinner idea with high-protein and low-calorie foods.\n",
            "Response:\n",
            "Cream cheese full fat: 342.9 calories, 5.8g protein, 4.6g carbs, 33.5g fat. Cottage cheese full fat: 102.8 calories, 11.6g protein, 4.6g carbs, 4.2g fat. Buttermilk low fat: 42.8 calories, 3.5g protein, 4.8g carbs, 1.1g fat. Chicken broilers or fryers: 156.0 calories, 23.9g protein, 0.0g carbs, 6.0g fat.\n",
            "--------------------------------------------------------------------------------\n",
            "Prompt: What are good vegetarian protein sources?\n",
            "Response:\n",
            "Nuts hazelnuts or filberts: 641.5 calories, 13.5g protein, 26.5g carbs, 53.5g fat. Nuts brazilnuts: 663.0 calories, 15.0g protein, 21.6g carbs, 57.4g fat. Nuts almonds: 625.9 calories, 21.5g protein, 20.0g carbs, 51.1g fat. Flour soy: 1530.0 calories, 51.1g protein, 32.9g carbs\n",
            "--------------------------------------------------------------------------------\n"
          ]
        }
      ]
    },
    {
      "cell_type": "markdown",
      "source": [
        "General Observations\n",
        "\n",
        "Strengths:\n",
        "\n",
        "Responses are clear and include detailed nutritional information.\n",
        "Retrieval correctly identifies some relevant foods.\n",
        "\n",
        "Weaknesses:\n",
        "\n",
        "Filtering: Responses often include irrelevant or borderline items (e.g., mango for low-carb).\n",
        "Repetition: Items are sometimes repeated unnecessarily.\n",
        "Summarization: Lacks meaningful insights or suggestions."
      ],
      "metadata": {
        "id": "W6_McboTpjyY"
      }
    },
    {
      "cell_type": "code",
      "source": [
        "def retrieve_similar_foods2(query, top_k=5):\n",
        "    # Generate query embedding\n",
        "    query_embedding = embedding_model.encode(query, convert_to_tensor=True)\n",
        "    # Compute cosine similarity with description embeddings\n",
        "    scores = util.pytorch_cos_sim(query_embedding, description_embeddings)\n",
        "    # Retrieve more results (e.g., top 10 instead of top 5)\n",
        "    top_results = torch.topk(scores, k=top_k)\n",
        "    indices = top_results.indices[0].tolist()\n",
        "    retrieved = food_df_with_serving_size.iloc[indices]\n",
        "\n",
        "    # Apply additional filters based on the query\n",
        "    if \"low-carb\" in query.lower():\n",
        "        retrieved = retrieved[retrieved[\"Carbohydrates\"] < 5]\n",
        "    elif \"high-protein\" in query.lower():\n",
        "        retrieved = retrieved[retrieved[\"Protein\"] > 15]\n",
        "    elif \"bulking\" in query.lower():\n",
        "        retrieved = retrieved[(retrieved[\"Calories\"] > 300) & (retrieved[\"Protein\"] > 10)]\n",
        "    elif \"vegetarian\" in query.lower():\n",
        "        vegetarian_keywords = [\"nuts\", \"seeds\", \"legumes\", \"tofu\", \"quinoa\"]\n",
        "        retrieved = retrieved[retrieved[\"Description\"].str.contains(\"|\".join(vegetarian_keywords), case=False, na=False)]\n",
        "\n",
        "    return retrieved.drop_duplicates(subset=\"Description\")\n"
      ],
      "metadata": {
        "id": "UwCugh-Nn6Cz"
      },
      "execution_count": null,
      "outputs": []
    },
    {
      "cell_type": "code",
      "source": [
        "def preprocess_context2(retrieved_foods, num_items=3):\n",
        "    # Limit to a fixed number of random items\n",
        "    retrieved_foods = retrieved_foods.sample(n=min(num_items, len(retrieved_foods)), random_state=random.randint(1, 100))\n",
        "    context = []\n",
        "    for _, food in retrieved_foods.iterrows():\n",
        "        context.append(\n",
        "            f\"{food['Description']}: {food['Calories']} calories, \"\n",
        "            f\"{food['Protein']}g protein, {food['Carbohydrates']}g carbs, \"\n",
        "            f\"{food['Fat']}g fat.\"\n",
        "        )\n",
        "    return \" \".join(context)\n"
      ],
      "metadata": {
        "id": "FFFI_Ya-n6FD"
      },
      "execution_count": null,
      "outputs": []
    },
    {
      "cell_type": "code",
      "source": [
        "def generate_cleaned_t5_response2(query, top_k=5, num_items=3):\n",
        "    retrieved_foods = retrieve_similar_foods2(query, top_k=top_k)\n",
        "    context = preprocess_context2(retrieved_foods, num_items=num_items)\n",
        "\n",
        "    prompt = (\n",
        "        f\"User asked: {query}. \"\n",
        "        f\"The following foods have been identified based on your query: {context}. \"\n",
        "        f\"Summarize the nutritional benefits of these foods, ensuring the response is diverse and explains how these foods can be used in meals or snacks.\"\n",
        "    )\n",
        "\n",
        "    inputs = t5_tokenizer.encode(prompt, return_tensors=\"pt\", max_length=512, truncation=True)\n",
        "    outputs = t5_model.generate(\n",
        "        inputs,\n",
        "        max_length=200,  # Allow for more detailed summaries\n",
        "        temperature=0.8,  # Increase randomness\n",
        "        top_p=0.85,       # Use a smaller top-p for controlled diversity\n",
        "        do_sample=True\n",
        "    )\n",
        "    return t5_tokenizer.decode(outputs[0], skip_special_tokens=True)\n",
        "\n"
      ],
      "metadata": {
        "id": "mKUzRRKyqAjy"
      },
      "execution_count": null,
      "outputs": []
    },
    {
      "cell_type": "code",
      "source": [
        "import random\n",
        "\n",
        "# Realistic prompts for testing\n",
        "prompts = [\n",
        "    \"What are some high-protein snacks?\",\n",
        "    \"Can you suggest foods for a low-carb diet?\",\n",
        "    \"What foods are high in calories and protein for bulking?\",\n",
        "    \"Suggest a dinner idea with high-protein and low-calorie foods.\",\n",
        "    \"What are good vegetarian protein sources?\"\n",
        "]\n",
        "\n",
        "# Test each prompt with the updated pipeline\n",
        "for prompt in prompts:\n",
        "    print(f\"Prompt: {prompt}\")\n",
        "    response = generate_cleaned_t5_response2(prompt, top_k=10, num_items=3)\n",
        "    print(f\"Response:\\n{response}\\n{'-' * 80}\")\n"
      ],
      "metadata": {
        "colab": {
          "base_uri": "https://localhost:8080/"
        },
        "id": "kkkjWTJWqElm",
        "outputId": "8d4824e1-5ef4-48bf-8ecb-66258a64df70"
      },
      "execution_count": null,
      "outputs": [
        {
          "output_type": "stream",
          "name": "stdout",
          "text": [
            "Prompt: What are some high-protein snacks?\n",
            "Response:\n",
            "Using these foods, you can help them plan meals or snacks for your specific needs.\n",
            "--------------------------------------------------------------------------------\n",
            "Prompt: Can you suggest foods for a low-carb diet?\n",
            "Response:\n",
            "Buttermilk low fat: 42.8 calories, 3.5g protein, 4.8g carbs, 1.1g fat. Buttermilk reduced fat: 50.0 calories, 3.4g protein, 4.9g carbs, 1.9g fat.\n",
            "--------------------------------------------------------------------------------\n",
            "Prompt: What foods are high in calories and protein for bulking?\n",
            "Response:\n",
            "oats whole grain: 381.8 calories, 13.5g protein, 68.7g carbs, 5.9g fat. Buckwheat whole grain: 356.2 calories, 11.1g protein, 71.1g carbs, 3.0g fat. Nuts hazelnuts or filberts: 641.5 calories, 13.5g protein, 26.5g carbs, 53.5g fat.\n",
            "--------------------------------------------------------------------------------\n",
            "Prompt: Suggest a dinner idea with high-protein and low-calorie foods.\n",
            "Response:\n",
            "Chicken broilers or fryers: 156.0 calories, 23.9g protein, 0.0g carbs, 6.0g fat.\n",
            "--------------------------------------------------------------------------------\n",
            "Prompt: What are good vegetarian protein sources?\n",
            "Response:\n",
            "Nuts hazelnuts or filberts: 641.5 calories, 13.5g protein, 26.5g carbs, 53.5g fat.\n",
            "--------------------------------------------------------------------------------\n"
          ]
        }
      ]
    },
    {
      "cell_type": "code",
      "source": [],
      "metadata": {
        "id": "pstGVCspttzz"
      },
      "execution_count": null,
      "outputs": []
    },
    {
      "cell_type": "code",
      "source": [],
      "metadata": {
        "id": "TOroDcnatt2F"
      },
      "execution_count": null,
      "outputs": []
    },
    {
      "cell_type": "code",
      "source": [],
      "metadata": {
        "id": "8Tn6cpWvtt4U"
      },
      "execution_count": null,
      "outputs": []
    }
  ],
  "metadata": {
    "accelerator": "GPU",
    "colab": {
      "gpuType": "T4",
      "provenance": []
    },
    "kernelspec": {
      "display_name": "Python 3",
      "name": "python3"
    },
    "language_info": {
      "name": "python"
    }
  },
  "nbformat": 4,
  "nbformat_minor": 0
}