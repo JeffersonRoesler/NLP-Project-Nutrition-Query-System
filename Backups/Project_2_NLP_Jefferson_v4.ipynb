{
  "cells": [
    {
      "cell_type": "markdown",
      "metadata": {
        "id": "lMsU9t-s8Scp"
      },
      "source": [
        "## NLP PROJECT #2\n",
        "\n",
        "### Student: Jefferson Roesler"
      ]
    },
    {
      "cell_type": "markdown",
      "metadata": {
        "id": "BwaG1nTZ_8Mu"
      },
      "source": [
        "# Dataset"
      ]
    },
    {
      "cell_type": "code",
      "execution_count": 31,
      "metadata": {
        "id": "0hHgVzUu82fo"
      },
      "outputs": [],
      "source": [
        "import json\n",
        "import pandas as pd\n",
        "\n",
        "# Load the JSON file\n",
        "with open('foundationDownload.json', 'r') as file:\n",
        "    data = json.load(file)"
      ]
    },
    {
      "cell_type": "code",
      "execution_count": 32,
      "metadata": {
        "colab": {
          "base_uri": "https://localhost:8080/"
        },
        "id": "x3s3LefYQxbz",
        "outputId": "743df3e6-2e85-4fb4-8fac-fc36aba55717"
      },
      "outputs": [
        {
          "output_type": "stream",
          "name": "stdout",
          "text": [
            "                                         Description  Serving Size (g)  \\\n",
            "0                                 Hummus, commercial              33.9   \n",
            "1                               Tomatoes, grape, raw              49.7   \n",
            "2  Beans, snap, green, canned, regular pack, drai...             129.0   \n",
            "3                        Frankfurter, beef, unheated              48.6   \n",
            "4        Nuts, almonds, dry roasted, with salt added             135.0   \n",
            "\n",
            "   Calories  Protein  Carbohydrates    Fat  \n",
            "0     229.0     7.35          14.90  17.10  \n",
            "1     113.0     0.83           5.51   0.63  \n",
            "2      86.0     1.04           4.11   0.39  \n",
            "3    1310.0    11.70           2.89  28.00  \n",
            "4    2590.0    20.40          16.20  57.80  \n"
          ]
        }
      ],
      "source": [
        "# Extract the list of foods\n",
        "foods = data[\"FoundationFoods\"]\n",
        "\n",
        "# Flatten the data and include serving size\n",
        "def process_food_data_with_serving_size(foods):\n",
        "    processed_data = []\n",
        "    for food in foods:\n",
        "        # Extract food description\n",
        "        description = food.get(\"description\", \"Unknown\")\n",
        "\n",
        "        # Extract serving size (from 'foodPortions')\n",
        "        food_portions = food.get(\"foodPortions\", [])\n",
        "        if food_portions:\n",
        "            # Assume the first portion is the standard serving size\n",
        "            serving_size = food_portions[0].get(\"gramWeight\", 0)  # Weight in grams\n",
        "        else:\n",
        "            serving_size = 0  # Default if no portion info available\n",
        "\n",
        "        # Extract nutrients\n",
        "        nutrients = food.get(\"foodNutrients\", [])\n",
        "        nutrient_dict = {n[\"nutrient\"][\"name\"]: n[\"amount\"] for n in nutrients if \"amount\" in n}\n",
        "\n",
        "        # Keep only key nutrients and serving size\n",
        "        important_nutrients = {\n",
        "            \"Description\": description,\n",
        "            \"Serving Size (g)\": serving_size,\n",
        "            \"Calories\": nutrient_dict.get(\"Energy\", 0),\n",
        "            \"Protein\": nutrient_dict.get(\"Protein\", 0),\n",
        "            \"Carbohydrates\": nutrient_dict.get(\"Carbohydrate, by difference\", 0),\n",
        "            \"Fat\": nutrient_dict.get(\"Total lipid (fat)\", 0)\n",
        "        }\n",
        "        processed_data.append(important_nutrients)\n",
        "\n",
        "    return processed_data\n",
        "\n",
        "# Process the food data with serving size\n",
        "processed_foods_with_serving_size = process_food_data_with_serving_size(foods)\n",
        "\n",
        "# Convert to a Pandas DataFrame for easier handling\n",
        "food_df_with_serving_size = pd.DataFrame(processed_foods_with_serving_size)\n",
        "\n",
        "# Display the first few rows\n",
        "print(food_df_with_serving_size.head())\n"
      ]
    },
    {
      "cell_type": "markdown",
      "metadata": {
        "id": "0GOmLv8v_5o8"
      },
      "source": [
        "## Add columns for calories/protein per gram.\n"
      ]
    },
    {
      "cell_type": "code",
      "execution_count": 33,
      "metadata": {
        "id": "PBVYerHO8s0w"
      },
      "outputs": [],
      "source": [
        "# # Add new columns for calories and protein per gram\n",
        "# food_df_with_serving_size[\"Calories per Gram\"] = food_df_with_serving_size[\"Calories\"] / food_df_with_serving_size[\"Serving Size (g)\"]\n",
        "# food_df_with_serving_size[\"Protein per Gram\"] = food_df_with_serving_size[\"Protein\"] / food_df_with_serving_size[\"Serving Size (g)\"]\n",
        "\n",
        "# # Replace infinite or NaN values (e.g., where serving size is 0)\n",
        "# food_df_with_serving_size.replace([float('inf'), float('-inf')], 0, inplace=True)\n",
        "# food_df_with_serving_size.fillna(0, inplace=True)\n",
        "\n",
        "# # Display the updated DataFrame\n",
        "# print(food_df_with_serving_size.head())\n"
      ]
    },
    {
      "cell_type": "markdown",
      "source": [
        "## New Function to add Protein and Calories columns"
      ],
      "metadata": {
        "id": "cHW7ESQMs0tB"
      }
    },
    {
      "cell_type": "code",
      "source": [
        "# Replace zero Serving Size (g) with NaN for proper handling\n",
        "food_df_with_serving_size[\"Serving Size (g)\"] = food_df_with_serving_size[\"Serving Size (g)\"].replace(0, pd.NA)\n",
        "\n",
        "# Replace NaN in Serving Size (g) with median or group-based imputed value if not already done\n",
        "# Example: Global median\n",
        "median_serving_size = food_df_with_serving_size[\"Serving Size (g)\"].median()\n",
        "food_df_with_serving_size[\"Serving Size (g)\"].fillna(median_serving_size, inplace=True)\n",
        "\n",
        "# Recalculate Calories per Gram\n",
        "food_df_with_serving_size[\"Calories per Gram\"] = food_df_with_serving_size[\"Calories\"] / food_df_with_serving_size[\"Serving Size (g)\"]\n",
        "\n",
        "# Recalculate Protein per Gram\n",
        "food_df_with_serving_size[\"Protein per Gram\"] = food_df_with_serving_size[\"Protein\"] / food_df_with_serving_size[\"Serving Size (g)\"]\n",
        "\n",
        "# Replace infinite or NaN values in the derived columns\n",
        "food_df_with_serving_size.replace([float('inf'), float('-inf')], 0, inplace=True)\n",
        "food_df_with_serving_size.fillna(0, inplace=True)\n",
        "\n",
        "# Display the updated DataFrame\n",
        "print(\"Updated DataFrame with recalculated values:\")\n",
        "print(food_df_with_serving_size[[\"Description\", \"Serving Size (g)\", \"Calories per Gram\", \"Protein per Gram\"]].head())\n"
      ],
      "metadata": {
        "colab": {
          "base_uri": "https://localhost:8080/"
        },
        "id": "WN1Cs_vkszgp",
        "outputId": "4dc594e5-dc2e-43f7-be0c-6b0d103fda38"
      },
      "execution_count": 34,
      "outputs": [
        {
          "output_type": "stream",
          "name": "stdout",
          "text": [
            "Updated DataFrame with recalculated values:\n",
            "                                         Description  Serving Size (g)  \\\n",
            "0                                 Hummus, commercial              33.9   \n",
            "1                               Tomatoes, grape, raw              49.7   \n",
            "2  Beans, snap, green, canned, regular pack, drai...             129.0   \n",
            "3                        Frankfurter, beef, unheated              48.6   \n",
            "4        Nuts, almonds, dry roasted, with salt added             135.0   \n",
            "\n",
            "   Calories per Gram  Protein per Gram  \n",
            "0           6.755162          0.216814  \n",
            "1           2.273642          0.016700  \n",
            "2           0.666667          0.008062  \n",
            "3          26.954733          0.240741  \n",
            "4          19.185185          0.151111  \n"
          ]
        },
        {
          "output_type": "stream",
          "name": "stderr",
          "text": [
            "<ipython-input-34-7b87070c5e2f>:7: FutureWarning: A value is trying to be set on a copy of a DataFrame or Series through chained assignment using an inplace method.\n",
            "The behavior will change in pandas 3.0. This inplace method will never work because the intermediate object on which we are setting values always behaves as a copy.\n",
            "\n",
            "For example, when doing 'df[col].method(value, inplace=True)', try using 'df.method({col: value}, inplace=True)' or df[col] = df[col].method(value) instead, to perform the operation inplace on the original object.\n",
            "\n",
            "\n",
            "  food_df_with_serving_size[\"Serving Size (g)\"].fillna(median_serving_size, inplace=True)\n",
            "<ipython-input-34-7b87070c5e2f>:7: FutureWarning: Downcasting object dtype arrays on .fillna, .ffill, .bfill is deprecated and will change in a future version. Call result.infer_objects(copy=False) instead. To opt-in to the future behavior, set `pd.set_option('future.no_silent_downcasting', True)`\n",
            "  food_df_with_serving_size[\"Serving Size (g)\"].fillna(median_serving_size, inplace=True)\n"
          ]
        }
      ]
    },
    {
      "cell_type": "markdown",
      "source": [
        "# Preprocessing"
      ],
      "metadata": {
        "id": "0Oj9xvY2mzfs"
      }
    },
    {
      "cell_type": "markdown",
      "source": [
        "## Handling Food Description\n",
        "\n",
        "Description is too long and has useless info. I want to help the chatbot find later which food the user is talking about."
      ],
      "metadata": {
        "id": "WSPfI2ImlMtY"
      }
    },
    {
      "cell_type": "code",
      "source": [
        "# Function to simplify and remove commas in food descriptions\n",
        "def simplify_description(description):\n",
        "    # Split by commas and join the first two parts without commas\n",
        "    parts = description.split(\",\")\n",
        "    return \" \".join(parts[:2]).strip() if len(parts) > 1 else description.strip()\n",
        "\n",
        "# Apply the simplification function to the Description column\n",
        "food_df_with_serving_size[\"Description\"] = food_df_with_serving_size[\"Description\"].apply(simplify_description)\n",
        "\n",
        "# Display the updated DataFrame\n",
        "print(food_df_with_serving_size.head())\n",
        "\n",
        "\n"
      ],
      "metadata": {
        "colab": {
          "base_uri": "https://localhost:8080/"
        },
        "id": "_VSks1imlKaF",
        "outputId": "91ac5482-e44e-44fe-9755-4f449edd5380"
      },
      "execution_count": 35,
      "outputs": [
        {
          "output_type": "stream",
          "name": "stdout",
          "text": [
            "          Description  Serving Size (g)  Calories  Protein  Carbohydrates  \\\n",
            "0  Hummus  commercial              33.9     229.0     7.35          14.90   \n",
            "1     Tomatoes  grape              49.7     113.0     0.83           5.51   \n",
            "2         Beans  snap             129.0      86.0     1.04           4.11   \n",
            "3   Frankfurter  beef              48.6    1310.0    11.70           2.89   \n",
            "4       Nuts  almonds             135.0    2590.0    20.40          16.20   \n",
            "\n",
            "     Fat  Calories per Gram  Protein per Gram  \n",
            "0  17.10           6.755162          0.216814  \n",
            "1   0.63           2.273642          0.016700  \n",
            "2   0.39           0.666667          0.008062  \n",
            "3  28.00          26.954733          0.240741  \n",
            "4  57.80          19.185185          0.151111  \n"
          ]
        }
      ]
    },
    {
      "cell_type": "code",
      "execution_count": 36,
      "metadata": {
        "id": "wDSfL1S0_4VQ",
        "colab": {
          "base_uri": "https://localhost:8080/"
        },
        "outputId": "182e7df7-89f7-42f8-f70e-45d456f8be5e"
      },
      "outputs": [
        {
          "output_type": "stream",
          "name": "stdout",
          "text": [
            "Columns in the dataset:\n",
            "Index(['Description', 'Serving Size (g)', 'Calories', 'Protein',\n",
            "       'Carbohydrates', 'Fat', 'Calories per Gram', 'Protein per Gram'],\n",
            "      dtype='object')\n",
            "\n",
            "Sample data:\n",
            "          Description  Serving Size (g)  Calories  Protein  Carbohydrates  \\\n",
            "0  Hummus  commercial              33.9     229.0     7.35          14.90   \n",
            "1     Tomatoes  grape              49.7     113.0     0.83           5.51   \n",
            "2         Beans  snap             129.0      86.0     1.04           4.11   \n",
            "3   Frankfurter  beef              48.6    1310.0    11.70           2.89   \n",
            "4       Nuts  almonds             135.0    2590.0    20.40          16.20   \n",
            "\n",
            "     Fat  Calories per Gram  Protein per Gram  \n",
            "0  17.10           6.755162          0.216814  \n",
            "1   0.63           2.273642          0.016700  \n",
            "2   0.39           0.666667          0.008062  \n",
            "3  28.00          26.954733          0.240741  \n",
            "4  57.80          19.185185          0.151111  \n"
          ]
        }
      ],
      "source": [
        "# Display all columns in the DataFrame\n",
        "print(\"Columns in the dataset:\")\n",
        "print(food_df_with_serving_size.columns)\n",
        "\n",
        "# Optionally, display the first few rows to inspect the data\n",
        "print(\"\\nSample data:\")\n",
        "print(food_df_with_serving_size.head())\n"
      ]
    },
    {
      "cell_type": "markdown",
      "source": [
        "## Missing Values"
      ],
      "metadata": {
        "id": "PEVuD-Nzm2AH"
      }
    },
    {
      "cell_type": "code",
      "source": [
        "# Check for missing values\n",
        "missing_values = food_df_with_serving_size.isnull().sum()\n",
        "\n",
        "# Calculate the percentage of missing values\n",
        "missing_percentage = (missing_values / len(food_df_with_serving_size)) * 100\n",
        "\n",
        "# Combine into a DataFrame for better readability\n",
        "missing_summary = pd.DataFrame({\n",
        "    \"Column\": food_df_with_serving_size.columns,\n",
        "    \"Missing Values\": missing_values,\n",
        "    \"Percentage (%)\": missing_percentage\n",
        "}).sort_values(by=\"Percentage (%)\", ascending=False)\n",
        "\n",
        "# Display the missing value summary\n",
        "print(missing_summary)\n"
      ],
      "metadata": {
        "colab": {
          "base_uri": "https://localhost:8080/"
        },
        "id": "-GkArBCvmsxt",
        "outputId": "9c8c6fdb-b231-4308-8664-90dbaf7fac07"
      },
      "execution_count": 37,
      "outputs": [
        {
          "output_type": "stream",
          "name": "stdout",
          "text": [
            "                              Column  Missing Values  Percentage (%)\n",
            "Description              Description               0             0.0\n",
            "Serving Size (g)    Serving Size (g)               0             0.0\n",
            "Calories                    Calories               0             0.0\n",
            "Protein                      Protein               0             0.0\n",
            "Carbohydrates          Carbohydrates               0             0.0\n",
            "Fat                              Fat               0             0.0\n",
            "Calories per Gram  Calories per Gram               0             0.0\n",
            "Protein per Gram    Protein per Gram               0             0.0\n"
          ]
        }
      ]
    },
    {
      "cell_type": "markdown",
      "source": [
        "## Zero Values and Outliers"
      ],
      "metadata": {
        "id": "yIkK1xQep-8h"
      }
    },
    {
      "cell_type": "code",
      "source": [
        "# Count rows with Serving Size (g) equal to zero\n",
        "zero_serving_size_count = (food_df_with_serving_size[\"Serving Size (g)\"] == 0).sum()\n",
        "print(f\"Number of foods with zero serving size: {zero_serving_size_count}\")\n"
      ],
      "metadata": {
        "colab": {
          "base_uri": "https://localhost:8080/"
        },
        "id": "kkXGcapnms4b",
        "outputId": "943592d9-fc65-4eac-9997-f480510ef123"
      },
      "execution_count": 38,
      "outputs": [
        {
          "output_type": "stream",
          "name": "stdout",
          "text": [
            "Number of foods with zero serving size: 0\n"
          ]
        }
      ]
    },
    {
      "cell_type": "code",
      "source": [
        "# Check for zero values in numeric columns\n",
        "zero_values_summary = (food_df_with_serving_size == 0).sum()\n",
        "\n",
        "# Calculate the percentage of zero values\n",
        "zero_values_percentage = (zero_values_summary / len(food_df_with_serving_size)) * 100\n",
        "\n",
        "# Combine into a DataFrame for readability\n",
        "zero_summary = pd.DataFrame({\n",
        "    \"Column\": food_df_with_serving_size.columns,\n",
        "    \"Zero Values\": zero_values_summary,\n",
        "    \"Percentage (%)\": zero_values_percentage\n",
        "}).sort_values(by=\"Percentage (%)\", ascending=False)\n",
        "\n",
        "# Display the zero value summary\n",
        "print(\"Zero Value Summary:\")\n",
        "print(zero_summary)\n",
        "\n"
      ],
      "metadata": {
        "colab": {
          "base_uri": "https://localhost:8080/"
        },
        "id": "OCk_yQgSmsz4",
        "outputId": "17e53c91-2df0-4a55-ed1d-1d5015720aaf"
      },
      "execution_count": 39,
      "outputs": [
        {
          "output_type": "stream",
          "name": "stdout",
          "text": [
            "Zero Value Summary:\n",
            "                              Column  Zero Values  Percentage (%)\n",
            "Calories                    Calories          219       69.303797\n",
            "Calories per Gram  Calories per Gram          219       69.303797\n",
            "Carbohydrates          Carbohydrates           59       18.670886\n",
            "Protein                      Protein           14        4.430380\n",
            "Protein per Gram    Protein per Gram           14        4.430380\n",
            "Fat                              Fat           10        3.164557\n",
            "Description              Description            0        0.000000\n",
            "Serving Size (g)    Serving Size (g)            0        0.000000\n"
          ]
        }
      ]
    },
    {
      "cell_type": "markdown",
      "source": [
        "## Handling Calories Column = zero"
      ],
      "metadata": {
        "id": "lWFSNZz-tfm1"
      }
    },
    {
      "cell_type": "code",
      "source": [
        "# Filter rows where Calories is equal to zero\n",
        "zero_calories_rows = food_df_with_serving_size[food_df_with_serving_size[\"Calories\"] == 0]\n",
        "\n",
        "# Display the rows with zero Calories\n",
        "print(\"Rows with zero Calories:\")\n",
        "print(zero_calories_rows)\n"
      ],
      "metadata": {
        "colab": {
          "base_uri": "https://localhost:8080/"
        },
        "id": "vlP5Hr4MtK-1",
        "outputId": "8829d3d4-0599-4f07-8bd2-befeb6b9f7c0"
      },
      "execution_count": 40,
      "outputs": [
        {
          "output_type": "stream",
          "name": "stdout",
          "text": [
            "Rows with zero Calories:\n",
            "              Description  Serving Size (g)  Calories  Protein  Carbohydrates  \\\n",
            "61            Salt  table               6.1       0.0     0.00            0.0   \n",
            "74             Beans  Dry              97.3       0.0    25.50            0.0   \n",
            "75             Beans  Dry              97.3       0.0    21.30            0.0   \n",
            "76             Beans  Dry              97.3       0.0    23.30            0.0   \n",
            "77             Beans  Dry              97.3       0.0    25.60            0.0   \n",
            "..                    ...               ...       ...      ...            ...   \n",
            "311   Sorghum bran  white              97.3       0.0    11.20           68.7   \n",
            "312  Sorghum flour  white              97.3       0.0    10.20           73.5   \n",
            "313  Sorghum grain  white              97.3       0.0    10.20           74.9   \n",
            "314  Sorghum  whole grain              97.3       0.0    10.10           73.6   \n",
            "315   Plantains  overripe              97.3       0.0     1.17           29.2   \n",
            "\n",
            "      Fat  Calories per Gram  Protein per Gram  \n",
            "61   0.00                0.0          0.000000  \n",
            "74   1.04                0.0          0.262076  \n",
            "75   1.16                0.0          0.218911  \n",
            "76   0.86                0.0          0.239466  \n",
            "77   1.12                0.0          0.263104  \n",
            "..    ...                ...               ...  \n",
            "311  9.26                0.0          0.115108  \n",
            "312  3.24                0.0          0.104830  \n",
            "313  3.26                0.0          0.104830  \n",
            "314  4.22                0.0          0.103803  \n",
            "315  0.99                0.0          0.012025  \n",
            "\n",
            "[219 rows x 8 columns]\n"
          ]
        }
      ]
    },
    {
      "cell_type": "code",
      "source": [
        "# Display the first 10 rows with zero Calories\n",
        "print(zero_calories_rows.head(10))\n",
        "\n",
        "# Optionally, export the filtered rows to a CSV for analysis\n",
        "zero_calories_rows.to_csv(\"zero_calories_rows.csv\", index=False)\n"
      ],
      "metadata": {
        "colab": {
          "base_uri": "https://localhost:8080/"
        },
        "id": "Jon138DCtLA2",
        "outputId": "771a16bf-dff1-4b98-ccf9-7adbf945f073"
      },
      "execution_count": 41,
      "outputs": [
        {
          "output_type": "stream",
          "name": "stdout",
          "text": [
            "    Description  Serving Size (g)  Calories  Protein  Carbohydrates   Fat  \\\n",
            "61  Salt  table               6.1       0.0      0.0            0.0  0.00   \n",
            "74   Beans  Dry              97.3       0.0     25.5            0.0  1.04   \n",
            "75   Beans  Dry              97.3       0.0     21.3            0.0  1.16   \n",
            "76   Beans  Dry              97.3       0.0     23.3            0.0  0.86   \n",
            "77   Beans  Dry              97.3       0.0     25.6            0.0  1.12   \n",
            "78   Beans  Dry              97.3       0.0     26.8            0.0  1.14   \n",
            "79   Beans  Dry              97.3       0.0     24.6            0.0  1.28   \n",
            "80   Beans  Dry              97.3       0.0     25.2            0.0  1.44   \n",
            "81   Beans  Dry              97.3       0.0     24.4            0.0  1.23   \n",
            "82   Beans  Dry              97.3       0.0     25.0            0.0  1.03   \n",
            "\n",
            "    Calories per Gram  Protein per Gram  \n",
            "61                0.0          0.000000  \n",
            "74                0.0          0.262076  \n",
            "75                0.0          0.218911  \n",
            "76                0.0          0.239466  \n",
            "77                0.0          0.263104  \n",
            "78                0.0          0.275437  \n",
            "79                0.0          0.252826  \n",
            "80                0.0          0.258993  \n",
            "81                0.0          0.250771  \n",
            "82                0.0          0.256937  \n"
          ]
        }
      ]
    },
    {
      "cell_type": "markdown",
      "source": [
        "1. Validate Zero Calories:\n",
        "Foods like salt are valid with zero calories, so these can be excluded from further processing.\n",
        "For the remaining rows, we can estimate calories based on macronutrient values using the standard formula:\n",
        "\n",
        "Calories\n",
        "=\n",
        "4\n",
        "×\n",
        "\n",
        "Protein (g)\n",
        "+\n",
        "4\n",
        "×\n",
        "\n",
        "Carbohydrates (g)\n",
        "+\n",
        "9\n",
        "×\n",
        "Fat (g)\n",
        "\n",
        "Calories=4×Protein (g)+4×Carbohydrates (g)+9×Fat (g)\n",
        "\n",
        "2. Fill Missing Calories:\n",
        "Replace zero calorie values with the calculated estimates.\n"
      ],
      "metadata": {
        "id": "LALuTr5Ct70Q"
      }
    },
    {
      "cell_type": "code",
      "source": [
        "# Identify rows where Calories is zero but Protein, Carbohydrates, or Fat are non-zero\n",
        "non_salt_rows = food_df_with_serving_size[\n",
        "    (food_df_with_serving_size[\"Calories\"] == 0) &\n",
        "    ((food_df_with_serving_size[\"Protein\"] > 0) |\n",
        "     (food_df_with_serving_size[\"Carbohydrates\"] > 0) |\n",
        "     (food_df_with_serving_size[\"Fat\"] > 0))\n",
        "]\n",
        "\n",
        "# Calculate calories using the macronutrient formula\n",
        "food_df_with_serving_size.loc[non_salt_rows.index, \"Calories\"] = (\n",
        "    4 * food_df_with_serving_size.loc[non_salt_rows.index, \"Protein\"] +\n",
        "    4 * food_df_with_serving_size.loc[non_salt_rows.index, \"Carbohydrates\"] +\n",
        "    9 * food_df_with_serving_size.loc[non_salt_rows.index, \"Fat\"]\n",
        ")\n",
        "\n",
        "# Recalculate Calories per Gram\n",
        "food_df_with_serving_size[\"Calories per Gram\"] = (\n",
        "    food_df_with_serving_size[\"Calories\"] / food_df_with_serving_size[\"Serving Size (g)\"]\n",
        ")\n",
        "\n",
        "# Replace infinite or NaN values\n",
        "food_df_with_serving_size.replace([float('inf'), float('-inf')], 0, inplace=True)\n",
        "food_df_with_serving_size.fillna(0, inplace=True)\n",
        "\n",
        "# Display the updated DataFrame\n",
        "print(\"Updated rows with previously zero Calories:\")\n",
        "print(food_df_with_serving_size.loc[non_salt_rows.index])\n"
      ],
      "metadata": {
        "colab": {
          "base_uri": "https://localhost:8080/"
        },
        "id": "thLeEIj1tLFI",
        "outputId": "3641a3c7-a875-4981-81fd-335ac52a4db0"
      },
      "execution_count": 42,
      "outputs": [
        {
          "output_type": "stream",
          "name": "stdout",
          "text": [
            "Updated rows with previously zero Calories:\n",
            "              Description  Serving Size (g)  Calories  Protein  Carbohydrates  \\\n",
            "74             Beans  Dry              97.3    111.36    25.50            0.0   \n",
            "75             Beans  Dry              97.3     95.64    21.30            0.0   \n",
            "76             Beans  Dry              97.3    100.94    23.30            0.0   \n",
            "77             Beans  Dry              97.3    112.48    25.60            0.0   \n",
            "78             Beans  Dry              97.3    117.46    26.80            0.0   \n",
            "..                    ...               ...       ...      ...            ...   \n",
            "311   Sorghum bran  white              97.3    402.94    11.20           68.7   \n",
            "312  Sorghum flour  white              97.3    363.96    10.20           73.5   \n",
            "313  Sorghum grain  white              97.3    369.74    10.20           74.9   \n",
            "314  Sorghum  whole grain              97.3    372.78    10.10           73.6   \n",
            "315   Plantains  overripe              97.3    130.39     1.17           29.2   \n",
            "\n",
            "      Fat  Calories per Gram  Protein per Gram  \n",
            "74   1.04           1.144502          0.262076  \n",
            "75   1.16           0.982939          0.218911  \n",
            "76   0.86           1.037410          0.239466  \n",
            "77   1.12           1.156012          0.263104  \n",
            "78   1.14           1.207194          0.275437  \n",
            "..    ...                ...               ...  \n",
            "311  9.26           4.141213          0.115108  \n",
            "312  3.24           3.740596          0.104830  \n",
            "313  3.26           3.800000          0.104830  \n",
            "314  4.22           3.831244          0.103803  \n",
            "315  0.99           1.340082          0.012025  \n",
            "\n",
            "[210 rows x 8 columns]\n"
          ]
        }
      ]
    },
    {
      "cell_type": "code",
      "source": [
        "# Filter rows where Protein and Fat are both zero\n",
        "zero_protein_fat = food_df_with_serving_size[\n",
        "    (food_df_with_serving_size[\"Protein\"] == 0) &\n",
        "    (food_df_with_serving_size[\"Fat\"] == 0)\n",
        "]\n",
        "\n",
        "# Display these rows for review\n",
        "print(\"Rows with zero Protein and zero Fat:\")\n",
        "print(zero_protein_fat)\n"
      ],
      "metadata": {
        "colab": {
          "base_uri": "https://localhost:8080/"
        },
        "id": "jguQ2cvEtLHo",
        "outputId": "bc952a17-6913-47a0-bdd6-fca71ed2f8e4"
      },
      "execution_count": 43,
      "outputs": [
        {
          "output_type": "stream",
          "name": "stdout",
          "text": [
            "Rows with zero Protein and zero Fat:\n",
            "        Description  Serving Size (g)  Calories  Protein  Carbohydrates  Fat  \\\n",
            "61      Salt  table               6.1       0.0      0.0            0.0  0.0   \n",
            "95      Oil  canola              90.9       0.0      0.0            0.0  0.0   \n",
            "96        Oil  corn              91.3       0.0      0.0            0.0  0.0   \n",
            "97     Oil  soybean              91.3       0.0      0.0            0.0  0.0   \n",
            "98       Oil  olive              90.7       0.0      0.0            0.0  0.0   \n",
            "126     Oil  peanut              97.3       0.0      0.0            0.0  0.0   \n",
            "127  Oil  sunflower              97.3       0.0      0.0            0.0  0.0   \n",
            "128  Oil  safflower              97.3       0.0      0.0            0.0  0.0   \n",
            "129      Oil  olive              97.3       0.0      0.0            0.0  0.0   \n",
            "\n",
            "     Calories per Gram  Protein per Gram  \n",
            "61                 0.0               0.0  \n",
            "95                 0.0               0.0  \n",
            "96                 0.0               0.0  \n",
            "97                 0.0               0.0  \n",
            "98                 0.0               0.0  \n",
            "126                0.0               0.0  \n",
            "127                0.0               0.0  \n",
            "128                0.0               0.0  \n",
            "129                0.0               0.0  \n"
          ]
        }
      ]
    },
    {
      "cell_type": "markdown",
      "source": [
        "## Drop Rows with All Zero Values"
      ],
      "metadata": {
        "id": "KWd29X0LvAyA"
      }
    },
    {
      "cell_type": "code",
      "source": [
        "# Drop rows where Protein, Fat, and Calories are all zero\n",
        "cleaned_df = food_df_with_serving_size[\n",
        "    ~((food_df_with_serving_size[\"Protein\"] == 0) &\n",
        "      (food_df_with_serving_size[\"Fat\"] == 0) &\n",
        "      (food_df_with_serving_size[\"Calories\"] == 0))\n",
        "]\n",
        "\n",
        "# Display the number of rows after cleaning\n",
        "print(f\"Number of rows after dropping invalid rows: {len(cleaned_df)}\")\n",
        "print(cleaned_df.head())\n"
      ],
      "metadata": {
        "colab": {
          "base_uri": "https://localhost:8080/"
        },
        "id": "HJRO1OlSu0KF",
        "outputId": "955a84f8-50ec-42e4-b3ef-4fe5757d2719"
      },
      "execution_count": 44,
      "outputs": [
        {
          "output_type": "stream",
          "name": "stdout",
          "text": [
            "Number of rows after dropping invalid rows: 307\n",
            "          Description  Serving Size (g)  Calories  Protein  Carbohydrates  \\\n",
            "0  Hummus  commercial              33.9     229.0     7.35          14.90   \n",
            "1     Tomatoes  grape              49.7     113.0     0.83           5.51   \n",
            "2         Beans  snap             129.0      86.0     1.04           4.11   \n",
            "3   Frankfurter  beef              48.6    1310.0    11.70           2.89   \n",
            "4       Nuts  almonds             135.0    2590.0    20.40          16.20   \n",
            "\n",
            "     Fat  Calories per Gram  Protein per Gram  \n",
            "0  17.10           6.755162          0.216814  \n",
            "1   0.63           2.273642          0.016700  \n",
            "2   0.39           0.666667          0.008062  \n",
            "3  28.00          26.954733          0.240741  \n",
            "4  57.80          19.185185          0.151111  \n"
          ]
        }
      ]
    },
    {
      "cell_type": "code",
      "source": [
        "print(cleaned_df[\n",
        "    (cleaned_df[\"Protein\"] == 0) &\n",
        "    (cleaned_df[\"Fat\"] == 0) &\n",
        "    (cleaned_df[\"Calories\"] == 0)\n",
        "])\n"
      ],
      "metadata": {
        "colab": {
          "base_uri": "https://localhost:8080/"
        },
        "id": "tbl2bRj0u0MW",
        "outputId": "40d2fd44-2d23-4fc6-bb19-ea7e6ee9c050"
      },
      "execution_count": 45,
      "outputs": [
        {
          "output_type": "stream",
          "name": "stdout",
          "text": [
            "Empty DataFrame\n",
            "Columns: [Description, Serving Size (g), Calories, Protein, Carbohydrates, Fat, Calories per Gram, Protein per Gram]\n",
            "Index: []\n"
          ]
        }
      ]
    },
    {
      "cell_type": "code",
      "source": [
        "print(f\"Rows before cleaning: {len(food_df_with_serving_size)}\")\n",
        "print(f\"Rows after cleaning: {len(cleaned_df)}\")\n"
      ],
      "metadata": {
        "colab": {
          "base_uri": "https://localhost:8080/"
        },
        "id": "xLzlwLRVu0Ol",
        "outputId": "ed879744-b834-4eb8-bc6a-285bc4bc03d3"
      },
      "execution_count": 46,
      "outputs": [
        {
          "output_type": "stream",
          "name": "stdout",
          "text": [
            "Rows before cleaning: 316\n",
            "Rows after cleaning: 307\n"
          ]
        }
      ]
    },
    {
      "cell_type": "markdown",
      "source": [
        "# Dividing foods in High-Protein, Low-Carb, High-Fat and Balanced."
      ],
      "metadata": {
        "id": "5WrYBW_PwEAz"
      }
    },
    {
      "cell_type": "code",
      "source": [
        "# Define thresholds for macronutrient-based categorization\n",
        "def macronutrient_category(row):\n",
        "    if row[\"Protein\"] > 15:\n",
        "        return \"High-Protein\"\n",
        "    elif row[\"Carbohydrates\"] < 5:\n",
        "        return \"Low-Carb\"\n",
        "    elif row[\"Fat\"] > 10:\n",
        "        return \"High-Fat\"\n",
        "    else:\n",
        "        return \"Balanced\"\n",
        "\n",
        "# Apply the function to assign macronutrient profiles\n",
        "food_df_with_serving_size[\"Macronutrient Profile\"] = food_df_with_serving_size.apply(macronutrient_category, axis=1)\n",
        "\n",
        "# Display a sample of foods with macronutrient profiles\n",
        "print(food_df_with_serving_size[[\"Description\", \"Macronutrient Profile\"]].head())\n"
      ],
      "metadata": {
        "colab": {
          "base_uri": "https://localhost:8080/"
        },
        "id": "wcArf3XLu0Q1",
        "outputId": "3a39bb5e-5d37-4c5f-b157-9a341c276584"
      },
      "execution_count": 47,
      "outputs": [
        {
          "output_type": "stream",
          "name": "stdout",
          "text": [
            "          Description Macronutrient Profile\n",
            "0  Hummus  commercial              High-Fat\n",
            "1     Tomatoes  grape              Balanced\n",
            "2         Beans  snap              Low-Carb\n",
            "3   Frankfurter  beef              Low-Carb\n",
            "4       Nuts  almonds          High-Protein\n"
          ]
        }
      ]
    },
    {
      "cell_type": "markdown",
      "source": [
        "# Simple ChatBot to test"
      ],
      "metadata": {
        "id": "NU8AWvfqwwDS"
      }
    },
    {
      "cell_type": "code",
      "source": [
        "# Function to simulate chatbot responses\n",
        "def chatbot_response(query):\n",
        "    query = query.lower()\n",
        "\n",
        "    if \"high-protein\" in query:\n",
        "        result = food_df_with_serving_size[\n",
        "            food_df_with_serving_size[\"Macronutrient Profile\"] == \"High-Protein\"\n",
        "        ][\"Description\"].tolist()\n",
        "        return f\"Here are some high-protein foods: {', '.join(result[:10])}...\"\n",
        "\n",
        "    elif \"low-carb\" in query:\n",
        "        result = food_df_with_serving_size[\n",
        "            food_df_with_serving_size[\"Macronutrient Profile\"] == \"Low-Carb\"\n",
        "        ][\"Description\"].tolist()\n",
        "        return f\"Here are some low-carb foods: {', '.join(result[:10])}...\"\n",
        "\n",
        "    elif \"balanced\" in query:\n",
        "        result = food_df_with_serving_size[\n",
        "            food_df_with_serving_size[\"Macronutrient Profile\"] == \"Balanced\"\n",
        "        ][\"Description\"].tolist()\n",
        "        return f\"Here are some foods with balanced macronutrients: {', '.join(result[:10])}...\"\n",
        "\n",
        "    elif \"high-protein and low-carb\" in query:\n",
        "        result = food_df_with_serving_size[\n",
        "            (food_df_with_serving_size[\"Macronutrient Profile\"] == \"High-Protein\") &\n",
        "            (food_df_with_serving_size[\"Carbohydrates\"] < 5)\n",
        "        ][\"Description\"].tolist()\n",
        "        return f\"Here are some high-protein and low-carb foods: {', '.join(result[:10])}...\"\n",
        "\n",
        "    else:\n",
        "        return \"I'm sorry, I didn't understand that. Can you ask about high-protein, low-carb, or balanced foods?\"\n",
        "\n",
        "\n"
      ],
      "metadata": {
        "id": "QSgxOFyKu0S_"
      },
      "execution_count": 48,
      "outputs": []
    },
    {
      "cell_type": "code",
      "source": [
        "# Test example queries\n",
        "print(chatbot_response(\"What are some high-protein foods?\"))\n",
        "print(chatbot_response(\"List low-carb options.\"))\n",
        "print(chatbot_response(\"What foods are balanced in macronutrients?\"))\n",
        "print(chatbot_response(\"Can you suggest high-protein and low-carb foods?\"))"
      ],
      "metadata": {
        "colab": {
          "base_uri": "https://localhost:8080/"
        },
        "id": "ZxUrcd7Hw1ki",
        "outputId": "4954a51b-bbe7-45e5-b42f-7e19613c643c"
      },
      "execution_count": 49,
      "outputs": [
        {
          "output_type": "stream",
          "name": "stdout",
          "text": [
            "Here are some high-protein foods: Nuts  almonds, Egg  white, Cheese  parmesan, Cheese  pasteurized process, Seeds  sunflower seed kernels, Cheese  cheddar, Cheese  mozzarella, Egg  whole, Egg  yolk, Egg  yolk...\n",
            "Here are some low-carb foods: Beans  snap, Frankfurter  beef, Kale  raw, Egg  whole, Egg  white, Pickles  cucumber, Cheese  cottage, Yogurt  Greek, Oil  coconut, Olives  green...\n",
            "Here are some foods with balanced macronutrients: Tomatoes  grape, Grapefruit juice  white, Peaches  yellow, Bread  white, Kale  frozen, Mustard  prepared, Kiwifruit  green, Nectarines  raw, Yogurt  Greek, Sauce  pasta...\n",
            "Here are some high-protein foods: Nuts  almonds, Egg  white, Cheese  parmesan, Cheese  pasteurized process, Seeds  sunflower seed kernels, Cheese  cheddar, Cheese  mozzarella, Egg  whole, Egg  yolk, Egg  yolk...\n"
          ]
        }
      ]
    },
    {
      "cell_type": "code",
      "source": [
        "# More examples\n",
        "\n",
        "print(chatbot_response(\"Tell me which high-protein food I can eat?\"))\n",
        "print(chatbot_response(\"List low-carb vegetables.\"))"
      ],
      "metadata": {
        "colab": {
          "base_uri": "https://localhost:8080/"
        },
        "id": "bc_KEbbrxBQf",
        "outputId": "cd93d3d6-dae4-4174-8b5b-b890d593466d"
      },
      "execution_count": 50,
      "outputs": [
        {
          "output_type": "stream",
          "name": "stdout",
          "text": [
            "Here are some high-protein foods: Nuts  almonds, Egg  white, Cheese  parmesan, Cheese  pasteurized process, Seeds  sunflower seed kernels, Cheese  cheddar, Cheese  mozzarella, Egg  whole, Egg  yolk, Egg  yolk...\n",
            "Here are some low-carb foods: Beans  snap, Frankfurter  beef, Kale  raw, Egg  whole, Egg  white, Pickles  cucumber, Cheese  cottage, Yogurt  Greek, Oil  coconut, Olives  green...\n"
          ]
        }
      ]
    },
    {
      "cell_type": "markdown",
      "source": [
        "# Increasing Base Knownledge\n"
      ],
      "metadata": {
        "id": "jlsVKtbax6oK"
      }
    },
    {
      "cell_type": "code",
      "source": [
        "# Function to categorize foods based on calorie content\n",
        "def caloric_density(row):\n",
        "    if row[\"Calories per Gram\"] > 2:\n",
        "        return \"High-Calorie\"\n",
        "    elif row[\"Calories per Gram\"] > 1:\n",
        "        return \"Moderate-Calorie\"\n",
        "    else:\n",
        "        return \"Low-Calorie\"\n",
        "\n",
        "food_df_with_serving_size[\"Caloric Density\"] = food_df_with_serving_size.apply(caloric_density, axis=1)\n",
        "\n",
        "# Display a sample of the updated dataset\n",
        "print(\"Sample of foods with Calorie Category:\")\n",
        "print(food_df_with_serving_size[[\"Description\", \"Calories\", \"Caloric Density\"]].head())\n"
      ],
      "metadata": {
        "colab": {
          "base_uri": "https://localhost:8080/"
        },
        "id": "ZM6F1tbEx6Df",
        "outputId": "eb870d6e-99ca-4faf-dc59-8142faf20e0a"
      },
      "execution_count": 51,
      "outputs": [
        {
          "output_type": "stream",
          "name": "stdout",
          "text": [
            "Sample of foods with Calorie Category:\n",
            "          Description  Calories Caloric Density\n",
            "0  Hummus  commercial     229.0    High-Calorie\n",
            "1     Tomatoes  grape     113.0    High-Calorie\n",
            "2         Beans  snap      86.0     Low-Calorie\n",
            "3   Frankfurter  beef    1310.0    High-Calorie\n",
            "4       Nuts  almonds    2590.0    High-Calorie\n"
          ]
        }
      ]
    },
    {
      "cell_type": "code",
      "source": [
        "# Function to categorize foods based on protein content\n",
        "def protein_category(row):\n",
        "    if row[\"Protein\"] > 25:\n",
        "        return \"Very High-Protein\"\n",
        "    elif row[\"Protein\"] > 15:\n",
        "        return \"High-Protein\"\n",
        "    elif row[\"Protein\"] > 5:\n",
        "        return \"Moderate-Protein\"\n",
        "    else:\n",
        "        return \"Low-Protein\"\n",
        "\n",
        "# Apply the categorization function to the dataset\n",
        "food_df_with_serving_size[\"Protein Category\"] = food_df_with_serving_size.apply(protein_category, axis=1)\n",
        "\n",
        "# Display a sample of the updated dataset\n",
        "print(\"Sample of foods with Protein Category:\")\n",
        "print(food_df_with_serving_size[[\"Description\", \"Protein\", \"Protein Category\"]].head())\n"
      ],
      "metadata": {
        "colab": {
          "base_uri": "https://localhost:8080/"
        },
        "id": "hVfN-de_x6Fx",
        "outputId": "754912f2-23ef-45f5-8ad1-390509967a77"
      },
      "execution_count": 52,
      "outputs": [
        {
          "output_type": "stream",
          "name": "stdout",
          "text": [
            "Sample of foods with Protein Category:\n",
            "          Description  Protein  Protein Category\n",
            "0  Hummus  commercial     7.35  Moderate-Protein\n",
            "1     Tomatoes  grape     0.83       Low-Protein\n",
            "2         Beans  snap     1.04       Low-Protein\n",
            "3   Frankfurter  beef    11.70  Moderate-Protein\n",
            "4       Nuts  almonds    20.40      High-Protein\n"
          ]
        }
      ]
    },
    {
      "cell_type": "code",
      "source": [
        "print(\"Columns in the dataset:\")\n",
        "cleaned_df.columns"
      ],
      "metadata": {
        "colab": {
          "base_uri": "https://localhost:8080/"
        },
        "id": "2n_zBlyOJzPE",
        "outputId": "2feb4f37-5b39-4555-8ba4-2b2dc32ed819"
      },
      "execution_count": 53,
      "outputs": [
        {
          "output_type": "stream",
          "name": "stdout",
          "text": [
            "Columns in the dataset:\n"
          ]
        },
        {
          "output_type": "execute_result",
          "data": {
            "text/plain": [
              "Index(['Description', 'Serving Size (g)', 'Calories', 'Protein',\n",
              "       'Carbohydrates', 'Fat', 'Calories per Gram', 'Protein per Gram'],\n",
              "      dtype='object')"
            ]
          },
          "metadata": {},
          "execution_count": 53
        }
      ]
    },
    {
      "cell_type": "markdown",
      "source": [
        "# Updated Chatbot"
      ],
      "metadata": {
        "id": "qlRgRMSay-ZS"
      }
    },
    {
      "cell_type": "code",
      "source": [
        "# Function to handle chatbot responses for macronutrient, protein, and caloric density queries\n",
        "def chatbot_response(query):\n",
        "    query = query.lower()\n",
        "\n",
        "    # Macronutrient Profile Queries\n",
        "    if \"high-protein and low-carb\" in query:\n",
        "        result = food_df_with_serving_size[\n",
        "            (food_df_with_serving_size[\"Macronutrient Profile\"] == \"High-Protein\") &\n",
        "            (food_df_with_serving_size[\"Carbohydrates\"] < 5)\n",
        "        ][\"Description\"].tolist()\n",
        "        return f\"Here are some high-protein and low-carb foods: {', '.join(result[:10])}...\"\n",
        "\n",
        "    elif \"high-protein\" in query:\n",
        "        result = food_df_with_serving_size[\n",
        "            food_df_with_serving_size[\"Macronutrient Profile\"] == \"High-Protein\"\n",
        "        ][\"Description\"].tolist()\n",
        "        return f\"Here are some high-protein foods: {', '.join(result[:10])}...\"\n",
        "\n",
        "    elif \"low-carb\" in query:\n",
        "        result = food_df_with_serving_size[\n",
        "            food_df_with_serving_size[\"Macronutrient Profile\"] == \"Low-Carb\"\n",
        "        ][\"Description\"].tolist()\n",
        "        return f\"Here are some low-carb foods: {', '.join(result[:10])}...\"\n",
        "\n",
        "    elif \"balanced\" in query:\n",
        "        result = food_df_with_serving_size[\n",
        "            food_df_with_serving_size[\"Macronutrient Profile\"] == \"Balanced\"\n",
        "        ][\"Description\"].tolist()\n",
        "        return f\"Here are some foods with balanced macronutrients: {', '.join(result[:10])}...\"\n",
        "\n",
        "    # Protein Category Queries\n",
        "    elif \"very high-protein\" in query:\n",
        "        result = food_df_with_serving_size[\n",
        "            food_df_with_serving_size[\"Protein Category\"] == \"Very High-Protein\"\n",
        "        ][\"Description\"].tolist()\n",
        "        return f\"Here are some very high-protein foods: {', '.join(result[:10])}...\"\n",
        "\n",
        "    elif \"high-protein\" in query:\n",
        "        result = food_df_with_serving_size[\n",
        "            food_df_with_serving_size[\"Protein Category\"] == \"High-Protein\"\n",
        "        ][\"Description\"].tolist()\n",
        "        return f\"Here are some high-protein foods: {', '.join(result[:10])}...\"\n",
        "\n",
        "    elif \"moderate-protein\" in query:\n",
        "        result = food_df_with_serving_size[\n",
        "            food_df_with_serving_size[\"Protein Category\"] == \"Moderate-Protein\"\n",
        "        ][\"Description\"].tolist()\n",
        "        return f\"Here are some moderate-protein foods: {', '.join(result[:10])}...\"\n",
        "\n",
        "    elif \"low-protein\" in query:\n",
        "        result = food_df_with_serving_size[\n",
        "            food_df_with_serving_size[\"Protein Category\"] == \"Low-Protein\"\n",
        "        ][\"Description\"].tolist()\n",
        "        return f\"Here are some low-protein foods: {', '.join(result[:10])}...\"\n",
        "\n",
        "    # Caloric Density Queries\n",
        "    elif \"high-calorie\" in query:\n",
        "        result = food_df_with_serving_size[\n",
        "            food_df_with_serving_size[\"Caloric Density\"] == \"High-Calorie\"\n",
        "        ][\"Description\"].tolist()\n",
        "        return f\"Here are some high-calorie foods: {', '.join(result[:10])}...\"\n",
        "\n",
        "    elif \"moderate-calorie\" in query:\n",
        "        result = food_df_with_serving_size[\n",
        "            food_df_with_serving_size[\"Caloric Density\"] == \"Moderate-Calorie\"\n",
        "        ][\"Description\"].tolist()\n",
        "        return f\"Here are some moderate-calorie foods: {', '.join(result[:10])}...\"\n",
        "\n",
        "    elif \"low-calorie\" in query:\n",
        "        result = food_df_with_serving_size[\n",
        "            food_df_with_serving_size[\"Caloric Density\"] == \"Low-Calorie\"\n",
        "        ][\"Description\"].tolist()\n",
        "        return f\"Here are some low-calorie foods: {', '.join(result[:10])}...\"\n",
        "\n",
        "    # Default Response\n",
        "    else:\n",
        "        return \"I'm sorry, I didn't understand that. Can you ask about specific protein, macronutrient, or caloric density levels?\"\n"
      ],
      "metadata": {
        "id": "iAb9i6uqx6IB"
      },
      "execution_count": 54,
      "outputs": []
    },
    {
      "cell_type": "code",
      "source": [
        "# Test macronutrient profile queries\n",
        "print(chatbot_response(\"What are some high-protein foods?\"))\n",
        "print(chatbot_response(\"List low-carb options.\"))\n",
        "print(chatbot_response(\"What foods are balanced in macronutrients?\"))\n",
        "print(chatbot_response(\"Can you suggest high-protein and low-carb foods?\"))\n",
        "\n",
        "# Test protein category queries\n",
        "print(chatbot_response(\"What are very high-protein foods?\"))\n",
        "print(chatbot_response(\"What foods are low in protein?\"))\n",
        "\n",
        "# Test calorie category queries\n",
        "print(chatbot_response(\"What are some high-calorie foods?\"))\n",
        "print(chatbot_response(\"What are moderate-calorie foods?\"))\n",
        "print(chatbot_response(\"Can you suggest low-calorie foods?\"))\n"
      ],
      "metadata": {
        "colab": {
          "base_uri": "https://localhost:8080/"
        },
        "id": "5hjBKMJuzBwi",
        "outputId": "d96e2bc0-6096-4a30-f100-691ee9c5aa76"
      },
      "execution_count": 55,
      "outputs": [
        {
          "output_type": "stream",
          "name": "stdout",
          "text": [
            "Here are some high-protein foods: Nuts  almonds, Egg  white, Cheese  parmesan, Cheese  pasteurized process, Seeds  sunflower seed kernels, Cheese  cheddar, Cheese  mozzarella, Egg  whole, Egg  yolk, Egg  yolk...\n",
            "Here are some low-carb foods: Beans  snap, Frankfurter  beef, Kale  raw, Egg  whole, Egg  white, Pickles  cucumber, Cheese  cottage, Yogurt  Greek, Oil  coconut, Olives  green...\n",
            "Here are some foods with balanced macronutrients: Tomatoes  grape, Grapefruit juice  white, Peaches  yellow, Bread  white, Kale  frozen, Mustard  prepared, Kiwifruit  green, Nectarines  raw, Yogurt  Greek, Sauce  pasta...\n",
            "Here are some high-protein and low-carb foods: Cheese  cheddar, Cheese  mozzarella, Egg  whole, Egg  yolk, Egg  yolk, Chicken  broilers or fryers, Chicken  broiler or fryers, Ham  sliced, Fish  haddock, Fish  tuna...\n",
            "Here are some high-protein foods: Nuts  almonds, Egg  white, Cheese  parmesan, Cheese  pasteurized process, Seeds  sunflower seed kernels, Cheese  cheddar, Cheese  mozzarella, Egg  whole, Egg  yolk, Egg  yolk...\n",
            "I'm sorry, I didn't understand that. Can you ask about specific protein, macronutrient, or caloric density levels?\n",
            "Here are some high-calorie foods: Hummus  commercial, Tomatoes  grape, Frankfurter  beef, Nuts  almonds, Egg  whole, Egg  white, Egg  white, Onion rings  breaded, Cheese  parmesan, Cheese  pasteurized process...\n",
            "Here are some moderate-calorie foods: Kale  raw, Peaches  yellow, Kale  frozen, Cheese  cottage, Chicken  broilers or fryers, Sauce  pasta, Fish  haddock, Fish  pollock, Restaurant  Latino, Restaurant  Latino...\n",
            "Here are some low-calorie foods: Beans  snap, Pickles  cucumber, Grapefruit juice  white, Mustard  prepared, Nectarines  raw, Yogurt  Greek, Tomatoes  canned, Beef  round, Beef  round, Beef  short loin...\n"
          ]
        }
      ]
    },
    {
      "cell_type": "markdown",
      "source": [
        "# Fine-Tune GPT-2"
      ],
      "metadata": {
        "id": "QFUKgn2SzwOL"
      }
    },
    {
      "cell_type": "markdown",
      "source": [
        "Generate Conversational Training Data"
      ],
      "metadata": {
        "id": "n9LfSIcSzy7W"
      }
    },
    {
      "cell_type": "code",
      "source": [
        "import random\n",
        "\n",
        "def generate_templates():\n",
        "    # Base components for question templates\n",
        "    question_starters = [\n",
        "        \"What foods are\", \"Can you recommend foods that are\",\n",
        "        \"Which foods should I eat to\", \"What are the best foods for\",\n",
        "        \"Can you suggest foods with\", \"What should I eat to\",\n",
        "        \"Do you know foods that are\", \"What are some options for\"\n",
        "    ]\n",
        "    nutrient_focus = [\n",
        "        \"high in protein\", \"low in carbohydrates\", \"balanced in macronutrients\",\n",
        "        \"rich in healthy fats\", \"low in calories\", \"high in calories\",\n",
        "        \"suitable for weight loss\", \"ideal for muscle building\",\n",
        "        \"good for heart health\", \"helpful for boosting energy\"\n",
        "    ]\n",
        "    comparisons = [\n",
        "        \"higher protein than {other_food}\", \"fewer carbs than {other_food}\",\n",
        "        \"more calories per gram than {other_food}\", \"less fat than {other_food}\"\n",
        "    ]\n",
        "    serving_contexts = [\n",
        "        \"in a 100g serving\", \"per gram\", \"in a standard portion size\",\n",
        "        \"in a typical serving size\"\n",
        "    ]\n",
        "\n",
        "    # Generate 1000 unique question templates\n",
        "    question_templates = []\n",
        "    for _ in range(500):  # Base templates\n",
        "        question_templates.append(\n",
        "            f\"{random.choice(question_starters)} {random.choice(nutrient_focus)}?\"\n",
        "        )\n",
        "    for _ in range(500):  # Comparison-based templates\n",
        "        question_templates.append(\n",
        "            f\"{random.choice(question_starters)} {random.choice(comparisons)}?\"\n",
        "        )\n",
        "\n",
        "    # Base components for answer templates\n",
        "    answer_starters = [\n",
        "        \"{food} is a great choice because it contains\", \"You can try {food}, which provides\",\n",
        "        \"Consider {food}, as it offers\", \"{food} has\", \"A serving of {food} includes\"\n",
        "    ]\n",
        "    nutrient_values = [\n",
        "        \"{value}g of protein\", \"{value}g of carbohydrates\", \"{value}g of fat\",\n",
        "        \"{value} calories\", \"{value} calories per gram\"\n",
        "    ]\n",
        "    contexts = [\n",
        "        \"per serving\", \"in a 100g portion\", \"for every gram\", \"in its typical portion size\"\n",
        "    ]\n",
        "    health_benefits = [\n",
        "        \"which is perfect for building muscle\", \"great for a low-carb diet\",\n",
        "        \"ideal for weight loss\", \"helpful for sustained energy\",\n",
        "        \"recommended for heart health\"\n",
        "    ]\n",
        "\n",
        "    # Generate 1000 unique answer templates\n",
        "    answer_templates = []\n",
        "    for _ in range(500):  # Base answers\n",
        "        answer_templates.append(\n",
        "            f\"{random.choice(answer_starters)} {random.choice(nutrient_values)} {random.choice(contexts)}.\"\n",
        "        )\n",
        "    for _ in range(500):  # Contextualized answers\n",
        "        answer_templates.append(\n",
        "            f\"{random.choice(answer_starters)} {random.choice(nutrient_values)} {random.choice(contexts)}, {random.choice(health_benefits)}.\"\n",
        "        )\n",
        "\n",
        "    return question_templates, answer_templates\n",
        "\n",
        "# Generate the templates\n",
        "questions, answers = generate_templates()\n",
        "\n",
        "# Save templates to files\n",
        "with open(\"question_templates.txt\", \"w\") as q_file:\n",
        "    q_file.writelines([q + \"\\n\" for q in questions])\n",
        "\n",
        "with open(\"answer_templates.txt\", \"w\") as a_file:\n",
        "    a_file.writelines([a + \"\\n\" for a in answers])\n",
        "\n",
        "print(f\"Generated {len(questions)} question templates and {len(answers)} answer templates.\")\n",
        "\n"
      ],
      "metadata": {
        "colab": {
          "base_uri": "https://localhost:8080/"
        },
        "id": "ejRT2X8sLRhy",
        "outputId": "d73199cf-0891-4f84-df2d-d6abed7c45bb"
      },
      "execution_count": 57,
      "outputs": [
        {
          "output_type": "stream",
          "name": "stdout",
          "text": [
            "Generated 1000 question templates and 1000 answer templates.\n"
          ]
        }
      ]
    },
    {
      "cell_type": "code",
      "source": [
        "import random\n",
        "\n",
        "def generate_training_data(question_file, answer_file, dataset):\n",
        "    # Load question and answer templates\n",
        "    with open(question_file, \"r\") as qf:\n",
        "        question_templates = [line.strip() for line in qf.readlines()]\n",
        "\n",
        "    with open(answer_file, \"r\") as af:\n",
        "        answer_templates = [line.strip() for line in af.readlines()]\n",
        "\n",
        "    training_data = []\n",
        "\n",
        "    # Iterate through the dataset and pair questions and answers\n",
        "    for _, row in dataset.iterrows():\n",
        "        food = row[\"Description\"]\n",
        "        serving_size = row[\"Serving Size (g)\"]\n",
        "        calories = row[\"Calories\"]\n",
        "        protein = row[\"Protein\"]\n",
        "        carbs = row[\"Carbohydrates\"]\n",
        "        fat = row[\"Fat\"]\n",
        "\n",
        "        # Randomly select a question and answer template\n",
        "        for _ in range(5):  # Generate multiple conversations per food item\n",
        "            question_template = random.choice(question_templates)\n",
        "            answer_template = random.choice(answer_templates)\n",
        "\n",
        "            # Replace placeholders with actual data\n",
        "            question = question_template.format(\n",
        "                food=food,\n",
        "                value=f\"{random.choice([protein, calories, carbs, fat])}g\",\n",
        "                other_food=random.choice(dataset[\"Description\"])\n",
        "            )\n",
        "            answer = answer_template.format(\n",
        "                food=food,\n",
        "                value=f\"{protein}g of protein, {carbs}g of carbohydrates, {fat}g of fat\",\n",
        "                serving_size=f\"{serving_size}g\",\n",
        "                context=\"building muscle\"\n",
        "            )\n",
        "\n",
        "            # Format as a conversation\n",
        "            conversation = f\"User: {question}\\nBot: {answer}\\n<|endoftext|>\"\n",
        "            training_data.append(conversation)\n",
        "\n",
        "    return training_data\n",
        "\n",
        "# Example Usage\n",
        "training_conversations = generate_training_data(\n",
        "    question_file=\"question_templates.txt\",\n",
        "    answer_file=\"answer_templates.txt\",\n",
        "    dataset=food_df_with_serving_size  # Replace with your DataFrame variable\n",
        ")\n",
        "\n",
        "# Save to a training data file\n",
        "with open(\"training_data_conversations.txt\", \"w\") as file:\n",
        "    file.writelines(training_conversations)\n",
        "\n",
        "print(f\"Generated {len(training_conversations)} training examples.\")\n"
      ],
      "metadata": {
        "colab": {
          "base_uri": "https://localhost:8080/"
        },
        "id": "rB4LVEifMwtf",
        "outputId": "a4665f15-a524-423a-ea58-9a292dbb3e1d"
      },
      "execution_count": 59,
      "outputs": [
        {
          "output_type": "stream",
          "name": "stdout",
          "text": [
            "Generated 1580 training examples.\n"
          ]
        }
      ]
    },
    {
      "cell_type": "markdown",
      "source": [
        "## Fine Tuning using generated conversational training examples"
      ],
      "metadata": {
        "id": "wWeTa8ju1Lfg"
      }
    },
    {
      "cell_type": "code",
      "source": [
        "#pip install transformers datasets torch\n"
      ],
      "metadata": {
        "id": "yfAx2M2vzvbW"
      },
      "execution_count": 92,
      "outputs": []
    },
    {
      "cell_type": "code",
      "source": [
        "from datasets import load_dataset\n",
        "\n",
        "# Load the text dataset\n",
        "dataset = load_dataset(\"text\", data_files={\"train\": \"training_data_conversations.txt\"})\n"
      ],
      "metadata": {
        "colab": {
          "base_uri": "https://localhost:8080/",
          "height": 49,
          "referenced_widgets": [
            "a93890690fa54775b4021be2b555c2ad",
            "4c5ac3744ec54064b9da457c6ed58a31",
            "07f14d27796f4b9c8ad699f61f97dc41",
            "f5b16b03cb85444eb2729e962aadb813",
            "4fd724a6ec2945dfaca2f94fed0c558a",
            "71ead49bed8741b187af993d8c835201",
            "68ee07bdf4ce46338d96482d04fab8a4",
            "07707f433790495ba7293e6047928084",
            "a9fdb1c4600544d8a90d8d9917c6b8ea",
            "b6e9af2e598040c0b39797ed166baffc",
            "93c1c0ef04f046d99d88ea43a64b1dd2"
          ]
        },
        "id": "d7959DB_zvds",
        "outputId": "8b48f0cf-d187-4645-da7d-9753de6b2b8d"
      },
      "execution_count": 60,
      "outputs": [
        {
          "output_type": "display_data",
          "data": {
            "text/plain": [
              "Generating train split: 0 examples [00:00, ? examples/s]"
            ],
            "application/vnd.jupyter.widget-view+json": {
              "version_major": 2,
              "version_minor": 0,
              "model_id": "a93890690fa54775b4021be2b555c2ad"
            }
          },
          "metadata": {}
        }
      ]
    },
    {
      "cell_type": "code",
      "source": [
        "from transformers import GPT2Tokenizer\n",
        "\n",
        "# Load GPT-2 tokenizer\n",
        "tokenizer = GPT2Tokenizer.from_pretrained(\"gpt2\")\n",
        "tokenizer.pad_token = tokenizer.eos_token\n",
        "\n",
        "# Tokenize the dataset\n",
        "def tokenize_function(examples):\n",
        "    encodings = tokenizer(\n",
        "        examples[\"text\"],\n",
        "        truncation=True,\n",
        "        max_length=128,\n",
        "        padding=\"max_length\",  #\n",
        "    )\n",
        "    encodings[\"labels\"] = encodings[\"input_ids\"].copy()  # Add labels\n",
        "    return encodings\n",
        "\n",
        "tokenized_datasets = dataset.map(tokenize_function, batched=True, remove_columns=[\"text\"])\n",
        "\n",
        "\n",
        "# Apply tokenization\n",
        "tokenized_datasets = dataset.map(tokenize_function, batched=True, remove_columns=[\"text\"])\n"
      ],
      "metadata": {
        "colab": {
          "base_uri": "https://localhost:8080/",
          "height": 173,
          "referenced_widgets": [
            "959b0a61b83041f083637cb181a66037",
            "932d17f32ae44b7aa9859050408693bb",
            "ac8306b2606849d78ee236e957f580d4",
            "c2157d03c21b470486f6cbcc3bbb116f",
            "c9628144963744c4858383120214d211",
            "3a8af5c0c3e84694a74e8276ec85fc54",
            "eb5fa3ecbcbb46d48e20e0687fd0f88e",
            "b118d660090a4cf7ac6d05764eb5f43d",
            "d64caa98e6304987963d185046fa22b9",
            "5f6a1ed3390646e096226cb92874d266",
            "14e63cf64114486896d53ec8dc144ab9"
          ]
        },
        "id": "bF5CwsSHzvf6",
        "outputId": "6a0111c9-c3f9-4cb6-f491-e6c2490e3308"
      },
      "execution_count": 61,
      "outputs": [
        {
          "output_type": "stream",
          "name": "stderr",
          "text": [
            "/usr/local/lib/python3.10/dist-packages/huggingface_hub/utils/_auth.py:94: UserWarning: \n",
            "The secret `HF_TOKEN` does not exist in your Colab secrets.\n",
            "To authenticate with the Hugging Face Hub, create a token in your settings tab (https://huggingface.co/settings/tokens), set it as secret in your Google Colab and restart your session.\n",
            "You will be able to reuse this secret in all of your notebooks.\n",
            "Please note that authentication is recommended but still optional to access public models or datasets.\n",
            "  warnings.warn(\n"
          ]
        },
        {
          "output_type": "display_data",
          "data": {
            "text/plain": [
              "Map:   0%|          | 0/3161 [00:00<?, ? examples/s]"
            ],
            "application/vnd.jupyter.widget-view+json": {
              "version_major": 2,
              "version_minor": 0,
              "model_id": "959b0a61b83041f083637cb181a66037"
            }
          },
          "metadata": {}
        }
      ]
    },
    {
      "cell_type": "code",
      "source": [
        "from transformers import GPT2LMHeadModel\n",
        "\n",
        "# Load GPT-2 model\n",
        "model = GPT2LMHeadModel.from_pretrained(\"gpt2\")\n"
      ],
      "metadata": {
        "id": "cKGeqi9fzviF"
      },
      "execution_count": 62,
      "outputs": []
    },
    {
      "cell_type": "code",
      "source": [
        "from transformers import GPT2Tokenizer, GPT2LMHeadModel, Trainer, TrainingArguments\n",
        "\n",
        "\n",
        "# Define training arguments\n",
        "training_args = TrainingArguments(\n",
        "    output_dir=\"./gpt2-finetuned\",\n",
        "    overwrite_output_dir=True,\n",
        "    num_train_epochs=5,\n",
        "    per_device_train_batch_size=4,\n",
        "    save_steps=500,\n",
        "    save_total_limit=2,\n",
        "    logging_dir=\"./logs\",\n",
        "    logging_steps=100,\n",
        "    report_to=[],  # Disable wandb and other reporting tools\n",
        ")\n",
        "\n",
        "# Initialize the Trainer\n",
        "trainer = Trainer(\n",
        "    model=model,\n",
        "    args=training_args,\n",
        "    train_dataset=tokenized_datasets[\"train\"],\n",
        "    tokenizer=tokenizer,  # Ensure tokenizer includes pad_token\n",
        ")\n",
        "\n",
        "# Fine-tune the model\n",
        "trainer.train()\n",
        "\n"
      ],
      "metadata": {
        "colab": {
          "base_uri": "https://localhost:8080/",
          "height": 768
        },
        "id": "zta0ZUb4zvkJ",
        "outputId": "7b99ea78-41ed-4971-a51a-22c4dba0e76e"
      },
      "execution_count": null,
      "outputs": [
        {
          "output_type": "stream",
          "name": "stderr",
          "text": [
            "<ipython-input-63-54b54236b375>:18: FutureWarning: `tokenizer` is deprecated and will be removed in version 5.0.0 for `Trainer.__init__`. Use `processing_class` instead.\n",
            "  trainer = Trainer(\n"
          ]
        },
        {
          "output_type": "display_data",
          "data": {
            "text/plain": [
              "<IPython.core.display.HTML object>"
            ],
            "text/html": [
              "\n",
              "    <div>\n",
              "      \n",
              "      <progress value='2171' max='3955' style='width:300px; height:20px; vertical-align: middle;'></progress>\n",
              "      [2171/3955 07:01 < 05:46, 5.15 it/s, Epoch 2.74/5]\n",
              "    </div>\n",
              "    <table border=\"1\" class=\"dataframe\">\n",
              "  <thead>\n",
              " <tr style=\"text-align: left;\">\n",
              "      <th>Step</th>\n",
              "      <th>Training Loss</th>\n",
              "    </tr>\n",
              "  </thead>\n",
              "  <tbody>\n",
              "    <tr>\n",
              "      <td>100</td>\n",
              "      <td>0.552100</td>\n",
              "    </tr>\n",
              "    <tr>\n",
              "      <td>200</td>\n",
              "      <td>0.226300</td>\n",
              "    </tr>\n",
              "    <tr>\n",
              "      <td>300</td>\n",
              "      <td>0.241700</td>\n",
              "    </tr>\n",
              "    <tr>\n",
              "      <td>400</td>\n",
              "      <td>0.192700</td>\n",
              "    </tr>\n",
              "    <tr>\n",
              "      <td>500</td>\n",
              "      <td>0.187500</td>\n",
              "    </tr>\n",
              "    <tr>\n",
              "      <td>600</td>\n",
              "      <td>0.184800</td>\n",
              "    </tr>\n",
              "    <tr>\n",
              "      <td>700</td>\n",
              "      <td>0.174700</td>\n",
              "    </tr>\n",
              "    <tr>\n",
              "      <td>800</td>\n",
              "      <td>0.161700</td>\n",
              "    </tr>\n",
              "    <tr>\n",
              "      <td>900</td>\n",
              "      <td>0.163700</td>\n",
              "    </tr>\n",
              "    <tr>\n",
              "      <td>1000</td>\n",
              "      <td>0.147700</td>\n",
              "    </tr>\n",
              "    <tr>\n",
              "      <td>1100</td>\n",
              "      <td>0.173700</td>\n",
              "    </tr>\n",
              "    <tr>\n",
              "      <td>1200</td>\n",
              "      <td>0.152600</td>\n",
              "    </tr>\n",
              "    <tr>\n",
              "      <td>1300</td>\n",
              "      <td>0.149900</td>\n",
              "    </tr>\n",
              "    <tr>\n",
              "      <td>1400</td>\n",
              "      <td>0.148600</td>\n",
              "    </tr>\n",
              "    <tr>\n",
              "      <td>1500</td>\n",
              "      <td>0.148500</td>\n",
              "    </tr>\n",
              "    <tr>\n",
              "      <td>1600</td>\n",
              "      <td>0.142800</td>\n",
              "    </tr>\n",
              "    <tr>\n",
              "      <td>1700</td>\n",
              "      <td>0.154700</td>\n",
              "    </tr>\n",
              "    <tr>\n",
              "      <td>1800</td>\n",
              "      <td>0.138600</td>\n",
              "    </tr>\n",
              "    <tr>\n",
              "      <td>1900</td>\n",
              "      <td>0.134200</td>\n",
              "    </tr>\n",
              "    <tr>\n",
              "      <td>2000</td>\n",
              "      <td>0.140400</td>\n",
              "    </tr>\n",
              "    <tr>\n",
              "      <td>2100</td>\n",
              "      <td>0.130200</td>\n",
              "    </tr>\n",
              "  </tbody>\n",
              "</table><p>"
            ]
          },
          "metadata": {}
        }
      ]
    },
    {
      "cell_type": "code",
      "source": [
        "# Save the model after training\n",
        "trainer.save_model(\"./gpt2-finetuned\")\n",
        "tokenizer.save_pretrained(\"./gpt2-finetuned\")"
      ],
      "metadata": {
        "colab": {
          "base_uri": "https://localhost:8080/"
        },
        "id": "4X6ms3Zb56b8",
        "outputId": "6455da7e-068f-4bac-a68e-dd438ebc4f0f"
      },
      "execution_count": 101,
      "outputs": [
        {
          "output_type": "execute_result",
          "data": {
            "text/plain": [
              "('./gpt2-finetuned/tokenizer_config.json',\n",
              " './gpt2-finetuned/special_tokens_map.json',\n",
              " './gpt2-finetuned/vocab.json',\n",
              " './gpt2-finetuned/merges.txt',\n",
              " './gpt2-finetuned/added_tokens.json')"
            ]
          },
          "metadata": {},
          "execution_count": 101
        }
      ]
    },
    {
      "cell_type": "code",
      "source": [
        "# Load the fine-tuned model\n",
        "from transformers import GPT2LMHeadModel, GPT2Tokenizer\n",
        "\n",
        "model = GPT2LMHeadModel.from_pretrained(\"./gpt2-finetuned\")\n",
        "tokenizer = GPT2Tokenizer.from_pretrained(\"./gpt2-finetuned\")\n",
        "\n",
        "def generate_response(prompt):\n",
        "    inputs = tokenizer.encode(prompt, return_tensors=\"pt\")\n",
        "    outputs = model.generate(inputs, max_length=50, num_return_sequences=1, temperature=0.7)\n",
        "    return tokenizer.decode(outputs[0], skip_special_tokens=True)\n",
        "\n",
        "# Test the chatbot\n",
        "print(generate_response(\"User: What are some high-protein foods?\\nBot:\"))\n",
        "print(generate_response(\"User: What are low-calorie foods?\\nBot:\"))\n"
      ],
      "metadata": {
        "colab": {
          "base_uri": "https://localhost:8080/"
        },
        "id": "kXrQFZ-Yzvob",
        "outputId": "ec27166f-9fdf-487f-8007-9b0b4c1a0b9f"
      },
      "execution_count": 102,
      "outputs": [
        {
          "output_type": "stream",
          "name": "stderr",
          "text": [
            "/usr/local/lib/python3.10/dist-packages/transformers/generation/configuration_utils.py:590: UserWarning: `do_sample` is set to `False`. However, `temperature` is set to `0.7` -- this flag is only used in sample-based generation modes. You should set `do_sample=True` or unset `temperature`.\n",
            "  warnings.warn(\n",
            "The attention mask and the pad token id were not set. As a consequence, you may observe unexpected behavior. Please pass your input's `attention_mask` to obtain reliable results.\n",
            "Setting `pad_token_id` to `eos_token_id`:None for open-end generation.\n",
            "The attention mask and the pad token id were not set. As a consequence, you may observe unexpected behavior. Please pass your input's `attention_mask` to obtain reliable results.\n",
            "Setting `pad_token_id` to `eos_token_id`:None for open-end generation.\n"
          ]
        },
        {
          "output_type": "stream",
          "name": "stdout",
          "text": [
            "User: What are some high-protein foods?\n",
            "Bot: Beans  Dry.\n",
            "User: What are low-calorie foods?\n",
            "Bot: Beans  Dry.\n"
          ]
        }
      ]
    },
    {
      "cell_type": "code",
      "source": [
        "# Load the fine-tuned model and tokenizer\n",
        "model = GPT2LMHeadModel.from_pretrained(\"./gpt2-finetuned\")\n",
        "tokenizer = GPT2Tokenizer.from_pretrained(\"./gpt2-finetuned\")\n",
        "\n",
        "# Ensure pad_token is set\n",
        "tokenizer.pad_token = tokenizer.eos_token  # GPT-2 uses eos_token for padding\n",
        "\n",
        "# Generate response with well-structured prompts and advanced generation settings\n",
        "def generate_response(prompt):\n",
        "    # Crafting the prompt for better user interaction\n",
        "    structured_prompt = f\"User: {prompt}\\nBot:\"\n",
        "\n",
        "    # Tokenize and prepare the input\n",
        "    inputs = tokenizer.encode(structured_prompt, return_tensors=\"pt\", padding=True, truncation=True)\n",
        "    attention_mask = inputs.ne(tokenizer.pad_token_id).to(inputs.device)  # Create attention mask\n",
        "\n",
        "    # Generate response with temperature, sampling, and pad_token_id adjustments\n",
        "    outputs = model.generate(\n",
        "        inputs,\n",
        "        attention_mask=attention_mask,\n",
        "        max_length=50,  # Adjust the max length of the output response\n",
        "        num_return_sequences=3,  # Number of responses to generate\n",
        "        temperature=0.9,  # Control randomness (higher = more diverse output)\n",
        "        do_sample=True,  # Enable sampling for varied responses\n",
        "        pad_token_id=tokenizer.eos_token_id  # Use eos_token_id as pad_token to prevent issues\n",
        "    )\n",
        "\n",
        "    # Decode and return the response, skipping special tokens\n",
        "    return tokenizer.decode(outputs[0], skip_special_tokens=True)\n",
        "\n",
        "# Test the chatbot with different queries\n",
        "print(generate_response(\"What are some high-protein foods?\"))\n",
        "print(generate_response(\"What are low-calorie foods?\"))\n",
        "print(generate_response(\"Can you suggest some balanced foods?\"))"
      ],
      "metadata": {
        "colab": {
          "base_uri": "https://localhost:8080/"
        },
        "id": "41nX9mIdzvqn",
        "outputId": "a48f9316-b94c-4184-aad4-4e9606dcfebf"
      },
      "execution_count": 103,
      "outputs": [
        {
          "output_type": "stream",
          "name": "stdout",
          "text": [
            "User: What are some high-protein foods?\n",
            "Bot: Beans  dry.\n",
            "User: What are low-calorie foods?\n",
            "Bot: Beans  cannellini.\n",
            "User: Can you suggest some balanced foods?\n",
            "Bot: Beans  Dry.\n"
          ]
        }
      ]
    },
    {
      "cell_type": "code",
      "source": [
        "# Prompt Engineering\n",
        "\n",
        "print(generate_response(\"Can you provide a detailed list of foods that are good for a muscle-building diet? Please include a variety of options and mention their nutritional benefits.\"))\n"
      ],
      "metadata": {
        "colab": {
          "base_uri": "https://localhost:8080/"
        },
        "id": "6dUlcj7FzvtP",
        "outputId": "d13f4b14-8374-4e66-fd13-54996c5b2f7f"
      },
      "execution_count": 104,
      "outputs": [
        {
          "output_type": "stream",
          "name": "stdout",
          "text": [
            "User: Can you provide a detailed list of foods that are good for a muscle-building diet? Please include a variety of options and mention their nutritional benefits.\n",
            "Bot: Rice  red.\n"
          ]
        }
      ]
    },
    {
      "cell_type": "code",
      "source": [
        "# Function to generate responses based on user queries\n",
        "def generate_dynamic_response(user_input):\n",
        "    # Define the prompt template that will instruct GPT-2 to generate detailed answers\n",
        "    prompt = f\"User: {user_input}\\nBot:\"\n",
        "\n",
        "    # Tokenize the prompt\n",
        "    inputs = tokenizer.encode(prompt, return_tensors=\"pt\")\n",
        "\n",
        "    # Generate a response\n",
        "    outputs = model.generate(\n",
        "        inputs,\n",
        "        max_length=150,  # You can adjust this to control the length of the response\n",
        "        num_return_sequences=1,\n",
        "        temperature=0.7,  # Adjust this for response creativity (higher = more diverse)\n",
        "        top_p=0.9,       # Top-p sampling for more controlled randomness\n",
        "        do_sample=True,  # Enable sampling for more diverse responses\n",
        "        pad_token_id=tokenizer.eos_token_id  # Use eos_token as pad_token\n",
        "    )\n",
        "\n",
        "    # Decode and return the generated response\n",
        "    response = tokenizer.decode(outputs[0], skip_special_tokens=True)\n",
        "    return response\n",
        "\n",
        "# Example of using the function with user input\n",
        "user_input = \"What do you recommend to eat to lose weight?\"\n",
        "response = generate_dynamic_response(user_input)\n",
        "print(response)"
      ],
      "metadata": {
        "colab": {
          "base_uri": "https://localhost:8080/"
        },
        "id": "T_1OpsQP-xRn",
        "outputId": "9888dab1-c87a-4c11-eb53-dd195fffcd60"
      },
      "execution_count": 107,
      "outputs": [
        {
          "output_type": "stream",
          "name": "stdout",
          "text": [
            "User: What do you recommend to eat to lose weight?\n",
            "Bot: Flour  cassava.\n"
          ]
        }
      ]
    },
    {
      "cell_type": "code",
      "source": [],
      "metadata": {
        "id": "e27oPTvB-xUG"
      },
      "execution_count": null,
      "outputs": []
    },
    {
      "cell_type": "code",
      "source": [],
      "metadata": {
        "id": "3tZcbM3c-xWY"
      },
      "execution_count": null,
      "outputs": []
    }
  ],
  "metadata": {
    "accelerator": "GPU",
    "colab": {
      "gpuType": "T4",
      "provenance": []
    },
    "kernelspec": {
      "display_name": "Python 3",
      "name": "python3"
    },
    "language_info": {
      "name": "python"
    },
    "widgets": {
      "application/vnd.jupyter.widget-state+json": {
        "a93890690fa54775b4021be2b555c2ad": {
          "model_module": "@jupyter-widgets/controls",
          "model_name": "HBoxModel",
          "model_module_version": "1.5.0",
          "state": {
            "_dom_classes": [],
            "_model_module": "@jupyter-widgets/controls",
            "_model_module_version": "1.5.0",
            "_model_name": "HBoxModel",
            "_view_count": null,
            "_view_module": "@jupyter-widgets/controls",
            "_view_module_version": "1.5.0",
            "_view_name": "HBoxView",
            "box_style": "",
            "children": [
              "IPY_MODEL_4c5ac3744ec54064b9da457c6ed58a31",
              "IPY_MODEL_07f14d27796f4b9c8ad699f61f97dc41",
              "IPY_MODEL_f5b16b03cb85444eb2729e962aadb813"
            ],
            "layout": "IPY_MODEL_4fd724a6ec2945dfaca2f94fed0c558a"
          }
        },
        "4c5ac3744ec54064b9da457c6ed58a31": {
          "model_module": "@jupyter-widgets/controls",
          "model_name": "HTMLModel",
          "model_module_version": "1.5.0",
          "state": {
            "_dom_classes": [],
            "_model_module": "@jupyter-widgets/controls",
            "_model_module_version": "1.5.0",
            "_model_name": "HTMLModel",
            "_view_count": null,
            "_view_module": "@jupyter-widgets/controls",
            "_view_module_version": "1.5.0",
            "_view_name": "HTMLView",
            "description": "",
            "description_tooltip": null,
            "layout": "IPY_MODEL_71ead49bed8741b187af993d8c835201",
            "placeholder": "​",
            "style": "IPY_MODEL_68ee07bdf4ce46338d96482d04fab8a4",
            "value": "Generating train split: "
          }
        },
        "07f14d27796f4b9c8ad699f61f97dc41": {
          "model_module": "@jupyter-widgets/controls",
          "model_name": "FloatProgressModel",
          "model_module_version": "1.5.0",
          "state": {
            "_dom_classes": [],
            "_model_module": "@jupyter-widgets/controls",
            "_model_module_version": "1.5.0",
            "_model_name": "FloatProgressModel",
            "_view_count": null,
            "_view_module": "@jupyter-widgets/controls",
            "_view_module_version": "1.5.0",
            "_view_name": "ProgressView",
            "bar_style": "success",
            "description": "",
            "description_tooltip": null,
            "layout": "IPY_MODEL_07707f433790495ba7293e6047928084",
            "max": 1,
            "min": 0,
            "orientation": "horizontal",
            "style": "IPY_MODEL_a9fdb1c4600544d8a90d8d9917c6b8ea",
            "value": 1
          }
        },
        "f5b16b03cb85444eb2729e962aadb813": {
          "model_module": "@jupyter-widgets/controls",
          "model_name": "HTMLModel",
          "model_module_version": "1.5.0",
          "state": {
            "_dom_classes": [],
            "_model_module": "@jupyter-widgets/controls",
            "_model_module_version": "1.5.0",
            "_model_name": "HTMLModel",
            "_view_count": null,
            "_view_module": "@jupyter-widgets/controls",
            "_view_module_version": "1.5.0",
            "_view_name": "HTMLView",
            "description": "",
            "description_tooltip": null,
            "layout": "IPY_MODEL_b6e9af2e598040c0b39797ed166baffc",
            "placeholder": "​",
            "style": "IPY_MODEL_93c1c0ef04f046d99d88ea43a64b1dd2",
            "value": " 3161/0 [00:00&lt;00:00, 54145.58 examples/s]"
          }
        },
        "4fd724a6ec2945dfaca2f94fed0c558a": {
          "model_module": "@jupyter-widgets/base",
          "model_name": "LayoutModel",
          "model_module_version": "1.2.0",
          "state": {
            "_model_module": "@jupyter-widgets/base",
            "_model_module_version": "1.2.0",
            "_model_name": "LayoutModel",
            "_view_count": null,
            "_view_module": "@jupyter-widgets/base",
            "_view_module_version": "1.2.0",
            "_view_name": "LayoutView",
            "align_content": null,
            "align_items": null,
            "align_self": null,
            "border": null,
            "bottom": null,
            "display": null,
            "flex": null,
            "flex_flow": null,
            "grid_area": null,
            "grid_auto_columns": null,
            "grid_auto_flow": null,
            "grid_auto_rows": null,
            "grid_column": null,
            "grid_gap": null,
            "grid_row": null,
            "grid_template_areas": null,
            "grid_template_columns": null,
            "grid_template_rows": null,
            "height": null,
            "justify_content": null,
            "justify_items": null,
            "left": null,
            "margin": null,
            "max_height": null,
            "max_width": null,
            "min_height": null,
            "min_width": null,
            "object_fit": null,
            "object_position": null,
            "order": null,
            "overflow": null,
            "overflow_x": null,
            "overflow_y": null,
            "padding": null,
            "right": null,
            "top": null,
            "visibility": null,
            "width": null
          }
        },
        "71ead49bed8741b187af993d8c835201": {
          "model_module": "@jupyter-widgets/base",
          "model_name": "LayoutModel",
          "model_module_version": "1.2.0",
          "state": {
            "_model_module": "@jupyter-widgets/base",
            "_model_module_version": "1.2.0",
            "_model_name": "LayoutModel",
            "_view_count": null,
            "_view_module": "@jupyter-widgets/base",
            "_view_module_version": "1.2.0",
            "_view_name": "LayoutView",
            "align_content": null,
            "align_items": null,
            "align_self": null,
            "border": null,
            "bottom": null,
            "display": null,
            "flex": null,
            "flex_flow": null,
            "grid_area": null,
            "grid_auto_columns": null,
            "grid_auto_flow": null,
            "grid_auto_rows": null,
            "grid_column": null,
            "grid_gap": null,
            "grid_row": null,
            "grid_template_areas": null,
            "grid_template_columns": null,
            "grid_template_rows": null,
            "height": null,
            "justify_content": null,
            "justify_items": null,
            "left": null,
            "margin": null,
            "max_height": null,
            "max_width": null,
            "min_height": null,
            "min_width": null,
            "object_fit": null,
            "object_position": null,
            "order": null,
            "overflow": null,
            "overflow_x": null,
            "overflow_y": null,
            "padding": null,
            "right": null,
            "top": null,
            "visibility": null,
            "width": null
          }
        },
        "68ee07bdf4ce46338d96482d04fab8a4": {
          "model_module": "@jupyter-widgets/controls",
          "model_name": "DescriptionStyleModel",
          "model_module_version": "1.5.0",
          "state": {
            "_model_module": "@jupyter-widgets/controls",
            "_model_module_version": "1.5.0",
            "_model_name": "DescriptionStyleModel",
            "_view_count": null,
            "_view_module": "@jupyter-widgets/base",
            "_view_module_version": "1.2.0",
            "_view_name": "StyleView",
            "description_width": ""
          }
        },
        "07707f433790495ba7293e6047928084": {
          "model_module": "@jupyter-widgets/base",
          "model_name": "LayoutModel",
          "model_module_version": "1.2.0",
          "state": {
            "_model_module": "@jupyter-widgets/base",
            "_model_module_version": "1.2.0",
            "_model_name": "LayoutModel",
            "_view_count": null,
            "_view_module": "@jupyter-widgets/base",
            "_view_module_version": "1.2.0",
            "_view_name": "LayoutView",
            "align_content": null,
            "align_items": null,
            "align_self": null,
            "border": null,
            "bottom": null,
            "display": null,
            "flex": null,
            "flex_flow": null,
            "grid_area": null,
            "grid_auto_columns": null,
            "grid_auto_flow": null,
            "grid_auto_rows": null,
            "grid_column": null,
            "grid_gap": null,
            "grid_row": null,
            "grid_template_areas": null,
            "grid_template_columns": null,
            "grid_template_rows": null,
            "height": null,
            "justify_content": null,
            "justify_items": null,
            "left": null,
            "margin": null,
            "max_height": null,
            "max_width": null,
            "min_height": null,
            "min_width": null,
            "object_fit": null,
            "object_position": null,
            "order": null,
            "overflow": null,
            "overflow_x": null,
            "overflow_y": null,
            "padding": null,
            "right": null,
            "top": null,
            "visibility": null,
            "width": "20px"
          }
        },
        "a9fdb1c4600544d8a90d8d9917c6b8ea": {
          "model_module": "@jupyter-widgets/controls",
          "model_name": "ProgressStyleModel",
          "model_module_version": "1.5.0",
          "state": {
            "_model_module": "@jupyter-widgets/controls",
            "_model_module_version": "1.5.0",
            "_model_name": "ProgressStyleModel",
            "_view_count": null,
            "_view_module": "@jupyter-widgets/base",
            "_view_module_version": "1.2.0",
            "_view_name": "StyleView",
            "bar_color": null,
            "description_width": ""
          }
        },
        "b6e9af2e598040c0b39797ed166baffc": {
          "model_module": "@jupyter-widgets/base",
          "model_name": "LayoutModel",
          "model_module_version": "1.2.0",
          "state": {
            "_model_module": "@jupyter-widgets/base",
            "_model_module_version": "1.2.0",
            "_model_name": "LayoutModel",
            "_view_count": null,
            "_view_module": "@jupyter-widgets/base",
            "_view_module_version": "1.2.0",
            "_view_name": "LayoutView",
            "align_content": null,
            "align_items": null,
            "align_self": null,
            "border": null,
            "bottom": null,
            "display": null,
            "flex": null,
            "flex_flow": null,
            "grid_area": null,
            "grid_auto_columns": null,
            "grid_auto_flow": null,
            "grid_auto_rows": null,
            "grid_column": null,
            "grid_gap": null,
            "grid_row": null,
            "grid_template_areas": null,
            "grid_template_columns": null,
            "grid_template_rows": null,
            "height": null,
            "justify_content": null,
            "justify_items": null,
            "left": null,
            "margin": null,
            "max_height": null,
            "max_width": null,
            "min_height": null,
            "min_width": null,
            "object_fit": null,
            "object_position": null,
            "order": null,
            "overflow": null,
            "overflow_x": null,
            "overflow_y": null,
            "padding": null,
            "right": null,
            "top": null,
            "visibility": null,
            "width": null
          }
        },
        "93c1c0ef04f046d99d88ea43a64b1dd2": {
          "model_module": "@jupyter-widgets/controls",
          "model_name": "DescriptionStyleModel",
          "model_module_version": "1.5.0",
          "state": {
            "_model_module": "@jupyter-widgets/controls",
            "_model_module_version": "1.5.0",
            "_model_name": "DescriptionStyleModel",
            "_view_count": null,
            "_view_module": "@jupyter-widgets/base",
            "_view_module_version": "1.2.0",
            "_view_name": "StyleView",
            "description_width": ""
          }
        },
        "959b0a61b83041f083637cb181a66037": {
          "model_module": "@jupyter-widgets/controls",
          "model_name": "HBoxModel",
          "model_module_version": "1.5.0",
          "state": {
            "_dom_classes": [],
            "_model_module": "@jupyter-widgets/controls",
            "_model_module_version": "1.5.0",
            "_model_name": "HBoxModel",
            "_view_count": null,
            "_view_module": "@jupyter-widgets/controls",
            "_view_module_version": "1.5.0",
            "_view_name": "HBoxView",
            "box_style": "",
            "children": [
              "IPY_MODEL_932d17f32ae44b7aa9859050408693bb",
              "IPY_MODEL_ac8306b2606849d78ee236e957f580d4",
              "IPY_MODEL_c2157d03c21b470486f6cbcc3bbb116f"
            ],
            "layout": "IPY_MODEL_c9628144963744c4858383120214d211"
          }
        },
        "932d17f32ae44b7aa9859050408693bb": {
          "model_module": "@jupyter-widgets/controls",
          "model_name": "HTMLModel",
          "model_module_version": "1.5.0",
          "state": {
            "_dom_classes": [],
            "_model_module": "@jupyter-widgets/controls",
            "_model_module_version": "1.5.0",
            "_model_name": "HTMLModel",
            "_view_count": null,
            "_view_module": "@jupyter-widgets/controls",
            "_view_module_version": "1.5.0",
            "_view_name": "HTMLView",
            "description": "",
            "description_tooltip": null,
            "layout": "IPY_MODEL_3a8af5c0c3e84694a74e8276ec85fc54",
            "placeholder": "​",
            "style": "IPY_MODEL_eb5fa3ecbcbb46d48e20e0687fd0f88e",
            "value": "Map: 100%"
          }
        },
        "ac8306b2606849d78ee236e957f580d4": {
          "model_module": "@jupyter-widgets/controls",
          "model_name": "FloatProgressModel",
          "model_module_version": "1.5.0",
          "state": {
            "_dom_classes": [],
            "_model_module": "@jupyter-widgets/controls",
            "_model_module_version": "1.5.0",
            "_model_name": "FloatProgressModel",
            "_view_count": null,
            "_view_module": "@jupyter-widgets/controls",
            "_view_module_version": "1.5.0",
            "_view_name": "ProgressView",
            "bar_style": "success",
            "description": "",
            "description_tooltip": null,
            "layout": "IPY_MODEL_b118d660090a4cf7ac6d05764eb5f43d",
            "max": 3161,
            "min": 0,
            "orientation": "horizontal",
            "style": "IPY_MODEL_d64caa98e6304987963d185046fa22b9",
            "value": 3161
          }
        },
        "c2157d03c21b470486f6cbcc3bbb116f": {
          "model_module": "@jupyter-widgets/controls",
          "model_name": "HTMLModel",
          "model_module_version": "1.5.0",
          "state": {
            "_dom_classes": [],
            "_model_module": "@jupyter-widgets/controls",
            "_model_module_version": "1.5.0",
            "_model_name": "HTMLModel",
            "_view_count": null,
            "_view_module": "@jupyter-widgets/controls",
            "_view_module_version": "1.5.0",
            "_view_name": "HTMLView",
            "description": "",
            "description_tooltip": null,
            "layout": "IPY_MODEL_5f6a1ed3390646e096226cb92874d266",
            "placeholder": "​",
            "style": "IPY_MODEL_14e63cf64114486896d53ec8dc144ab9",
            "value": " 3161/3161 [00:01&lt;00:00, 2321.36 examples/s]"
          }
        },
        "c9628144963744c4858383120214d211": {
          "model_module": "@jupyter-widgets/base",
          "model_name": "LayoutModel",
          "model_module_version": "1.2.0",
          "state": {
            "_model_module": "@jupyter-widgets/base",
            "_model_module_version": "1.2.0",
            "_model_name": "LayoutModel",
            "_view_count": null,
            "_view_module": "@jupyter-widgets/base",
            "_view_module_version": "1.2.0",
            "_view_name": "LayoutView",
            "align_content": null,
            "align_items": null,
            "align_self": null,
            "border": null,
            "bottom": null,
            "display": null,
            "flex": null,
            "flex_flow": null,
            "grid_area": null,
            "grid_auto_columns": null,
            "grid_auto_flow": null,
            "grid_auto_rows": null,
            "grid_column": null,
            "grid_gap": null,
            "grid_row": null,
            "grid_template_areas": null,
            "grid_template_columns": null,
            "grid_template_rows": null,
            "height": null,
            "justify_content": null,
            "justify_items": null,
            "left": null,
            "margin": null,
            "max_height": null,
            "max_width": null,
            "min_height": null,
            "min_width": null,
            "object_fit": null,
            "object_position": null,
            "order": null,
            "overflow": null,
            "overflow_x": null,
            "overflow_y": null,
            "padding": null,
            "right": null,
            "top": null,
            "visibility": null,
            "width": null
          }
        },
        "3a8af5c0c3e84694a74e8276ec85fc54": {
          "model_module": "@jupyter-widgets/base",
          "model_name": "LayoutModel",
          "model_module_version": "1.2.0",
          "state": {
            "_model_module": "@jupyter-widgets/base",
            "_model_module_version": "1.2.0",
            "_model_name": "LayoutModel",
            "_view_count": null,
            "_view_module": "@jupyter-widgets/base",
            "_view_module_version": "1.2.0",
            "_view_name": "LayoutView",
            "align_content": null,
            "align_items": null,
            "align_self": null,
            "border": null,
            "bottom": null,
            "display": null,
            "flex": null,
            "flex_flow": null,
            "grid_area": null,
            "grid_auto_columns": null,
            "grid_auto_flow": null,
            "grid_auto_rows": null,
            "grid_column": null,
            "grid_gap": null,
            "grid_row": null,
            "grid_template_areas": null,
            "grid_template_columns": null,
            "grid_template_rows": null,
            "height": null,
            "justify_content": null,
            "justify_items": null,
            "left": null,
            "margin": null,
            "max_height": null,
            "max_width": null,
            "min_height": null,
            "min_width": null,
            "object_fit": null,
            "object_position": null,
            "order": null,
            "overflow": null,
            "overflow_x": null,
            "overflow_y": null,
            "padding": null,
            "right": null,
            "top": null,
            "visibility": null,
            "width": null
          }
        },
        "eb5fa3ecbcbb46d48e20e0687fd0f88e": {
          "model_module": "@jupyter-widgets/controls",
          "model_name": "DescriptionStyleModel",
          "model_module_version": "1.5.0",
          "state": {
            "_model_module": "@jupyter-widgets/controls",
            "_model_module_version": "1.5.0",
            "_model_name": "DescriptionStyleModel",
            "_view_count": null,
            "_view_module": "@jupyter-widgets/base",
            "_view_module_version": "1.2.0",
            "_view_name": "StyleView",
            "description_width": ""
          }
        },
        "b118d660090a4cf7ac6d05764eb5f43d": {
          "model_module": "@jupyter-widgets/base",
          "model_name": "LayoutModel",
          "model_module_version": "1.2.0",
          "state": {
            "_model_module": "@jupyter-widgets/base",
            "_model_module_version": "1.2.0",
            "_model_name": "LayoutModel",
            "_view_count": null,
            "_view_module": "@jupyter-widgets/base",
            "_view_module_version": "1.2.0",
            "_view_name": "LayoutView",
            "align_content": null,
            "align_items": null,
            "align_self": null,
            "border": null,
            "bottom": null,
            "display": null,
            "flex": null,
            "flex_flow": null,
            "grid_area": null,
            "grid_auto_columns": null,
            "grid_auto_flow": null,
            "grid_auto_rows": null,
            "grid_column": null,
            "grid_gap": null,
            "grid_row": null,
            "grid_template_areas": null,
            "grid_template_columns": null,
            "grid_template_rows": null,
            "height": null,
            "justify_content": null,
            "justify_items": null,
            "left": null,
            "margin": null,
            "max_height": null,
            "max_width": null,
            "min_height": null,
            "min_width": null,
            "object_fit": null,
            "object_position": null,
            "order": null,
            "overflow": null,
            "overflow_x": null,
            "overflow_y": null,
            "padding": null,
            "right": null,
            "top": null,
            "visibility": null,
            "width": null
          }
        },
        "d64caa98e6304987963d185046fa22b9": {
          "model_module": "@jupyter-widgets/controls",
          "model_name": "ProgressStyleModel",
          "model_module_version": "1.5.0",
          "state": {
            "_model_module": "@jupyter-widgets/controls",
            "_model_module_version": "1.5.0",
            "_model_name": "ProgressStyleModel",
            "_view_count": null,
            "_view_module": "@jupyter-widgets/base",
            "_view_module_version": "1.2.0",
            "_view_name": "StyleView",
            "bar_color": null,
            "description_width": ""
          }
        },
        "5f6a1ed3390646e096226cb92874d266": {
          "model_module": "@jupyter-widgets/base",
          "model_name": "LayoutModel",
          "model_module_version": "1.2.0",
          "state": {
            "_model_module": "@jupyter-widgets/base",
            "_model_module_version": "1.2.0",
            "_model_name": "LayoutModel",
            "_view_count": null,
            "_view_module": "@jupyter-widgets/base",
            "_view_module_version": "1.2.0",
            "_view_name": "LayoutView",
            "align_content": null,
            "align_items": null,
            "align_self": null,
            "border": null,
            "bottom": null,
            "display": null,
            "flex": null,
            "flex_flow": null,
            "grid_area": null,
            "grid_auto_columns": null,
            "grid_auto_flow": null,
            "grid_auto_rows": null,
            "grid_column": null,
            "grid_gap": null,
            "grid_row": null,
            "grid_template_areas": null,
            "grid_template_columns": null,
            "grid_template_rows": null,
            "height": null,
            "justify_content": null,
            "justify_items": null,
            "left": null,
            "margin": null,
            "max_height": null,
            "max_width": null,
            "min_height": null,
            "min_width": null,
            "object_fit": null,
            "object_position": null,
            "order": null,
            "overflow": null,
            "overflow_x": null,
            "overflow_y": null,
            "padding": null,
            "right": null,
            "top": null,
            "visibility": null,
            "width": null
          }
        },
        "14e63cf64114486896d53ec8dc144ab9": {
          "model_module": "@jupyter-widgets/controls",
          "model_name": "DescriptionStyleModel",
          "model_module_version": "1.5.0",
          "state": {
            "_model_module": "@jupyter-widgets/controls",
            "_model_module_version": "1.5.0",
            "_model_name": "DescriptionStyleModel",
            "_view_count": null,
            "_view_module": "@jupyter-widgets/base",
            "_view_module_version": "1.2.0",
            "_view_name": "StyleView",
            "description_width": ""
          }
        }
      }
    }
  },
  "nbformat": 4,
  "nbformat_minor": 0
}