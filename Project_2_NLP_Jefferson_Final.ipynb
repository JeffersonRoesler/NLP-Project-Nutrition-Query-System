{
 "cells": [
  {
   "cell_type": "markdown",
   "metadata": {
    "id": "lMsU9t-s8Scp"
   },
   "source": [
    "## NLP PROJECT #2\n",
    "\n",
    "### Student: Jefferson Roesler"
   ]
  },
  {
   "cell_type": "markdown",
   "metadata": {
    "id": "BwaG1nTZ_8Mu"
   },
   "source": [
    "# 1. Dataset\n",
    "\n"
   ]
  },
  {
   "cell_type": "code",
   "execution_count": 1,
   "metadata": {
    "id": "0hHgVzUu82fo"
   },
   "outputs": [],
   "source": [
    "import json\n",
    "import pandas as pd\n",
    "\n",
    "# Load the JSON file\n",
    "with open('foundationDownload.json', 'r') as file:\n",
    "    data = json.load(file)"
   ]
  },
  {
   "cell_type": "markdown",
   "metadata": {
    "id": "z0xwFVx-6JDi"
   },
   "source": [
    "This cell defines a function to extract and preprocess food data. It simplifies the JSON structure by focusing on essential attributes like calories, protein, carbohydrates, fat, and serving size. The output is converted into a Pandas DataFrame for easy data manipulation."
   ]
  },
  {
   "cell_type": "code",
   "execution_count": 2,
   "metadata": {
    "colab": {
     "base_uri": "https://localhost:8080/"
    },
    "id": "x3s3LefYQxbz",
    "outputId": "916aa220-147a-4d3b-ca27-85fc670a320b"
   },
   "outputs": [
    {
     "name": "stdout",
     "output_type": "stream",
     "text": [
      "                                         Description  Serving Size (g)  \\\n",
      "0                                 Hummus, commercial              33.9   \n",
      "1                               Tomatoes, grape, raw              49.7   \n",
      "2  Beans, snap, green, canned, regular pack, drai...             129.0   \n",
      "3                        Frankfurter, beef, unheated              48.6   \n",
      "4        Nuts, almonds, dry roasted, with salt added             135.0   \n",
      "\n",
      "   Calories  Protein  Carbohydrates    Fat  \n",
      "0     229.0     7.35          14.90  17.10  \n",
      "1     113.0     0.83           5.51   0.63  \n",
      "2      86.0     1.04           4.11   0.39  \n",
      "3    1310.0    11.70           2.89  28.00  \n",
      "4    2590.0    20.40          16.20  57.80  \n"
     ]
    }
   ],
   "source": [
    "# Extract the list of foods\n",
    "foods = data[\"FoundationFoods\"]\n",
    "\n",
    "# Flatten the data and include serving size\n",
    "def process_food_data_with_serving_size(foods):\n",
    "    processed_data = []\n",
    "    for food in foods:\n",
    "        # Extract food description\n",
    "        description = food.get(\"description\", \"Unknown\")\n",
    "\n",
    "        # Extract serving size (from 'foodPortions')\n",
    "        food_portions = food.get(\"foodPortions\", [])\n",
    "        if food_portions:\n",
    "            # Assume the first portion is the standard serving size\n",
    "            serving_size = food_portions[0].get(\"gramWeight\", 0)  # Weight in grams\n",
    "        else:\n",
    "            serving_size = 0  # Default if no portion info available\n",
    "\n",
    "        # Extract nutrients\n",
    "        nutrients = food.get(\"foodNutrients\", [])\n",
    "        nutrient_dict = {n[\"nutrient\"][\"name\"]: n[\"amount\"] for n in nutrients if \"amount\" in n}\n",
    "\n",
    "        # Keep only key nutrients and serving size\n",
    "        important_nutrients = {\n",
    "            \"Description\": description,\n",
    "            \"Serving Size (g)\": serving_size,\n",
    "            \"Calories\": nutrient_dict.get(\"Energy\", 0),\n",
    "            \"Protein\": nutrient_dict.get(\"Protein\", 0),\n",
    "            \"Carbohydrates\": nutrient_dict.get(\"Carbohydrate, by difference\", 0),\n",
    "            \"Fat\": nutrient_dict.get(\"Total lipid (fat)\", 0)\n",
    "        }\n",
    "        processed_data.append(important_nutrients)\n",
    "\n",
    "    return processed_data\n",
    "\n",
    "# Process the food data with serving size\n",
    "processed_foods_with_serving_size = process_food_data_with_serving_size(foods)\n",
    "\n",
    "# Convert to a Pandas DataFrame for easier handling\n",
    "food_df_with_serving_size = pd.DataFrame(processed_foods_with_serving_size)\n",
    "\n",
    "# Display the first few rows\n",
    "print(food_df_with_serving_size.head())\n"
   ]
  },
  {
   "cell_type": "code",
   "execution_count": 3,
   "metadata": {
    "colab": {
     "base_uri": "https://localhost:8080/"
    },
    "id": "nx8gCQq1nV8O",
    "outputId": "75818d09-157f-4a48-e39e-a133d87fa76b"
   },
   "outputs": [
    {
     "data": {
      "text/plain": [
       "Index(['Description', 'Serving Size (g)', 'Calories', 'Protein',\n",
       "       'Carbohydrates', 'Fat'],\n",
       "      dtype='object')"
      ]
     },
     "execution_count": 3,
     "metadata": {},
     "output_type": "execute_result"
    }
   ],
   "source": [
    "# prompt: print all columns\n",
    "\n",
    "food_df_with_serving_size.columns"
   ]
  },
  {
   "cell_type": "markdown",
   "metadata": {
    "id": "0GOmLv8v_5o8"
   },
   "source": [
    "### Add columns for calories/protein per gram.\n"
   ]
  },
  {
   "cell_type": "markdown",
   "metadata": {
    "id": "tUVo2I814Sog"
   },
   "source": [
    "The code below was a older version of this addition."
   ]
  },
  {
   "cell_type": "code",
   "execution_count": null,
   "metadata": {
    "id": "PBVYerHO8s0w"
   },
   "outputs": [],
   "source": [
    "# # Add new columns for calories and protein per gram\n",
    "# food_df_with_serving_size[\"Calories per Gram\"] = food_df_with_serving_size[\"Calories\"] / food_df_with_serving_size[\"Serving Size (g)\"]\n",
    "# food_df_with_serving_size[\"Protein per Gram\"] = food_df_with_serving_size[\"Protein\"] / food_df_with_serving_size[\"Serving Size (g)\"]\n",
    "\n",
    "# # Replace infinite or NaN values (e.g., where serving size is 0)\n",
    "# food_df_with_serving_size.replace([float('inf'), float('-inf')], 0, inplace=True)\n",
    "# food_df_with_serving_size.fillna(0, inplace=True)\n",
    "\n",
    "# # Display the updated DataFrame\n",
    "# print(food_df_with_serving_size.head())\n"
   ]
  },
  {
   "cell_type": "markdown",
   "metadata": {
    "id": "cHW7ESQMs0tB"
   },
   "source": [
    "### New Function to add Protein and Calories columns"
   ]
  },
  {
   "cell_type": "markdown",
   "metadata": {
    "id": "LOQ0g6h26Rmd"
   },
   "source": [
    "This cell calculates two derived metrics: Calories per Gram and Protein per Gram. These metrics provide insights into the nutritional density of each food item."
   ]
  },
  {
   "cell_type": "code",
   "execution_count": null,
   "metadata": {
    "colab": {
     "base_uri": "https://localhost:8080/"
    },
    "id": "WN1Cs_vkszgp",
    "outputId": "2e4da32c-1265-45b7-d0b0-9cd98495b96c"
   },
   "outputs": [
    {
     "name": "stdout",
     "output_type": "stream",
     "text": [
      "Updated DataFrame with recalculated values:\n",
      "                                         Description  Serving Size (g)  \\\n",
      "0                                 Hummus, commercial              33.9   \n",
      "1                               Tomatoes, grape, raw              49.7   \n",
      "2  Beans, snap, green, canned, regular pack, drai...             129.0   \n",
      "3                        Frankfurter, beef, unheated              48.6   \n",
      "4        Nuts, almonds, dry roasted, with salt added             135.0   \n",
      "\n",
      "   Calories per Gram  Protein per Gram  \n",
      "0           6.755162          0.216814  \n",
      "1           2.273642          0.016700  \n",
      "2           0.666667          0.008062  \n",
      "3          26.954733          0.240741  \n",
      "4          19.185185          0.151111  \n"
     ]
    },
    {
     "name": "stderr",
     "output_type": "stream",
     "text": [
      "<ipython-input-4-7b87070c5e2f>:7: FutureWarning: A value is trying to be set on a copy of a DataFrame or Series through chained assignment using an inplace method.\n",
      "The behavior will change in pandas 3.0. This inplace method will never work because the intermediate object on which we are setting values always behaves as a copy.\n",
      "\n",
      "For example, when doing 'df[col].method(value, inplace=True)', try using 'df.method({col: value}, inplace=True)' or df[col] = df[col].method(value) instead, to perform the operation inplace on the original object.\n",
      "\n",
      "\n",
      "  food_df_with_serving_size[\"Serving Size (g)\"].fillna(median_serving_size, inplace=True)\n",
      "<ipython-input-4-7b87070c5e2f>:7: FutureWarning: Downcasting object dtype arrays on .fillna, .ffill, .bfill is deprecated and will change in a future version. Call result.infer_objects(copy=False) instead. To opt-in to the future behavior, set `pd.set_option('future.no_silent_downcasting', True)`\n",
      "  food_df_with_serving_size[\"Serving Size (g)\"].fillna(median_serving_size, inplace=True)\n"
     ]
    }
   ],
   "source": [
    "# Replace zero Serving Size (g) with NaN for proper handling\n",
    "food_df_with_serving_size[\"Serving Size (g)\"] = food_df_with_serving_size[\"Serving Size (g)\"].replace(0, pd.NA)\n",
    "\n",
    "# Replace NaN in Serving Size (g) with median or group-based imputed value if not already done\n",
    "# Example: Global median\n",
    "median_serving_size = food_df_with_serving_size[\"Serving Size (g)\"].median()\n",
    "food_df_with_serving_size[\"Serving Size (g)\"].fillna(median_serving_size, inplace=True)\n",
    "\n",
    "# Recalculate Calories per Gram\n",
    "food_df_with_serving_size[\"Calories per Gram\"] = food_df_with_serving_size[\"Calories\"] / food_df_with_serving_size[\"Serving Size (g)\"]\n",
    "\n",
    "# Recalculate Protein per Gram\n",
    "food_df_with_serving_size[\"Protein per Gram\"] = food_df_with_serving_size[\"Protein\"] / food_df_with_serving_size[\"Serving Size (g)\"]\n",
    "\n",
    "# Replace infinite or NaN values in the derived columns\n",
    "food_df_with_serving_size.replace([float('inf'), float('-inf')], 0, inplace=True)\n",
    "food_df_with_serving_size.fillna(0, inplace=True)\n",
    "\n",
    "# Display the updated DataFrame\n",
    "print(\"Updated DataFrame with recalculated values:\")\n",
    "print(food_df_with_serving_size[[\"Description\", \"Serving Size (g)\", \"Calories per Gram\", \"Protein per Gram\"]].head())\n"
   ]
  },
  {
   "cell_type": "markdown",
   "metadata": {
    "id": "0Oj9xvY2mzfs"
   },
   "source": [
    "# Preprocessing"
   ]
  },
  {
   "cell_type": "markdown",
   "metadata": {
    "id": "WSPfI2ImlMtY"
   },
   "source": [
    "## Handling Food Description\n",
    "\n",
    "Description is too long and has useless info. I want to help the chatbot find later which food the user is talking about."
   ]
  },
  {
   "cell_type": "code",
   "execution_count": null,
   "metadata": {
    "colab": {
     "base_uri": "https://localhost:8080/"
    },
    "id": "_VSks1imlKaF",
    "outputId": "8b34b11a-7a66-46ad-f343-1f65d66f3d53"
   },
   "outputs": [
    {
     "name": "stdout",
     "output_type": "stream",
     "text": [
      "          Description  Serving Size (g)  Calories  Protein  Carbohydrates  \\\n",
      "0  Hummus  commercial              33.9     229.0     7.35          14.90   \n",
      "1     Tomatoes  grape              49.7     113.0     0.83           5.51   \n",
      "2         Beans  snap             129.0      86.0     1.04           4.11   \n",
      "3   Frankfurter  beef              48.6    1310.0    11.70           2.89   \n",
      "4       Nuts  almonds             135.0    2590.0    20.40          16.20   \n",
      "\n",
      "     Fat  Calories per Gram  Protein per Gram  \n",
      "0  17.10           6.755162          0.216814  \n",
      "1   0.63           2.273642          0.016700  \n",
      "2   0.39           0.666667          0.008062  \n",
      "3  28.00          26.954733          0.240741  \n",
      "4  57.80          19.185185          0.151111  \n"
     ]
    }
   ],
   "source": [
    "# Function to simplify and remove commas in food descriptions\n",
    "def simplify_description(description):\n",
    "    # Split by commas and join the first two parts without commas\n",
    "    parts = description.split(\",\")\n",
    "    return \" \".join(parts[:2]).strip() if len(parts) > 1 else description.strip()\n",
    "\n",
    "# Apply the simplification function to the Description column\n",
    "food_df_with_serving_size[\"Description\"] = food_df_with_serving_size[\"Description\"].apply(simplify_description)\n",
    "\n",
    "# Display the updated DataFrame\n",
    "print(food_df_with_serving_size.head())\n",
    "\n",
    "\n"
   ]
  },
  {
   "cell_type": "code",
   "execution_count": null,
   "metadata": {
    "colab": {
     "base_uri": "https://localhost:8080/"
    },
    "id": "wDSfL1S0_4VQ",
    "outputId": "7d6f7ba3-d018-4de0-f41a-f5193e877095"
   },
   "outputs": [
    {
     "name": "stdout",
     "output_type": "stream",
     "text": [
      "Columns in the dataset:\n",
      "Index(['Description', 'Serving Size (g)', 'Calories', 'Protein',\n",
      "       'Carbohydrates', 'Fat', 'Calories per Gram', 'Protein per Gram'],\n",
      "      dtype='object')\n",
      "\n",
      "Sample data:\n",
      "          Description  Serving Size (g)  Calories  Protein  Carbohydrates  \\\n",
      "0  Hummus  commercial              33.9     229.0     7.35          14.90   \n",
      "1     Tomatoes  grape              49.7     113.0     0.83           5.51   \n",
      "2         Beans  snap             129.0      86.0     1.04           4.11   \n",
      "3   Frankfurter  beef              48.6    1310.0    11.70           2.89   \n",
      "4       Nuts  almonds             135.0    2590.0    20.40          16.20   \n",
      "\n",
      "     Fat  Calories per Gram  Protein per Gram  \n",
      "0  17.10           6.755162          0.216814  \n",
      "1   0.63           2.273642          0.016700  \n",
      "2   0.39           0.666667          0.008062  \n",
      "3  28.00          26.954733          0.240741  \n",
      "4  57.80          19.185185          0.151111  \n"
     ]
    }
   ],
   "source": [
    "# Display all columns in the DataFrame\n",
    "print(\"Columns in the dataset:\")\n",
    "print(food_df_with_serving_size.columns)\n",
    "\n",
    "# Optionally, display the first few rows to inspect the data\n",
    "print(\"\\nSample data:\")\n",
    "print(food_df_with_serving_size.head())\n"
   ]
  },
  {
   "cell_type": "markdown",
   "metadata": {
    "id": "FXFoTv6F5DzJ"
   },
   "source": [
    "### Results:\n",
    "\n",
    "Simplified food descriptions by removing unnecessary details, making them easier to understand and process during retrieval and response generation."
   ]
  },
  {
   "cell_type": "markdown",
   "metadata": {
    "id": "PEVuD-Nzm2AH"
   },
   "source": [
    "## Missing Values"
   ]
  },
  {
   "cell_type": "code",
   "execution_count": null,
   "metadata": {
    "colab": {
     "base_uri": "https://localhost:8080/"
    },
    "id": "-GkArBCvmsxt",
    "outputId": "d1763ac7-d7fe-4e83-df85-b5ea33730794"
   },
   "outputs": [
    {
     "name": "stdout",
     "output_type": "stream",
     "text": [
      "                              Column  Missing Values  Percentage (%)\n",
      "Description              Description               0             0.0\n",
      "Serving Size (g)    Serving Size (g)               0             0.0\n",
      "Calories                    Calories               0             0.0\n",
      "Protein                      Protein               0             0.0\n",
      "Carbohydrates          Carbohydrates               0             0.0\n",
      "Fat                              Fat               0             0.0\n",
      "Calories per Gram  Calories per Gram               0             0.0\n",
      "Protein per Gram    Protein per Gram               0             0.0\n"
     ]
    }
   ],
   "source": [
    "# Check for missing values\n",
    "missing_values = food_df_with_serving_size.isnull().sum()\n",
    "\n",
    "# Calculate the percentage of missing values\n",
    "missing_percentage = (missing_values / len(food_df_with_serving_size)) * 100\n",
    "\n",
    "# Combine into a DataFrame for better readability\n",
    "missing_summary = pd.DataFrame({\n",
    "    \"Column\": food_df_with_serving_size.columns,\n",
    "    \"Missing Values\": missing_values,\n",
    "    \"Percentage (%)\": missing_percentage\n",
    "}).sort_values(by=\"Percentage (%)\", ascending=False)\n",
    "\n",
    "# Display the missing value summary\n",
    "print(missing_summary)\n"
   ]
  },
  {
   "cell_type": "markdown",
   "metadata": {
    "id": "yQKH2wbE6vV1"
   },
   "source": [
    "No missing values identified."
   ]
  },
  {
   "cell_type": "markdown",
   "metadata": {
    "id": "yIkK1xQep-8h"
   },
   "source": [
    "## Zero Values "
   ]
  },
  {
   "cell_type": "code",
   "execution_count": null,
   "metadata": {
    "colab": {
     "base_uri": "https://localhost:8080/"
    },
    "id": "kkXGcapnms4b",
    "outputId": "4a437d8f-39b5-498e-ef17-26ac2c55eb8e"
   },
   "outputs": [
    {
     "name": "stdout",
     "output_type": "stream",
     "text": [
      "Number of foods with zero serving size: 0\n"
     ]
    }
   ],
   "source": [
    "# Count rows with Serving Size (g) equal to zero\n",
    "zero_serving_size_count = (food_df_with_serving_size[\"Serving Size (g)\"] == 0).sum()\n",
    "print(f\"Number of foods with zero serving size: {zero_serving_size_count}\")\n"
   ]
  },
  {
   "cell_type": "code",
   "execution_count": null,
   "metadata": {
    "colab": {
     "base_uri": "https://localhost:8080/"
    },
    "id": "OCk_yQgSmsz4",
    "outputId": "5db55ec2-aa13-4f41-8c73-02b5cf9d8b5e"
   },
   "outputs": [
    {
     "name": "stdout",
     "output_type": "stream",
     "text": [
      "Zero Value Summary:\n",
      "                              Column  Zero Values  Percentage (%)\n",
      "Calories                    Calories          219       69.303797\n",
      "Calories per Gram  Calories per Gram          219       69.303797\n",
      "Carbohydrates          Carbohydrates           59       18.670886\n",
      "Protein                      Protein           14        4.430380\n",
      "Protein per Gram    Protein per Gram           14        4.430380\n",
      "Fat                              Fat           10        3.164557\n",
      "Description              Description            0        0.000000\n",
      "Serving Size (g)    Serving Size (g)            0        0.000000\n"
     ]
    }
   ],
   "source": [
    "# Check for zero values in numeric columns\n",
    "zero_values_summary = (food_df_with_serving_size == 0).sum()\n",
    "\n",
    "# Calculate the percentage of zero values\n",
    "zero_values_percentage = (zero_values_summary / len(food_df_with_serving_size)) * 100\n",
    "\n",
    "# Combine into a DataFrame for readability\n",
    "zero_summary = pd.DataFrame({\n",
    "    \"Column\": food_df_with_serving_size.columns,\n",
    "    \"Zero Values\": zero_values_summary,\n",
    "    \"Percentage (%)\": zero_values_percentage\n",
    "}).sort_values(by=\"Percentage (%)\", ascending=False)\n",
    "\n",
    "# Display the zero value summary\n",
    "print(\"Zero Value Summary:\")\n",
    "print(zero_summary)\n",
    "\n"
   ]
  },
  {
   "cell_type": "markdown",
   "metadata": {
    "id": "lWFSNZz-tfm1"
   },
   "source": [
    "## Handling Calories Column = zero"
   ]
  },
  {
   "cell_type": "code",
   "execution_count": null,
   "metadata": {
    "colab": {
     "base_uri": "https://localhost:8080/"
    },
    "id": "vlP5Hr4MtK-1",
    "outputId": "066dd01c-d94b-40da-9b64-70f426a6e42a"
   },
   "outputs": [
    {
     "name": "stdout",
     "output_type": "stream",
     "text": [
      "Rows with zero Calories:\n",
      "              Description  Serving Size (g)  Calories  Protein  Carbohydrates  \\\n",
      "61            Salt  table               6.1       0.0     0.00            0.0   \n",
      "74             Beans  Dry              97.3       0.0    25.50            0.0   \n",
      "75             Beans  Dry              97.3       0.0    21.30            0.0   \n",
      "76             Beans  Dry              97.3       0.0    23.30            0.0   \n",
      "77             Beans  Dry              97.3       0.0    25.60            0.0   \n",
      "..                    ...               ...       ...      ...            ...   \n",
      "311   Sorghum bran  white              97.3       0.0    11.20           68.7   \n",
      "312  Sorghum flour  white              97.3       0.0    10.20           73.5   \n",
      "313  Sorghum grain  white              97.3       0.0    10.20           74.9   \n",
      "314  Sorghum  whole grain              97.3       0.0    10.10           73.6   \n",
      "315   Plantains  overripe              97.3       0.0     1.17           29.2   \n",
      "\n",
      "      Fat  Calories per Gram  Protein per Gram  \n",
      "61   0.00                0.0          0.000000  \n",
      "74   1.04                0.0          0.262076  \n",
      "75   1.16                0.0          0.218911  \n",
      "76   0.86                0.0          0.239466  \n",
      "77   1.12                0.0          0.263104  \n",
      "..    ...                ...               ...  \n",
      "311  9.26                0.0          0.115108  \n",
      "312  3.24                0.0          0.104830  \n",
      "313  3.26                0.0          0.104830  \n",
      "314  4.22                0.0          0.103803  \n",
      "315  0.99                0.0          0.012025  \n",
      "\n",
      "[219 rows x 8 columns]\n"
     ]
    }
   ],
   "source": [
    "# Filter rows where Calories is equal to zero\n",
    "zero_calories_rows = food_df_with_serving_size[food_df_with_serving_size[\"Calories\"] == 0]\n",
    "\n",
    "# Display the rows with zero Calories\n",
    "print(\"Rows with zero Calories:\")\n",
    "print(zero_calories_rows)\n"
   ]
  },
  {
   "cell_type": "code",
   "execution_count": null,
   "metadata": {
    "colab": {
     "base_uri": "https://localhost:8080/"
    },
    "id": "Jon138DCtLA2",
    "outputId": "f39a368f-9db4-42cc-bc2f-43dd86ada0a5"
   },
   "outputs": [
    {
     "name": "stdout",
     "output_type": "stream",
     "text": [
      "    Description  Serving Size (g)  Calories  Protein  Carbohydrates   Fat  \\\n",
      "61  Salt  table               6.1       0.0      0.0            0.0  0.00   \n",
      "74   Beans  Dry              97.3       0.0     25.5            0.0  1.04   \n",
      "75   Beans  Dry              97.3       0.0     21.3            0.0  1.16   \n",
      "76   Beans  Dry              97.3       0.0     23.3            0.0  0.86   \n",
      "77   Beans  Dry              97.3       0.0     25.6            0.0  1.12   \n",
      "78   Beans  Dry              97.3       0.0     26.8            0.0  1.14   \n",
      "79   Beans  Dry              97.3       0.0     24.6            0.0  1.28   \n",
      "80   Beans  Dry              97.3       0.0     25.2            0.0  1.44   \n",
      "81   Beans  Dry              97.3       0.0     24.4            0.0  1.23   \n",
      "82   Beans  Dry              97.3       0.0     25.0            0.0  1.03   \n",
      "\n",
      "    Calories per Gram  Protein per Gram  \n",
      "61                0.0          0.000000  \n",
      "74                0.0          0.262076  \n",
      "75                0.0          0.218911  \n",
      "76                0.0          0.239466  \n",
      "77                0.0          0.263104  \n",
      "78                0.0          0.275437  \n",
      "79                0.0          0.252826  \n",
      "80                0.0          0.258993  \n",
      "81                0.0          0.250771  \n",
      "82                0.0          0.256937  \n"
     ]
    }
   ],
   "source": [
    "# Display the first 10 rows with zero Calories\n",
    "print(zero_calories_rows.head(10))\n",
    "\n",
    "# Optionally, export the filtered rows to a CSV for analysis\n",
    "zero_calories_rows.to_csv(\"zero_calories_rows.csv\", index=False)\n"
   ]
  },
  {
   "cell_type": "markdown",
   "metadata": {
    "id": "LALuTr5Ct70Q"
   },
   "source": [
    "1. Validate Zero Calories:\n",
    "Foods like salt are valid with zero calories, so these can be excluded from further processing.\n",
    "For the remaining rows, we can estimate calories based on macronutrient values using the standard formula:\n",
    "\n",
    "Calories\n",
    "=\n",
    "4\n",
    "×\n",
    "\n",
    "Protein (g)\n",
    "+\n",
    "4\n",
    "×\n",
    "\n",
    "Carbohydrates (g)\n",
    "+\n",
    "9\n",
    "×\n",
    "Fat (g)\n",
    "\n",
    "Calories=4×Protein (g)+4×Carbohydrates (g)+9×Fat (g)\n",
    "\n",
    "2. Fill Missing Calories:\n",
    "Replace zero calorie values with the calculated estimates.\n"
   ]
  },
  {
   "cell_type": "code",
   "execution_count": null,
   "metadata": {
    "colab": {
     "base_uri": "https://localhost:8080/"
    },
    "id": "thLeEIj1tLFI",
    "outputId": "5253b372-545e-4008-b704-25ed7c746033"
   },
   "outputs": [
    {
     "name": "stdout",
     "output_type": "stream",
     "text": [
      "Updated rows with previously zero Calories:\n",
      "              Description  Serving Size (g)  Calories  Protein  Carbohydrates  \\\n",
      "74             Beans  Dry              97.3    111.36    25.50            0.0   \n",
      "75             Beans  Dry              97.3     95.64    21.30            0.0   \n",
      "76             Beans  Dry              97.3    100.94    23.30            0.0   \n",
      "77             Beans  Dry              97.3    112.48    25.60            0.0   \n",
      "78             Beans  Dry              97.3    117.46    26.80            0.0   \n",
      "..                    ...               ...       ...      ...            ...   \n",
      "311   Sorghum bran  white              97.3    402.94    11.20           68.7   \n",
      "312  Sorghum flour  white              97.3    363.96    10.20           73.5   \n",
      "313  Sorghum grain  white              97.3    369.74    10.20           74.9   \n",
      "314  Sorghum  whole grain              97.3    372.78    10.10           73.6   \n",
      "315   Plantains  overripe              97.3    130.39     1.17           29.2   \n",
      "\n",
      "      Fat  Calories per Gram  Protein per Gram  \n",
      "74   1.04           1.144502          0.262076  \n",
      "75   1.16           0.982939          0.218911  \n",
      "76   0.86           1.037410          0.239466  \n",
      "77   1.12           1.156012          0.263104  \n",
      "78   1.14           1.207194          0.275437  \n",
      "..    ...                ...               ...  \n",
      "311  9.26           4.141213          0.115108  \n",
      "312  3.24           3.740596          0.104830  \n",
      "313  3.26           3.800000          0.104830  \n",
      "314  4.22           3.831244          0.103803  \n",
      "315  0.99           1.340082          0.012025  \n",
      "\n",
      "[210 rows x 8 columns]\n"
     ]
    }
   ],
   "source": [
    "# Identify rows where Calories is zero but Protein, Carbohydrates, or Fat are non-zero\n",
    "non_salt_rows = food_df_with_serving_size[\n",
    "    (food_df_with_serving_size[\"Calories\"] == 0) &\n",
    "    ((food_df_with_serving_size[\"Protein\"] > 0) |\n",
    "     (food_df_with_serving_size[\"Carbohydrates\"] > 0) |\n",
    "     (food_df_with_serving_size[\"Fat\"] > 0))\n",
    "]\n",
    "\n",
    "# Calculate calories using the macronutrient formula\n",
    "food_df_with_serving_size.loc[non_salt_rows.index, \"Calories\"] = (\n",
    "    4 * food_df_with_serving_size.loc[non_salt_rows.index, \"Protein\"] +\n",
    "    4 * food_df_with_serving_size.loc[non_salt_rows.index, \"Carbohydrates\"] +\n",
    "    9 * food_df_with_serving_size.loc[non_salt_rows.index, \"Fat\"]\n",
    ")\n",
    "\n",
    "# Recalculate Calories per Gram\n",
    "food_df_with_serving_size[\"Calories per Gram\"] = (\n",
    "    food_df_with_serving_size[\"Calories\"] / food_df_with_serving_size[\"Serving Size (g)\"]\n",
    ")\n",
    "\n",
    "# Replace infinite or NaN values\n",
    "food_df_with_serving_size.replace([float('inf'), float('-inf')], 0, inplace=True)\n",
    "food_df_with_serving_size.fillna(0, inplace=True)\n",
    "\n",
    "# Display the updated DataFrame\n",
    "print(\"Updated rows with previously zero Calories:\")\n",
    "print(food_df_with_serving_size.loc[non_salt_rows.index])\n"
   ]
  },
  {
   "cell_type": "code",
   "execution_count": null,
   "metadata": {
    "colab": {
     "base_uri": "https://localhost:8080/"
    },
    "id": "jguQ2cvEtLHo",
    "outputId": "3947e0d0-85dd-4686-f4c5-257814a0c901"
   },
   "outputs": [
    {
     "name": "stdout",
     "output_type": "stream",
     "text": [
      "Rows with zero Protein and zero Fat:\n",
      "        Description  Serving Size (g)  Calories  Protein  Carbohydrates  Fat  \\\n",
      "61      Salt  table               6.1       0.0      0.0            0.0  0.0   \n",
      "95      Oil  canola              90.9       0.0      0.0            0.0  0.0   \n",
      "96        Oil  corn              91.3       0.0      0.0            0.0  0.0   \n",
      "97     Oil  soybean              91.3       0.0      0.0            0.0  0.0   \n",
      "98       Oil  olive              90.7       0.0      0.0            0.0  0.0   \n",
      "126     Oil  peanut              97.3       0.0      0.0            0.0  0.0   \n",
      "127  Oil  sunflower              97.3       0.0      0.0            0.0  0.0   \n",
      "128  Oil  safflower              97.3       0.0      0.0            0.0  0.0   \n",
      "129      Oil  olive              97.3       0.0      0.0            0.0  0.0   \n",
      "\n",
      "     Calories per Gram  Protein per Gram  \n",
      "61                 0.0               0.0  \n",
      "95                 0.0               0.0  \n",
      "96                 0.0               0.0  \n",
      "97                 0.0               0.0  \n",
      "98                 0.0               0.0  \n",
      "126                0.0               0.0  \n",
      "127                0.0               0.0  \n",
      "128                0.0               0.0  \n",
      "129                0.0               0.0  \n"
     ]
    }
   ],
   "source": [
    "# Filter rows where Protein and Fat are both zero\n",
    "zero_protein_fat = food_df_with_serving_size[\n",
    "    (food_df_with_serving_size[\"Protein\"] == 0) &\n",
    "    (food_df_with_serving_size[\"Fat\"] == 0)\n",
    "]\n",
    "\n",
    "# Display these rows for review\n",
    "print(\"Rows with zero Protein and zero Fat:\")\n",
    "print(zero_protein_fat)\n"
   ]
  },
  {
   "cell_type": "markdown",
   "metadata": {
    "id": "KWd29X0LvAyA"
   },
   "source": [
    "## Drop Rows with All Zero Values"
   ]
  },
  {
   "cell_type": "code",
   "execution_count": null,
   "metadata": {
    "colab": {
     "base_uri": "https://localhost:8080/"
    },
    "id": "HJRO1OlSu0KF",
    "outputId": "22bd155b-cffc-462d-d4b3-84354749c9f6"
   },
   "outputs": [
    {
     "name": "stdout",
     "output_type": "stream",
     "text": [
      "Number of rows after dropping invalid rows: 307\n",
      "          Description  Serving Size (g)  Calories  Protein  Carbohydrates  \\\n",
      "0  Hummus  commercial              33.9     229.0     7.35          14.90   \n",
      "1     Tomatoes  grape              49.7     113.0     0.83           5.51   \n",
      "2         Beans  snap             129.0      86.0     1.04           4.11   \n",
      "3   Frankfurter  beef              48.6    1310.0    11.70           2.89   \n",
      "4       Nuts  almonds             135.0    2590.0    20.40          16.20   \n",
      "\n",
      "     Fat  Calories per Gram  Protein per Gram  \n",
      "0  17.10           6.755162          0.216814  \n",
      "1   0.63           2.273642          0.016700  \n",
      "2   0.39           0.666667          0.008062  \n",
      "3  28.00          26.954733          0.240741  \n",
      "4  57.80          19.185185          0.151111  \n"
     ]
    }
   ],
   "source": [
    "# Drop rows where Protein, Fat, and Calories are all zero\n",
    "cleaned_df = food_df_with_serving_size[\n",
    "    ~((food_df_with_serving_size[\"Protein\"] == 0) &\n",
    "      (food_df_with_serving_size[\"Fat\"] == 0) &\n",
    "      (food_df_with_serving_size[\"Calories\"] == 0))\n",
    "]\n",
    "\n",
    "# Display the number of rows after cleaning\n",
    "print(f\"Number of rows after dropping invalid rows: {len(cleaned_df)}\")\n",
    "print(cleaned_df.head())\n"
   ]
  },
  {
   "cell_type": "code",
   "execution_count": null,
   "metadata": {
    "colab": {
     "base_uri": "https://localhost:8080/"
    },
    "id": "tbl2bRj0u0MW",
    "outputId": "0b08a5df-1750-4ac7-a4c4-9d02fd5efb61"
   },
   "outputs": [
    {
     "name": "stdout",
     "output_type": "stream",
     "text": [
      "Empty DataFrame\n",
      "Columns: [Description, Serving Size (g), Calories, Protein, Carbohydrates, Fat, Calories per Gram, Protein per Gram]\n",
      "Index: []\n"
     ]
    }
   ],
   "source": [
    "print(cleaned_df[\n",
    "    (cleaned_df[\"Protein\"] == 0) &\n",
    "    (cleaned_df[\"Fat\"] == 0) &\n",
    "    (cleaned_df[\"Calories\"] == 0)\n",
    "])\n"
   ]
  },
  {
   "cell_type": "code",
   "execution_count": null,
   "metadata": {
    "colab": {
     "base_uri": "https://localhost:8080/"
    },
    "id": "xLzlwLRVu0Ol",
    "outputId": "17905cc9-d732-49aa-8107-05f23daed341"
   },
   "outputs": [
    {
     "name": "stdout",
     "output_type": "stream",
     "text": [
      "Rows before cleaning: 316\n",
      "Rows after cleaning: 307\n"
     ]
    }
   ],
   "source": [
    "print(f\"Rows before cleaning: {len(food_df_with_serving_size)}\")\n",
    "print(f\"Rows after cleaning: {len(cleaned_df)}\")\n"
   ]
  },
  {
   "cell_type": "markdown",
   "metadata": {
    "id": "5WrYBW_PwEAz"
   },
   "source": [
    "# Dividing foods in High-Protein, Low-Carb, High-Fat and Balanced."
   ]
  },
  {
   "cell_type": "markdown",
   "metadata": {
    "id": "ulOPmcv07IqZ"
   },
   "source": [
    "Categorizes foods based on their macronutrient composition"
   ]
  },
  {
   "cell_type": "code",
   "execution_count": null,
   "metadata": {
    "colab": {
     "base_uri": "https://localhost:8080/"
    },
    "id": "wcArf3XLu0Q1",
    "outputId": "f364ce38-1aec-4e57-fe49-203e60b27d8a"
   },
   "outputs": [
    {
     "name": "stdout",
     "output_type": "stream",
     "text": [
      "          Description Macronutrient Profile\n",
      "0  Hummus  commercial              High-Fat\n",
      "1     Tomatoes  grape              Balanced\n",
      "2         Beans  snap              Low-Carb\n",
      "3   Frankfurter  beef              Low-Carb\n",
      "4       Nuts  almonds          High-Protein\n"
     ]
    }
   ],
   "source": [
    "# Define thresholds for macronutrient-based categorization\n",
    "def macronutrient_category(row):\n",
    "    if row[\"Protein\"] > 15:\n",
    "        return \"High-Protein\"\n",
    "    elif row[\"Carbohydrates\"] < 5:\n",
    "        return \"Low-Carb\"\n",
    "    elif row[\"Fat\"] > 10:\n",
    "        return \"High-Fat\"\n",
    "    else:\n",
    "        return \"Balanced\"\n",
    "\n",
    "# Apply the function to assign macronutrient profiles\n",
    "food_df_with_serving_size[\"Macronutrient Profile\"] = food_df_with_serving_size.apply(macronutrient_category, axis=1)\n",
    "\n",
    "# Display a sample of foods with macronutrient profiles\n",
    "print(food_df_with_serving_size[[\"Description\", \"Macronutrient Profile\"]].head())\n"
   ]
  },
  {
   "cell_type": "code",
   "execution_count": null,
   "metadata": {
    "colab": {
     "base_uri": "https://localhost:8080/"
    },
    "id": "3tZcbM3c-xWY",
    "outputId": "ea9032a4-b96d-455e-f87f-9128a8c1435e"
   },
   "outputs": [
    {
     "data": {
      "text/plain": [
       "Index(['Description', 'Serving Size (g)', 'Calories', 'Protein',\n",
       "       'Carbohydrates', 'Fat', 'Calories per Gram', 'Protein per Gram',\n",
       "       'Macronutrient Profile'],\n",
       "      dtype='object')"
      ]
     },
     "execution_count": 18,
     "metadata": {},
     "output_type": "execute_result"
    }
   ],
   "source": [
    "# prompt: print all columns\n",
    "\n",
    "food_df_with_serving_size.columns"
   ]
  },
  {
   "cell_type": "code",
   "execution_count": null,
   "metadata": {
    "id": "isPF636ygmk3"
   },
   "outputs": [],
   "source": [
    "import pandas as pd\n",
    "\n",
    "# Ensure numeric values are rounded for consistency\n",
    "food_df_with_serving_size[\"Calories\"] = food_df_with_serving_size[\"Calories\"].round(1)\n",
    "food_df_with_serving_size[\"Protein\"] = food_df_with_serving_size[\"Protein\"].round(1)\n",
    "food_df_with_serving_size[\"Carbohydrates\"] = food_df_with_serving_size[\"Carbohydrates\"].round(1)\n",
    "food_df_with_serving_size[\"Fat\"] = food_df_with_serving_size[\"Fat\"].round(1)\n"
   ]
  },
  {
   "cell_type": "markdown",
   "metadata": {
    "id": "RypEj2XFe_DS"
   },
   "source": [
    "## Set Up a Retrieval System"
   ]
  },
  {
   "cell_type": "markdown",
   "metadata": {
    "id": "omiv8BRq7QhO"
   },
   "source": [
    "This cell implements a retrieval system for finding foods similar to a user query based on their descriptions. Here's how it works:\n",
    "\n",
    "Load Sentence Transformer Model:\n",
    "\n",
    "The SentenceTransformer model all-MiniLM-L6-v2 is loaded. This pre-trained model generates embeddings (dense vector representations) for textual data, enabling semantic similarity searches.\n",
    "Generate Embeddings for Food Descriptions:\n",
    "\n",
    "The Description column of the dataset is converted into a list.\n",
    "The model encodes these descriptions into embeddings, which are stored in description_embeddings. These embeddings capture the semantic meaning of each description.\n",
    "Define the Retrieval Function:\n",
    "\n",
    "Input: Takes a query (e.g., \"high-protein foods\") and the number of top results to retrieve (top_k).\n",
    "Query Embedding: The input query is encoded into an embedding vector using the same model.\n",
    "Compute Similarity: Cosine similarity is calculated between the query embedding and all description embeddings using util.pytorch_cos_sim.\n",
    "Retrieve Top Results: The top k most similar descriptions are identified using torch.topk, and their indices are used to retrieve the corresponding rows from the dataset.\n",
    "Remove Duplicates: Results are filtered to ensure unique descriptions.\n",
    "Return Results:\n",
    "\n",
    "The function returns the top matching foods as a Pandas DataFrame, ready for further use or display."
   ]
  },
  {
   "cell_type": "code",
   "execution_count": null,
   "metadata": {
    "id": "Tr6GZGlwfF-1"
   },
   "outputs": [],
   "source": [
    "from sentence_transformers import SentenceTransformer, util\n",
    "import torch\n",
    "\n",
    "# Load a Sentence Transformer model\n",
    "embedding_model = SentenceTransformer('all-MiniLM-L6-v2')\n",
    "\n",
    "# Generate embeddings for the food descriptions\n",
    "food_descriptions = food_df_with_serving_size[\"Description\"].tolist()\n",
    "description_embeddings = embedding_model.encode(food_descriptions, convert_to_tensor=True)\n",
    "\n",
    "# Retrieval function\n",
    "def retrieve_similar_foods(query, top_k=5):\n",
    "    query_embedding = embedding_model.encode(query, convert_to_tensor=True)\n",
    "    scores = util.pytorch_cos_sim(query_embedding, description_embeddings)\n",
    "    top_results = torch.topk(scores, k=top_k)\n",
    "    indices = top_results.indices[0].tolist()\n",
    "    return food_df_with_serving_size.iloc[indices].drop_duplicates(subset=\"Description\")\n"
   ]
  },
  {
   "cell_type": "markdown",
   "metadata": {
    "id": "3_13y8L17W0F"
   },
   "source": [
    "This function preprocesses the retrieved food data to create a concise textual context for further use, such as input for a language model."
   ]
  },
  {
   "cell_type": "code",
   "execution_count": null,
   "metadata": {
    "id": "OQvyZ7iwn4bp"
   },
   "outputs": [],
   "source": [
    "def preprocess_context(retrieved_foods):\n",
    "    context = []\n",
    "    for _, food in retrieved_foods.iterrows():\n",
    "        context.append(\n",
    "            f\"{food['Description']}: {food['Calories']} calories, \"\n",
    "            f\"{food['Protein']}g protein, {food['Carbohydrates']}g carbs, \"\n",
    "            f\"{food['Fat']}g fat.\"\n",
    "        )\n",
    "    return \" \".join(context)\n"
   ]
  },
  {
   "cell_type": "markdown",
   "metadata": {
    "id": "DQ8B5crp7juz"
   },
   "source": [
    "## Pre-trained T5 language model to generate natural language responses"
   ]
  },
  {
   "cell_type": "markdown",
   "metadata": {
    "id": "Ugwe52jb77VT"
   },
   "source": [
    "This function bridges the gap between structured data retrieval and natural language output. It enables the application to:\n",
    "\n",
    "* Understand user queries.\n",
    "\n",
    "* Retrieve relevant foods.\n",
    "\n",
    "* Provide a concise, context-aware response summarizing nutritional benefits and suggesting how the foods can be incorporated into a diet."
   ]
  },
  {
   "cell_type": "code",
   "execution_count": null,
   "metadata": {
    "id": "LujRhG13n5-O"
   },
   "outputs": [],
   "source": [
    "from transformers import T5ForConditionalGeneration, T5Tokenizer\n",
    "\n",
    "# Load the T5 model and tokenizer\n",
    "t5_model = T5ForConditionalGeneration.from_pretrained(\"t5-small\")\n",
    "t5_tokenizer = T5Tokenizer.from_pretrained(\"t5-small\")\n",
    "\n",
    "# Generate a response using T5\n",
    "def generate_cleaned_t5_response(query, top_k=5):\n",
    "    retrieved_foods = retrieve_similar_foods(query, top_k=top_k)\n",
    "    context = preprocess_context(retrieved_foods)\n",
    "\n",
    "    prompt = (\n",
    "        f\"User asked: {query}. \"\n",
    "        f\"The following foods have been identified based on your query: {context}. \"\n",
    "        f\"Summarize the nutritional benefits of these foods. Ensure the response is concise, \"\n",
    "        f\"avoids repeating items, and suggests how to use these foods in a diet.\"\n",
    "    )\n",
    "\n",
    "    inputs = t5_tokenizer.encode(prompt, return_tensors=\"pt\", max_length=512, truncation=True)\n",
    "    outputs = t5_model.generate(\n",
    "        inputs,\n",
    "        max_length=150,\n",
    "        temperature=0.7,\n",
    "        top_p=0.9,\n",
    "        do_sample=True\n",
    "    )\n",
    "    return t5_tokenizer.decode(outputs[0], skip_special_tokens=True)\n"
   ]
  },
  {
   "cell_type": "markdown",
   "metadata": {
    "id": "7pmBQrp77s_3"
   },
   "source": [
    "This testing loop evaluates the system's ability to:\n",
    "\n",
    "* Handle diverse and realistic user queries.\n",
    "\n",
    "* Retrieve relevant foods based on the query.\n",
    "\n",
    "* Generate coherent, informative, and context-aware responses using the T5 model.\n",
    "\n",
    "The responses can help assess the quality of retrieval and generation, ensuring the system provides accurate and useful dietary recommendations."
   ]
  },
  {
   "cell_type": "code",
   "execution_count": null,
   "metadata": {
    "colab": {
     "base_uri": "https://localhost:8080/"
    },
    "id": "l0bT_lnKn6Ah",
    "outputId": "fe10f9ac-279c-4a16-f548-11ce2ad31f25"
   },
   "outputs": [
    {
     "name": "stdout",
     "output_type": "stream",
     "text": [
      "Prompt: What are some high-protein snacks?\n",
      "Response:\n",
      "Nuts almonds: 625.9 calories, 21.5g protein, 20.0g carbs, 51.1g fat. Nuts brazilnuts: 663.0 calories, 15.0g protein, 21.6g carbs, 57.4g fat.\n",
      "--------------------------------------------------------------------------------\n",
      "Prompt: Can you suggest foods for a low-carb diet?\n",
      "Response:\n",
      "Milk low fat: 43.0 calories, 3.4g protein, 5.2g carbs, 1.0g fat. Buttermilk low fat: 42.8 calories, 3.5g protein, 4.8g carbs, 1.1g fat. Mango Tommy Atkins: 68.6 calories, 0.6g protein, 15.3g carbs, 0.6g fat.\n",
      "--------------------------------------------------------------------------------\n",
      "Prompt: What foods are high in calories and protein for bulking?\n",
      "Response:\n",
      "Cream cheese full fat: 342.9 calories, 5.8g protein, 4.6g carbs, 33.5g fat. Cottage cheese full fat: 102.8 calories, 11.6g protein, 4.6g carbs, 4.2g fat. Buttermilk low fat: 42.8 calories, 3.5g protein, 4.8g carbs, 1.1g fat. Oats whole grain: 381.8 calories, 13.5g protein, 68.7g carbs, 5.9g fat..\n",
      "--------------------------------------------------------------------------------\n",
      "Prompt: Suggest a dinner idea with high-protein and low-calorie foods.\n",
      "Response:\n",
      "Cream cheese full fat: 342.9 calories, 5.8g protein, 4.6g carbs, 33.5g fat. Cottage cheese full fat: 102.8 calories, 11.6g protein, 4.6g carbs, 4.2g fat. Buttermilk low fat: 42.8 calories, 3.5g protein, 4.8g carbs, 1.1g fat. Chicken broilers or fryers: 156.0 calories, 23.9g protein, 0.0g carbs, 6.0g fat.\n",
      "--------------------------------------------------------------------------------\n",
      "Prompt: What are good vegetarian protein sources?\n",
      "Response:\n",
      "Nuts hazelnuts or filberts: 641.5 calories, 13.5g protein, 26.5g carbs, 53.5g fat. Nuts brazilnuts: 663.0 calories, 15.0g protein, 21.6g carbs, 57.4g fat. Nuts almonds: 625.9 calories, 21.5g protein, 20.0g carbs, 51.1g fat. Flour soy: 1530.0 calories, 51.1g protein, 32.9g carbs\n",
      "--------------------------------------------------------------------------------\n"
     ]
    }
   ],
   "source": [
    "# Define realistic prompts\n",
    "realistic_prompts = [\n",
    "    \"What are some high-protein snacks?\",\n",
    "    \"Can you suggest foods for a low-carb diet?\",\n",
    "    \"What foods are high in calories and protein for bulking?\",\n",
    "    \"Suggest a dinner idea with high-protein and low-calorie foods.\",\n",
    "    \"What are good vegetarian protein sources?\"\n",
    "]\n",
    "\n",
    "# Test each prompt\n",
    "for prompt in realistic_prompts:\n",
    "    print(f\"Prompt: {prompt}\")\n",
    "    response = generate_cleaned_t5_response(prompt, top_k=5)\n",
    "    print(f\"Response:\\n{response}\\n{'-' * 80}\")\n"
   ]
  },
  {
   "cell_type": "markdown",
   "metadata": {
    "id": "W6_McboTpjyY"
   },
   "source": [
    "### General Observations\n",
    "\n",
    "Strengths:\n",
    "\n",
    "Responses are clear and include detailed nutritional information.\n",
    "Retrieval correctly identifies some relevant foods.\n",
    "\n",
    "Weaknesses:\n",
    "\n",
    "Filtering: Responses often include irrelevant or borderline items (e.g., mango for low-carb).\n",
    "Repetition: Items are sometimes repeated unnecessarily.\n",
    "Summarization: Lacks meaningful insights or suggestions."
   ]
  },
  {
   "cell_type": "markdown",
   "metadata": {
    "id": "BSErEYGH8W-p"
   },
   "source": [
    "________________________________________________________________________________"
   ]
  },
  {
   "cell_type": "markdown",
   "metadata": {
    "id": "x4U3Z1-l8T3C"
   },
   "source": [
    "This function improves the accuracy of the retrieval process by integrating domain-specific filters.\n",
    "\n",
    "It ensures that the results are not only semantically relevant but also aligned with the specific nutritional goals implied by the query.\n",
    "\n",
    "This refinement is crucial for delivering more targeted and meaningful dietary recommendations."
   ]
  },
  {
   "cell_type": "code",
   "execution_count": null,
   "metadata": {
    "id": "UwCugh-Nn6Cz"
   },
   "outputs": [],
   "source": [
    "def retrieve_similar_foods2(query, top_k=5):\n",
    "    # Generate query embedding\n",
    "    query_embedding = embedding_model.encode(query, convert_to_tensor=True)\n",
    "    # Compute cosine similarity with description embeddings\n",
    "    scores = util.pytorch_cos_sim(query_embedding, description_embeddings)\n",
    "    # Retrieve more results (e.g., top 10 instead of top 5)\n",
    "    top_results = torch.topk(scores, k=top_k)\n",
    "    indices = top_results.indices[0].tolist()\n",
    "    retrieved = food_df_with_serving_size.iloc[indices]\n",
    "\n",
    "    # Apply additional filters based on the query\n",
    "    if \"low-carb\" in query.lower():\n",
    "        retrieved = retrieved[retrieved[\"Carbohydrates\"] < 5]\n",
    "    elif \"high-protein\" in query.lower():\n",
    "        retrieved = retrieved[retrieved[\"Protein\"] > 15]\n",
    "    elif \"bulking\" in query.lower():\n",
    "        retrieved = retrieved[(retrieved[\"Calories\"] > 300) & (retrieved[\"Protein\"] > 10)]\n",
    "    elif \"vegetarian\" in query.lower():\n",
    "        vegetarian_keywords = [\"nuts\", \"seeds\", \"legumes\", \"tofu\", \"quinoa\"]\n",
    "        retrieved = retrieved[retrieved[\"Description\"].str.contains(\"|\".join(vegetarian_keywords), case=False, na=False)]\n",
    "\n",
    "    return retrieved.drop_duplicates(subset=\"Description\")\n"
   ]
  },
  {
   "cell_type": "markdown",
   "metadata": {
    "id": "BXusTykn8hs_"
   },
   "source": [
    "This function creates a compact and diverse textual representation of the retrieved foods.\n",
    "\n",
    "By randomly limiting the number of items, it avoids overwhelming the user with too much information while ensuring the response remains relevant and diverse.\n",
    "\n",
    "This context is typically passed to a language model for generating natural language responses tailored to the user query."
   ]
  },
  {
   "cell_type": "code",
   "execution_count": null,
   "metadata": {
    "id": "FFFI_Ya-n6FD"
   },
   "outputs": [],
   "source": [
    "def preprocess_context2(retrieved_foods, num_items=3):\n",
    "    # Limit to a fixed number of random items\n",
    "    retrieved_foods = retrieved_foods.sample(n=min(num_items, len(retrieved_foods)), random_state=random.randint(1, 100))\n",
    "    context = []\n",
    "    for _, food in retrieved_foods.iterrows():\n",
    "        context.append(\n",
    "            f\"{food['Description']}: {food['Calories']} calories, \"\n",
    "            f\"{food['Protein']}g protein, {food['Carbohydrates']}g carbs, \"\n",
    "            f\"{food['Fat']}g fat.\"\n",
    "        )\n",
    "    return \" \".join(context)\n"
   ]
  },
  {
   "cell_type": "markdown",
   "metadata": {
    "id": "pS04d6B-8m9F"
   },
   "source": [
    "This enhanced function refines the response generation process to:\n",
    "\n",
    "* Provide more detailed and diverse responses.\n",
    "\n",
    "* Avoid repetition while ensuring relevance.\n",
    "\n",
    "* Tried to enhance user experience by explaining how the suggested foods can fit into meals or snacks, but no sucess in this intention.\n",
    "\n"
   ]
  },
  {
   "cell_type": "code",
   "execution_count": null,
   "metadata": {
    "id": "mKUzRRKyqAjy"
   },
   "outputs": [],
   "source": [
    "def generate_cleaned_t5_response2(query, top_k=5, num_items=3):\n",
    "    retrieved_foods = retrieve_similar_foods2(query, top_k=top_k)\n",
    "    context = preprocess_context2(retrieved_foods, num_items=num_items)\n",
    "\n",
    "    prompt = (\n",
    "        f\"User asked: {query}. \"\n",
    "        f\"The following foods have been identified based on your query: {context}. \"\n",
    "        f\"Summarize the nutritional benefits of these foods, ensuring the response is diverse and explains how these foods can be used in meals or snacks.\"\n",
    "    )\n",
    "\n",
    "    inputs = t5_tokenizer.encode(prompt, return_tensors=\"pt\", max_length=512, truncation=True)\n",
    "    outputs = t5_model.generate(\n",
    "        inputs,\n",
    "        max_length=200,  # Allow for more detailed summaries\n",
    "        temperature=0.8,  # Increase randomness\n",
    "        top_p=0.85,       # Use a smaller top-p for controlled diversity\n",
    "        do_sample=True\n",
    "    )\n",
    "    return t5_tokenizer.decode(outputs[0], skip_special_tokens=True)\n",
    "\n"
   ]
  },
  {
   "cell_type": "markdown",
   "metadata": {
    "id": "YrxZpiaC9APn"
   },
   "source": [
    "### Testing"
   ]
  },
  {
   "cell_type": "code",
   "execution_count": null,
   "metadata": {
    "colab": {
     "base_uri": "https://localhost:8080/"
    },
    "id": "kkkjWTJWqElm",
    "outputId": "8d4824e1-5ef4-48bf-8ecb-66258a64df70"
   },
   "outputs": [
    {
     "name": "stdout",
     "output_type": "stream",
     "text": [
      "Prompt: What are some high-protein snacks?\n",
      "Response:\n",
      "Using these foods, you can help them plan meals or snacks for your specific needs.\n",
      "--------------------------------------------------------------------------------\n",
      "Prompt: Can you suggest foods for a low-carb diet?\n",
      "Response:\n",
      "Buttermilk low fat: 42.8 calories, 3.5g protein, 4.8g carbs, 1.1g fat. Buttermilk reduced fat: 50.0 calories, 3.4g protein, 4.9g carbs, 1.9g fat.\n",
      "--------------------------------------------------------------------------------\n",
      "Prompt: What foods are high in calories and protein for bulking?\n",
      "Response:\n",
      "oats whole grain: 381.8 calories, 13.5g protein, 68.7g carbs, 5.9g fat. Buckwheat whole grain: 356.2 calories, 11.1g protein, 71.1g carbs, 3.0g fat. Nuts hazelnuts or filberts: 641.5 calories, 13.5g protein, 26.5g carbs, 53.5g fat.\n",
      "--------------------------------------------------------------------------------\n",
      "Prompt: Suggest a dinner idea with high-protein and low-calorie foods.\n",
      "Response:\n",
      "Chicken broilers or fryers: 156.0 calories, 23.9g protein, 0.0g carbs, 6.0g fat.\n",
      "--------------------------------------------------------------------------------\n",
      "Prompt: What are good vegetarian protein sources?\n",
      "Response:\n",
      "Nuts hazelnuts or filberts: 641.5 calories, 13.5g protein, 26.5g carbs, 53.5g fat.\n",
      "--------------------------------------------------------------------------------\n"
     ]
    }
   ],
   "source": [
    "import random\n",
    "\n",
    "# Realistic prompts for testing\n",
    "prompts = [\n",
    "    \"What are some high-protein snacks?\",\n",
    "    \"Can you suggest foods for a low-carb diet?\",\n",
    "    \"What foods are high in calories and protein for bulking?\",\n",
    "    \"Suggest a dinner idea with high-protein and low-calorie foods.\",\n",
    "    \"What are good vegetarian protein sources?\"\n",
    "]\n",
    "\n",
    "# Test each prompt with the updated pipeline\n",
    "for prompt in prompts:\n",
    "    print(f\"Prompt: {prompt}\")\n",
    "    response = generate_cleaned_t5_response2(prompt, top_k=10, num_items=3)\n",
    "    print(f\"Response:\\n{response}\\n{'-' * 80}\")\n"
   ]
  },
  {
   "cell_type": "markdown",
   "metadata": {
    "id": "4Wv9f_bT9VWc"
   },
   "source": [
    "# Conclusion: Key Insights and Outcomes"
   ]
  },
  {
   "cell_type": "markdown",
   "metadata": {
    "id": "iO1W1Jh_9Re5"
   },
   "source": [
    "## Strengths of the System:\n",
    "\n",
    "* Accurate Retrieval: The retrieval function effectively identifies relevant foods based on the query, leveraging both semantic similarity and domain-specific filtering.\n",
    "\n",
    "* Flexibility: The system adapts to a variety of dietary needs, such as high-protein, low-carb, vegetarian, or bulking, offering tailored recommendations.\n",
    "\n",
    "* Diverse Nutritional Details: Responses include detailed nutritional information (calories, protein, carbs, fat) to help users make informed dietary choices.\n",
    "\n"
   ]
  },
  {
   "cell_type": "markdown",
   "metadata": {
    "id": "C7wEwTwT9fqr"
   },
   "source": [
    "## Challenges Observed:\n",
    "\n",
    "* Generic Outputs for Certain Prompts: Some responses, like for \"What are some high-protein snacks?\" lack specific food suggestions and instead provide generalized guidance.\n",
    "\n",
    "* Repetition: Similar or redundant foods appear across responses, such as nuts being repeatedly highlighted in different contexts.\n",
    "\n",
    "* Filtering Limitations: While domain-specific filters improve relevance, some responses still include borderline items that may not fully meet the query's intent (e.g., whole grains in a \"bulking\" context).\n",
    "\n"
   ]
  },
  {
   "cell_type": "markdown",
   "metadata": {
    "id": "VCUZqEhu9nZX"
   },
   "source": [
    "## Overall Performance:\n",
    "\n",
    "The system performs well in providing relevant suggestions, successfully bridging structured data retrieval.\n",
    "\n",
    "It demonstrates the capability of combining machine learning-based retrieval systems with LLMs like T5 for meaningful user interactions.\n"
   ]
  },
  {
   "cell_type": "markdown",
   "metadata": {
    "id": "9L7Yek4G9rY7"
   },
   "source": [
    "## Future Improvements:\n",
    "\n",
    "Enhance filtering mechanisms to better align retrieved items with query intents.\n",
    "\n",
    "Increase diversity and specificity in responses to avoid repetition and ensure broader coverage of the dataset.\n",
    "\n",
    "Fine-tune the T5 model further for domain-specific prompts to improve output precision and relevance.*\n",
    "\n",
    "This project successfully showcases how language models and retrieval systems can be combined to address user needs in a practical domain like nutrition, providing a strong foundation for future enhancements."
   ]
  },
  {
   "cell_type": "markdown",
   "metadata": {
    "id": "jLQAJudh-F_9"
   },
   "source": [
    "### * Tried to fine-tune this model generating conversational examples, but without success. The model still responses in the same way.\n",
    "\n",
    "Below some examples of output:"
   ]
  },
  {
   "cell_type": "markdown",
   "metadata": {
    "id": "omInH9OM-lEa"
   },
   "source": [
    "![Screenshot 2024-11-30 114925.png](data:image/png;base64,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)"
   ]
  },
  {
   "cell_type": "code",
   "execution_count": null,
   "metadata": {
    "id": "pstGVCspttzz"
   },
   "outputs": [],
   "source": []
  },
  {
   "cell_type": "code",
   "execution_count": null,
   "metadata": {
    "id": "TOroDcnatt2F"
   },
   "outputs": [],
   "source": []
  },
  {
   "cell_type": "code",
   "execution_count": null,
   "metadata": {
    "id": "8Tn6cpWvtt4U"
   },
   "outputs": [],
   "source": []
  }
 ],
 "metadata": {
  "accelerator": "GPU",
  "colab": {
   "gpuType": "T4",
   "provenance": []
  },
  "kernelspec": {
   "display_name": "Python 3",
   "name": "python3"
  },
  "language_info": {
   "name": "python"
  }
 },
 "nbformat": 4,
 "nbformat_minor": 0
}
